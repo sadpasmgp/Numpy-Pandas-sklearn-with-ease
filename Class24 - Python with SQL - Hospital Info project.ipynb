{
 "cells": [
  {
   "cell_type": "markdown",
   "metadata": {},
   "source": [
    "#### Python Database Programming Exercise: Hospital Information System"
   ]
  },
  {
   "cell_type": "markdown",
   "metadata": {},
   "source": [
    "In this exercise, We are implementing the Hospital Information System. We are using two SQL tables Hospital and Doctor. The SQL query to prepare the required tables is below."
   ]
  },
  {
   "cell_type": "markdown",
   "metadata": {},
   "source": [
    "SQL Data Model that we will use for this exercise\n",
    "\n",
    "    Hospital:\n",
    "    Hospital_Id(P)\n",
    "    Hospital_Name\n",
    "    Bed_Count\n",
    "    \n",
    "    Doctor:\n",
    "    Doctor_Id(P)\n",
    "    Doctor_Name\n",
    "    Hospital_id(F)\n",
    "    Joining_Date\n",
    "    Speciality\n",
    "    Salary\n",
    "    Experience"
   ]
  },
  {
   "cell_type": "markdown",
   "metadata": {},
   "source": [
    "#### First test the connection to MySQL"
   ]
  },
  {
   "cell_type": "code",
   "execution_count": 2,
   "metadata": {},
   "outputs": [
    {
     "name": "stdout",
     "output_type": "stream",
     "text": [
      "<mysql.connector.connection_cext.CMySQLConnection object at 0x0000023B134BCCC0>\n"
     ]
    }
   ],
   "source": [
    "import mysql.connector\n",
    "db_connection = mysql.connector.connect(\n",
    "  host=\"localhost\",\n",
    "  user=\"root\",\n",
    "  passwd=\"xxxxxxxxxxxx\"\n",
    ")\n",
    "print(db_connection)"
   ]
  },
  {
   "cell_type": "markdown",
   "metadata": {},
   "source": [
    "#### First we create a database to store this data:"
   ]
  },
  {
   "cell_type": "code",
   "execution_count": 4,
   "metadata": {},
   "outputs": [
    {
     "name": "stdout",
     "output_type": "stream",
     "text": [
      "('information_schema',)\n",
      "('medical_db',)\n",
      "('my_first_db',)\n",
      "('mysql',)\n",
      "('performance_schema',)\n",
      "('python_db',)\n",
      "('sakila',)\n",
      "('sys',)\n",
      "('world',)\n"
     ]
    }
   ],
   "source": [
    "import mysql.connector\n",
    "\n",
    "db_connection = mysql.connector.connect(\n",
    "  host=\"localhost\",\n",
    "  user=\"root\",\n",
    "  passwd=\"xxxxxxxxxxxx\"\n",
    ")\n",
    "\n",
    "# creating database_cursor to perform SQL operation\n",
    "db_cursor = db_connection.cursor()\n",
    "\n",
    "# executing cursor with execute method and pass SQL query\n",
    "db_cursor.execute(\"CREATE DATABASE Medical_DB\")\n",
    "\n",
    "# get list of all databases\n",
    "db_cursor.execute(\"SHOW DATABASES\")\n",
    "\n",
    "#print all databases\n",
    "for db in db_cursor:\n",
    "    print(db)\n"
   ]
  },
  {
   "cell_type": "code",
   "execution_count": 5,
   "metadata": {},
   "outputs": [
    {
     "name": "stdout",
     "output_type": "stream",
     "text": [
      "Start of a Python Database Programming Exercise\n",
      "\n",
      "Connected to MySQL database... MySQL Server version is  8.0.19\n",
      "Your connected to -  ('medical_db',)\n",
      "End of a Python Database Programming Exercise\n",
      "\n",
      "\n"
     ]
    }
   ],
   "source": [
    "import mysql.connector\n",
    "from mysql.connector import Error\n",
    "from mysql.connector import errorcode\n",
    "\n",
    "def getDbConnection():\n",
    "    #Get Database connection\n",
    "    try:\n",
    "        connection = mysql.connector.connect(host='localhost',\n",
    "                             database='medical_db',\n",
    "                             user='root',\n",
    "                             password=\"xxxxxxxxxxxx\")\n",
    "\n",
    "        return connection\n",
    "    except mysql.connector.Error as error :\n",
    "        print(\"Failed to connect to database {}\".format(error))\n",
    "\n",
    "def closeDbConnection(connection):\n",
    "    #Close Database connection\n",
    "    try:\n",
    "        connection.close()\n",
    "    except mysql.connector.Error as error :\n",
    "        print(\"Failed to close database connection {}\".format(error))\n",
    "\n",
    "def readDbVersion():\n",
    "    try:\n",
    "        connection = getDbConnection()\n",
    "        db_Info = connection.get_server_info()\n",
    "        print(\"Connected to MySQL database... MySQL Server version is \", db_Info)\n",
    "        cursor = connection.cursor()\n",
    "        cursor.execute(\"select database();\")\n",
    "        record = cursor.fetchone()\n",
    "        print(\"Your connected to - \", record)\n",
    "\n",
    "        closeDbConnection(connection)\n",
    "\n",
    "    except mysql.connector.Error as error :\n",
    "        print(\"Failed to read database version {}\".format(error))\n",
    "    \n",
    "print(\"Start of a Python Database Programming Exercise\\n\")\n",
    "\n",
    "readDbVersion()\n",
    "\n",
    "print(\"End of a Python Database Programming Exercise\\n\\n\")"
   ]
  },
  {
   "cell_type": "markdown",
   "metadata": {},
   "source": [
    "#### Create a Table in MySQL with Python\n",
    "\n",
    "CREATE TABLE `python_db`.`Hospital` ( `Hospital_Id` INT UNSIGNED NOT NULL , `Hospital_Name` TEXT NOT NULL , `Bed_Count` INT , \n",
    "PRIMARY KEY (`Hospital_Id`))\n",
    "\n",
    "INSERT INTO `hospital` (`Hospital_Id`, `Hospital_Name`, `Bed Count`) VALUES \n",
    "('1', 'Mayo Clinic', '200'), \n",
    "('2', 'Cleveland Clinic', '400'), \n",
    "('3', 'Johns Hopkins', '1000'), \n",
    "('4', 'UCLA Medical Center', '1500')"
   ]
  },
  {
   "cell_type": "code",
   "execution_count": 7,
   "metadata": {},
   "outputs": [
    {
     "name": "stdout",
     "output_type": "stream",
     "text": [
      "('hospital',)\n"
     ]
    }
   ],
   "source": [
    "import mysql.connector\n",
    "db_connection = mysql.connector.connect(\n",
    "  host=\"localhost\",\n",
    "  user=\"root\",\n",
    "  passwd=\"xxxxxxxxxxxx\",\n",
    "  database=\"medical_db\"\n",
    "  )\n",
    "\n",
    "db_cursor = db_connection.cursor()\n",
    "\n",
    "#Here creating database table as student'\n",
    "db_cursor.execute(\"CREATE TABLE medical_db.Hospital ( Hospital_Id INT UNSIGNED NOT NULL , Hospital_Name TEXT NOT NULL , Bed_Count INT , PRIMARY KEY (Hospital_Id))\")\n",
    "\n",
    "#Get database table'\n",
    "db_cursor.execute(\"SHOW TABLES\")\n",
    "for table in db_cursor:\n",
    "    print(table)"
   ]
  },
  {
   "cell_type": "code",
   "execution_count": 12,
   "metadata": {},
   "outputs": [
    {
     "name": "stdout",
     "output_type": "stream",
     "text": [
      "4 Record Inserted\n"
     ]
    }
   ],
   "source": [
    "import mysql.connector\n",
    "db_connection = mysql.connector.connect(\n",
    "  host=\"localhost\",\n",
    "  user=\"root\",\n",
    "  passwd=\"xxxxxxxxxxxx\",\n",
    "  database=\"medical_db\"\n",
    "  )\n",
    "\n",
    "db_cursor = db_connection.cursor()\n",
    "\n",
    "db_cursor.execute(\"INSERT INTO `hospital` (`Hospital_Id`, `Hospital_Name`, `Bed_Count`) VALUES \\\n",
    "('1', 'Mayo Clinic', '200'), \\\n",
    "('2', 'Cleveland Clinic', '400'), \\\n",
    "('3', 'Johns Hopkins', '1000'), \\\n",
    "('4', 'UCLA Medical Center', '1500')\")\n",
    "db_connection.commit()\n",
    "\n",
    "print(db_cursor.rowcount, \"Record Inserted\")"
   ]
  },
  {
   "cell_type": "markdown",
   "metadata": {},
   "source": [
    "#### Likewise create Doctor table and insert the records"
   ]
  },
  {
   "cell_type": "code",
   "execution_count": 16,
   "metadata": {},
   "outputs": [
    {
     "name": "stdout",
     "output_type": "stream",
     "text": [
      "('doctor',)\n",
      "('hospital',)\n"
     ]
    }
   ],
   "source": [
    "import mysql.connector\n",
    "db_connection = mysql.connector.connect(\n",
    "  host=\"localhost\",\n",
    "  user=\"root\",\n",
    "  passwd=\"xxxxxxxxxxxx\",\n",
    "  database=\"medical_db\"\n",
    "  )\n",
    "\n",
    "db_cursor = db_connection.cursor()\n",
    "\n",
    "#Here creating database table as student'\n",
    "db_cursor.execute(\"CREATE TABLE `medical_db`.`Doctor`( `Doctor_Id` INT UNSIGNED NOT NULL , `Doctor_Name` TEXT NOT NULL , `Hospital_Id` INT NOT NULL , \\\n",
    "`Joining_Date` DATE NOT NULL , \\\n",
    "`Speciality` TEXT NULL , \\\n",
    "`Salary` INT NULL , \\\n",
    "`Experience` INT NULL , \\\n",
    "PRIMARY KEY (`Doctor_Id`))\")\n",
    "\n",
    "#Get database table'\n",
    "db_cursor.execute(\"SHOW TABLES\")\n",
    "for table in db_cursor:\n",
    "    print(table)"
   ]
  },
  {
   "cell_type": "code",
   "execution_count": 17,
   "metadata": {},
   "outputs": [
    {
     "name": "stdout",
     "output_type": "stream",
     "text": [
      "8 Record Inserted\n"
     ]
    }
   ],
   "source": [
    "import mysql.connector\n",
    "db_connection = mysql.connector.connect(\n",
    "  host=\"localhost\",\n",
    "  user=\"root\",\n",
    "  passwd=\"xxxxxxxxxxxx\",\n",
    "  database=\"medical_db\"\n",
    "  )\n",
    "\n",
    "db_cursor = db_connection.cursor()\n",
    "\n",
    "db_cursor.execute(\"INSERT INTO `doctor` (`Doctor_Id`, `Doctor_Name`, `Hospital_Id`, `Joining_Date`, `Speciality`, `Salary`, `Experience`) VALUES \\\n",
    "('101', 'David', '1', '2005-2-10', 'Pediatric', '40000', NULL), \\\n",
    "('102', 'Michael', '1', '2018-07-23', 'Oncologist', '20000', NULL), \\\n",
    "('103', 'Susan', '2', '2016-05-19', 'Garnacologist', '25000', NULL), \\\n",
    "('104', 'Robert', '2', '2017-12-28', 'Pediatric ', '28000', NULL), \\\n",
    "('105', 'Linda', '3', '2004-06-04', 'Garnacologist', '42000', NULL), \\\n",
    "('106', 'William', '3', '2012-09-11', 'Dermatologist', '30000', NULL), \\\n",
    "('107', 'Richard', '4', '2014-08-21', 'Garnacologist', '32000', NULL), \\\n",
    "('108', 'Karen', '4', '2011-10-17', 'Radiologist', '30000', NULL)\")\n",
    "db_connection.commit()\n",
    "\n",
    "print(db_cursor.rowcount, \"Record Inserted\")"
   ]
  },
  {
   "cell_type": "markdown",
   "metadata": {},
   "source": [
    "#### Read given Hospital and Doctor Information"
   ]
  },
  {
   "cell_type": "markdown",
   "metadata": {},
   "source": [
    "Implement the functionality to read the details of a given doctor from doctor table and Hospital from hospital table. i.e., read records from Hospital and Doctor Table as per given hospital Id and Doctor Id and display hospital and doctor information."
   ]
  },
  {
   "cell_type": "code",
   "execution_count": 18,
   "metadata": {},
   "outputs": [
    {
     "name": "stdout",
     "output_type": "stream",
     "text": [
      "Start of a Python Database Programming Exercise\n",
      "\n",
      "\n",
      "Printing Hospital record\n",
      "Hospital Id: =  2\n",
      "Hospital Name: =  Cleveland Clinic\n",
      "Bed Count:  =  400 \n",
      "\n",
      "Printing Doctor record\n",
      "Doctor Id: =  105\n",
      "Doctor Name: =  Linda\n",
      "Hospital Id: =  3\n",
      "Joining Date: =  2004-06-04\n",
      "Speciality: =  Garnacologist\n",
      "Salary: =  42000\n",
      "Experience:  =  None \n",
      "\n",
      "End of a Python Database Programming Exercise\n",
      "\n",
      "\n"
     ]
    }
   ],
   "source": [
    "import mysql.connector\n",
    "from mysql.connector import Error\n",
    "from mysql.connector import errorcode\n",
    "\n",
    "def readHospitalDetails(hospital_Id):\n",
    "    #Read data from Hospital table\n",
    "    try:\n",
    "        #Call getDbConnection method to get connection. \n",
    "    #This method already provided in question 1\n",
    "    \n",
    "        connection = getDbConnection()\n",
    "        cursor = connection.cursor()\n",
    "        sql_select_query = \"\"\"select * from Hospital where Hospital_Id = %s\"\"\"\n",
    "        cursor.execute(sql_select_query, (hospital_Id, ))\n",
    "        records = cursor.fetchall()\n",
    "\n",
    "        print(\"Printing Hospital record\")\n",
    "        for row in records:\n",
    "            print(\"Hospital Id: = \", row[0], )\n",
    "            print(\"Hospital Name: = \", row[1])\n",
    "            print(\"Bed Count:  = \", row[2], \"\\n\")\n",
    "\n",
    "        #Close db connection\n",
    "        closeDbConnection(connection)\n",
    "\n",
    "    except mysql.connector.Error as error :\n",
    "        print(\"Failed to read hospital table {}\".format(error))\n",
    "\n",
    "def readDoctorDetails(doctor_Id):\n",
    "    # Read data from Doctor table\n",
    "    try:\n",
    "        # Call getDbConnection method to get connection\n",
    "        connection = getDbConnection()\n",
    "        cursor = connection.cursor()\n",
    "        sql_select_query = \"\"\"select * from Doctor where Doctor_Id = %s\"\"\"\n",
    "        cursor.execute(sql_select_query, (doctor_Id, ))\n",
    "        records = cursor.fetchall()\n",
    "\n",
    "        print(\"Printing Doctor record\")\n",
    "        for row in records:\n",
    "            print(\"Doctor Id: = \", row[0])\n",
    "            print(\"Doctor Name: = \", row[1])\n",
    "            print(\"Hospital Id: = \", row[2])\n",
    "            print(\"Joining Date: = \", row[3])\n",
    "            print(\"Speciality: = \", row[4])\n",
    "            print(\"Salary: = \", row[5])\n",
    "            print(\"Experience:  = \", row[6], \"\\n\")\n",
    "\n",
    "        # Close db connection\n",
    "        closeDbConnection(connection)\n",
    "\n",
    "    except mysql.connector.Error as error :\n",
    "        print(\"Failed to read Doctor table {}\".format(error))\n",
    "\n",
    "\n",
    "print(\"Start of a Python Database Programming Exercise\\n\\n\")\n",
    "\n",
    "readHospitalDetails(2)\n",
    "readDoctorDetails(105)\n",
    "\n",
    "print(\"End of a Python Database Programming Exercise\\n\\n\")"
   ]
  },
  {
   "cell_type": "markdown",
   "metadata": {},
   "source": [
    "#### Get List Of Doctors as per Speciality"
   ]
  },
  {
   "cell_type": "markdown",
   "metadata": {},
   "source": [
    "Implement the functionality to create a list of doctors as per given Speciality and salary greater than as per the input amount."
   ]
  },
  {
   "cell_type": "code",
   "execution_count": 19,
   "metadata": {},
   "outputs": [
    {
     "name": "stdout",
     "output_type": "stream",
     "text": [
      "Printing Doctors record as per given Speciality\n",
      "Doctor Id: =  105\n",
      "Doctor Name: =  Linda\n",
      "Hospital Id: =  3\n",
      "Joining Date: =  2004-06-04\n",
      "Speciality: =  Garnacologist\n",
      "Salary: =  42000\n",
      "Experience:  =  None \n",
      "\n",
      "Doctor Id: =  107\n",
      "Doctor Name: =  Richard\n",
      "Hospital Id: =  4\n",
      "Joining Date: =  2014-08-21\n",
      "Speciality: =  Garnacologist\n",
      "Salary: =  32000\n",
      "Experience:  =  None \n",
      "\n"
     ]
    }
   ],
   "source": [
    "import mysql.connector\n",
    "from mysql.connector import Error\n",
    "from mysql.connector import errorcode\n",
    "\n",
    "def getSpecialistDoctorsList(Speciality, Salary):\n",
    "    #Fetch doctor's details as per Speciality\n",
    "    try:\n",
    "        connection = getDbConnection()\n",
    "        cursor = connection.cursor()\n",
    "        sql_select_query = \"\"\"select * from Doctor where Speciality=%s and Salary > %s\"\"\"\n",
    "        cursor.execute(sql_select_query, (Speciality, Salary))\n",
    "        records = cursor.fetchall()\n",
    "\n",
    "        print(\"Printing Doctors record as per given Speciality\")\n",
    "        for row in records:\n",
    "            print(\"Doctor Id: = \", row[0])\n",
    "            print(\"Doctor Name: = \", row[1])\n",
    "            print(\"Hospital Id: = \", row[2])\n",
    "            print(\"Joining Date: = \", row[3])\n",
    "            print(\"Speciality: = \", row[4])\n",
    "            print(\"Salary: = \", row[5])\n",
    "            print(\"Experience:  = \", row[6], \"\\n\")\n",
    "\n",
    "        closeDbConnection(connection)\n",
    "\n",
    "    except mysql.connector.Error as error :\n",
    "        print(\"Failed to read doctor's data {}\".format(error))\n",
    "\n",
    "\n",
    "getSpecialistDoctorsList(\"Garnacologist\", 30000)\n",
    "\n"
   ]
  },
  {
   "cell_type": "markdown",
   "metadata": {},
   "source": [
    "#### Get List of doctors within a given Hospital"
   ]
  },
  {
   "cell_type": "code",
   "execution_count": 20,
   "metadata": {},
   "outputs": [
    {
     "name": "stdout",
     "output_type": "stream",
     "text": [
      "Printing Doctors Within given Hospital\n",
      "Doctor Id: =  103\n",
      "Doctor Name: =  Susan\n",
      "Hospital Id: =  2\n",
      "Hospital Name: =  Cleveland Clinic\n",
      "Joining Date: =  2016-05-19\n",
      "Speciality: =  Garnacologist\n",
      "Salary: =  25000\n",
      "Experience:  =  None \n",
      "\n",
      "Doctor Id: =  104\n",
      "Doctor Name: =  Robert\n",
      "Hospital Id: =  2\n",
      "Hospital Name: =  Cleveland Clinic\n",
      "Joining Date: =  2017-12-28\n",
      "Speciality: =  Pediatric \n",
      "Salary: =  28000\n",
      "Experience:  =  None \n",
      "\n"
     ]
    }
   ],
   "source": [
    "import mysql.connector\n",
    "from mysql.connector import Error\n",
    "from mysql.connector import errorcode\n",
    "\n",
    "def getHospitalName(HospitalId):\n",
    "    #Fetch Hospital Name using Hospital Id\n",
    "    try:\n",
    "        connection = getDbConnection()\n",
    "        cursor = connection.cursor()\n",
    "        sql_select_query = \"\"\"select * from Hospital where Hospital_Id = %s\"\"\"\n",
    "        cursor.execute(sql_select_query, (HospitalId, ))\n",
    "        record = cursor.fetchone()\n",
    "        closeDbConnection(connection)\n",
    "        return record[1]\n",
    "    except mysql.connector.Error as error :\n",
    "        print(\"Failed to read hospital data {}\".format(error))\n",
    "\n",
    "def GetDoctordWithinHospital(hospitalId):\n",
    "    #Fetch All doctors within given Hospital\n",
    "    try:\n",
    "        connection = getDbConnection()\n",
    "        cursor = connection.cursor()\n",
    "        sql_select_query = \"\"\"select * from Doctor where Hospital_Id = %s\"\"\"\n",
    "        cursor.execute(sql_select_query, (hospitalId, ))\n",
    "        records = cursor.fetchall()\n",
    "\n",
    "        print(\"Printing Doctors Within given Hospital\")\n",
    "        for row in records:\n",
    "            print(\"Doctor Id: = \", row[0])\n",
    "            print(\"Doctor Name: = \", row[1])\n",
    "            print(\"Hospital Id: = \", row[2])\n",
    "            hospitalName = getHospitalName(row[2])\n",
    "            print(\"Hospital Name: = \", hospitalName)\n",
    "            print(\"Joining Date: = \", row[3])\n",
    "            print(\"Speciality: = \", row[4])\n",
    "            print(\"Salary: = \", row[5])\n",
    "            print(\"Experience:  = \", row[6], \"\\n\")\n",
    "        closeDbConnection(connection)\n",
    "    except mysql.connector.Error as error :\n",
    "        print(\"Failed to read doctor's data within Hospital {}\".format(error))\n",
    "\n",
    "GetDoctordWithinHospital(2)\n",
    "\n"
   ]
  },
  {
   "cell_type": "markdown",
   "metadata": {},
   "source": [
    "#### update doctor experience in years"
   ]
  },
  {
   "cell_type": "code",
   "execution_count": 21,
   "metadata": {},
   "outputs": [
    {
     "name": "stdout",
     "output_type": "stream",
     "text": [
      "101 Doctor experience updated to  15  years\n"
     ]
    }
   ],
   "source": [
    "import mysql.connector\n",
    "from mysql.connector import Error\n",
    "from mysql.connector import errorcode\n",
    "import datetime\n",
    "from dateutil.relativedelta import relativedelta\n",
    "\n",
    "def getDoctorJoiningDate(DoctorId):\n",
    "    #Get Doctor's joning date using doctor ID\n",
    "    try:\n",
    "        connection = getDbConnection()\n",
    "        cursor = connection.cursor()\n",
    "        sql_select_query = \"\"\"select Joining_Date from Doctor where Doctor_Id = %s\"\"\"\n",
    "        cursor.execute(sql_select_query, (DoctorId, ))\n",
    "        joinDate = cursor.fetchone()\n",
    "        closeDbConnection(connection)\n",
    "        return joinDate\n",
    "    except mysql.connector.Error as error :\n",
    "        print(\"Failed to read hospital data {}\".format(error))\n",
    "\n",
    "def updateDoctorsExperience(doctorId):\n",
    "    #Update Doctor Experience in Years\n",
    "    try:\n",
    "        #Get joining date\n",
    "        joiningDate = getDoctorJoiningDate(doctorId)\n",
    "    \n",
    "    #calculate Experience in years\n",
    "        joiningDate = datetime.datetime.strptime(''.join(map(str, joiningDate)), '%Y-%m-%d')\n",
    "        todays_Date = datetime.datetime.now()\n",
    "        Experience_in_years = relativedelta(todays_Date, joiningDate).years\n",
    "\n",
    "        #Update doctor's Experience now\n",
    "        connection = getDbConnection()\n",
    "        cursor = connection.cursor()\n",
    "        sql_select_query = \"\"\"update Doctor set Experience = %s where Doctor_Id =%s\"\"\"\n",
    "        cursor.execute(sql_select_query, (Experience_in_years, doctorId))\n",
    "        connection.commit()\n",
    "        print(doctorId, \"Doctor experience updated to \", Experience_in_years,\" years\")\n",
    "        closeDbConnection(connection)\n",
    "\n",
    "    except mysql.connector.Error as error :\n",
    "        connection.rollback()\n",
    "        print(\"Failed to read doctor's data {}\".format(error))\n",
    "\n",
    "updateDoctorsExperience(101)\n"
   ]
  },
  {
   "cell_type": "markdown",
   "metadata": {},
   "source": [
    "#### Display all records from both Hospital and Doctor tables"
   ]
  },
  {
   "cell_type": "code",
   "execution_count": 22,
   "metadata": {},
   "outputs": [
    {
     "name": "stdout",
     "output_type": "stream",
     "text": [
      "[(1, 'Mayo Clinic', 200), (2, 'Cleveland Clinic', 400), (3, 'Johns Hopkins', 1000), (4, 'UCLA Medical Center', 1500)]\n"
     ]
    }
   ],
   "source": [
    "import mysql.connector\n",
    "db_connection = mysql.connector.connect(\n",
    "  host=\"localhost\",\n",
    "  user=\"root\",\n",
    "  passwd=\"xxxxxxxxxxxx\",\n",
    "  database=\"medical_db\"\n",
    "  )\n",
    "db_cursor = db_connection.cursor()\n",
    "sql_select_query = \"\"\"select * from hospital\"\"\"\n",
    "db_cursor.execute(sql_select_query)\n",
    "records = db_cursor.fetchall()\n",
    "print(records)"
   ]
  },
  {
   "cell_type": "code",
   "execution_count": 23,
   "metadata": {},
   "outputs": [
    {
     "name": "stdout",
     "output_type": "stream",
     "text": [
      "[(101, 'David', 1, datetime.date(2005, 2, 10), 'Pediatric', 40000, 15), (102, 'Michael', 1, datetime.date(2018, 7, 23), 'Oncologist', 20000, None), (103, 'Susan', 2, datetime.date(2016, 5, 19), 'Garnacologist', 25000, None), (104, 'Robert', 2, datetime.date(2017, 12, 28), 'Pediatric ', 28000, None), (105, 'Linda', 3, datetime.date(2004, 6, 4), 'Garnacologist', 42000, None), (106, 'William', 3, datetime.date(2012, 9, 11), 'Dermatologist', 30000, None), (107, 'Richard', 4, datetime.date(2014, 8, 21), 'Garnacologist', 32000, None), (108, 'Karen', 4, datetime.date(2011, 10, 17), 'Radiologist', 30000, None)]\n"
     ]
    }
   ],
   "source": [
    "import mysql.connector\n",
    "db_connection = mysql.connector.connect(\n",
    "  host=\"localhost\",\n",
    "  user=\"root\",\n",
    "  passwd=\"xxxxxxxxxxxx\",\n",
    "  database=\"medical_db\"\n",
    "  )\n",
    "db_cursor = db_connection.cursor()\n",
    "sql_select_query = \"\"\"select * from doctor\"\"\"\n",
    "db_cursor.execute(sql_select_query)\n",
    "records = db_cursor.fetchall()\n",
    "print(records)"
   ]
  },
  {
   "cell_type": "markdown",
   "metadata": {},
   "source": [
    "End of simple project, \n",
    "\n",
    "    In this project we have created database called medical_db\n",
    "    Then we have created 2 tables called hospital and doctor\n",
    "    Then we have inserted rows of data into the tables\n",
    "    Then we have updated experience for doctors\n",
    "    then we have displayed all the rows form both tables"
   ]
  },
  {
   "cell_type": "markdown",
   "metadata": {},
   "source": [
    "Further we cna also convert those records into dataframes using pandas and then wer can do further analysis if required."
   ]
  }
 ],
 "metadata": {
  "kernelspec": {
   "display_name": "Python 3",
   "language": "python",
   "name": "python3"
  },
  "language_info": {
   "codemirror_mode": {
    "name": "ipython",
    "version": 3
   },
   "file_extension": ".py",
   "mimetype": "text/x-python",
   "name": "python",
   "nbconvert_exporter": "python",
   "pygments_lexer": "ipython3",
   "version": "3.7.3"
  }
 },
 "nbformat": 4,
 "nbformat_minor": 2
}
