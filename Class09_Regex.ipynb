{
 "cells": [
  {
   "cell_type": "markdown",
   "metadata": {},
   "source": [
    "#### Python RegEx"
   ]
  },
  {
   "cell_type": "markdown",
   "metadata": {},
   "source": [
    "A Regular Expression (RegEx) is a sequence of characters that defines a search pattern. For example,"
   ]
  },
  {
   "cell_type": "markdown",
   "metadata": {},
   "source": [
    "^a...s$"
   ]
  },
  {
   "cell_type": "markdown",
   "metadata": {},
   "source": [
    "The above code defines a RegEx pattern. The pattern is: any five letter string starting with a and ending with s.\n",
    "\n",
    "A pattern defined using RegEx can be used to match against a string."
   ]
  },
  {
   "cell_type": "markdown",
   "metadata": {},
   "source": [
    "^a...s$ can match alias abyss etc"
   ]
  },
  {
   "cell_type": "markdown",
   "metadata": {},
   "source": [
    "Python has a module named re to work with RegEx. Here's an example:"
   ]
  },
  {
   "cell_type": "code",
   "execution_count": 2,
   "metadata": {},
   "outputs": [
    {
     "name": "stdout",
     "output_type": "stream",
     "text": [
      "Search successful.\n"
     ]
    }
   ],
   "source": [
    "import re\n",
    "\n",
    "pattern = '^a...s$'\n",
    "test_string = 'abyss'\n",
    "result = re.match(pattern, test_string)\n",
    "\n",
    "if result:\n",
    "    print(\"Search successful.\")\n",
    "else:\n",
    "    print(\"Search unsuccessful.\")"
   ]
  },
  {
   "cell_type": "markdown",
   "metadata": {},
   "source": [
    "Here, we used re.match() function to search pattern within the test_string. The method returns a match object if the search is successful. If not, it returns None."
   ]
  },
  {
   "cell_type": "markdown",
   "metadata": {},
   "source": [
    "There are other several functions defined in the re module to work with RegEx. Before we explore that, let's learn about regular expressions themselves."
   ]
  },
  {
   "cell_type": "markdown",
   "metadata": {},
   "source": [
    "#### Specify Pattern Using RegEx\n",
    "\n",
    "To specify regular expressions, metacharacters are used. In the above example, ^ and $ are metacharacters."
   ]
  },
  {
   "cell_type": "markdown",
   "metadata": {},
   "source": [
    "#### MetaCharacters\n",
    "\n",
    "Metacharacters are characters that are interpreted in a special way by a RegEx engine. Here's a list of metacharacters:\n",
    "\n",
    "[] . ^ $ * + ? {} () \\ |"
   ]
  },
  {
   "cell_type": "markdown",
   "metadata": {},
   "source": [
    "#### [] - Square brackets\n",
    "\n",
    "Square brackets specifies a set of characters you wish to match."
   ]
  },
  {
   "cell_type": "markdown",
   "metadata": {},
   "source": [
    "Here, [abc] will match if the string you are trying to match contains any of the a, b or c.\n",
    "\n",
    "You can also specify a range of characters using - inside square brackets.\n",
    "\n",
    "    [a-e] is the same as [abcde].\n",
    "    [1-4] is the same as [1234].\n",
    "    [0-39] is the same as [01239].\n",
    "\n",
    "You can complement (invert) the character set by using caret ^ symbol at the start of a square-bracket.\n",
    "\n",
    "    [^abc] means any character except a or b or c.\n",
    "    [^0-9] means any non-digit character.\n"
   ]
  },
  {
   "cell_type": "markdown",
   "metadata": {},
   "source": [
    "#### . - Period\n",
    "\n",
    "A period matches any single character (except newline '\\n')."
   ]
  },
  {
   "cell_type": "markdown",
   "metadata": {},
   "source": [
    "..   matches ac or acd or acde as it has 2 matches (contains 4 characters)"
   ]
  },
  {
   "cell_type": "markdown",
   "metadata": {},
   "source": [
    "#### ^ - Caret\n",
    "\n",
    "The caret symbol ^ is used to check if a string starts with a certain character.\n",
    "\n",
    "\t\n",
    "    Expression        String        Matched?\n",
    "\t\t\n",
    "    ^a                a              1 match\n",
    "\t\t\n",
    "                    abc\t\t\t\t1 match\t\t\n",
    "\n",
    "\t\t\t\t\tbac\t\t\t\tNo match\n",
    "\t\t\n",
    "\n",
    "\t\t\n",
    "\t^ab\t\t\t\tabc\t\t\t\t1 match\n",
    "\t\t\n",
    "\t\t\t\t    acb\t\t\t\tNo match (starts with a but not followed by b)"
   ]
  },
  {
   "cell_type": "markdown",
   "metadata": {},
   "source": [
    "#### $ - Dollar\n",
    "\n",
    "The dollar symbol $ is used to check if a string ends with a certain character.\n",
    "\n",
    "\t\tExpression\t\t\t\tString\t\t\t\tMatched?\n",
    "\t\t\n",
    "\n",
    "\t\t\ta$\t\t\t\ta\t\t\t\t1 match\n",
    "\t\t\n",
    "                        formula\t\t\t\t1 match\n",
    "\t\t\n",
    "                            cab\t\t\t\tNo match"
   ]
  },
  {
   "cell_type": "markdown",
   "metadata": {},
   "source": [
    "#### * - Star\n",
    "\n",
    "The star symbol * matches zero or more occurrences of the pattern left to it.\n",
    "\n",
    "\t\t\t\n",
    "\tExpression\t\t\t\tString\t\t\t\tMatched?\n",
    "\t\t\n",
    "\t\n",
    "\t\tma*n\t\t\t\tmn\t\t\t\t1 match\n",
    "\n",
    "                            man\t\t\t\t1 match\n",
    "                            \n",
    "                            maaan           1 match\n",
    "\t\t\n",
    "                           main\t\t\tNo match(a is not followed by n)\n",
    "\n",
    "                           woman\t    \t1 match"
   ]
  },
  {
   "cell_type": "markdown",
   "metadata": {},
   "source": [
    "#### + - Plus\n",
    "\n",
    "The plus symbol + matches one or more occurrences of the pattern left to it.\n",
    "\n",
    "\t\n",
    "\t\t\n",
    "\t\t\tExpression\n",
    "\t\t\t\tString\n",
    "\t\t\t\tMatched?\n",
    "\t\t\n",
    "\n",
    "\t\n",
    "\t\n",
    "\t\t\n",
    "\t\t\tma+n\n",
    "\t\t\t\tmn\n",
    "\t\t\t\tNo match (no a character)\n",
    "\t\t\n",
    "\n",
    "\t\t\n",
    "\t\t\tman\n",
    "\t\t\t\t1 match\n",
    "\t\t\n",
    "\n",
    "\t\t\n",
    "\t\t\tmaaan\n",
    "\t\t\t\t1 match\n",
    "\t\t\n",
    "\n",
    "\t\t\n",
    "\t\t\tmain\n",
    "\t\t\t\tNo match (a is not followed by n)\n",
    "\t\t\n",
    "\n",
    "\t\t\n",
    "\t\t\twoman\n",
    "\t\t\t\t1 match"
   ]
  },
  {
   "cell_type": "markdown",
   "metadata": {},
   "source": [
    "#### ? - Question Mark\n",
    "\n",
    "The question mark symbol ? matches zero or one occurrence of the pattern left to it.\n",
    "\n",
    "\t\n",
    "\t\t\n",
    "\t\t\tExpression\n",
    "\t\t\t\tString\n",
    "\t\t\t\tMatched?\n",
    "\t\t\n",
    "\n",
    "\t\n",
    "\t\n",
    "\t\t\n",
    "\t\t\tma?n\n",
    "\t\t\t\tmn\n",
    "\t\t\t\t1 match\n",
    "\t\t\n",
    "\n",
    "\t\t\n",
    "\t\t\tman\n",
    "\t\t\t\t1 match\n",
    "\t\t\n",
    "\n",
    "\t\t\n",
    "\t\t\tmaaan\n",
    "\t\t\t\tNo match (more than one a character)\n",
    "\t\t\n",
    "\n",
    "\t\t\n",
    "\t\t\tmain\n",
    "\t\t\t\tNo match (a is not followed by n)\n",
    "\t\t\n",
    "\n",
    "\t\t\n",
    "\t\t\twoman\n",
    "\t\t\t\t1 match"
   ]
  },
  {
   "cell_type": "markdown",
   "metadata": {},
   "source": [
    "#### {} - Braces\n",
    "\n",
    "Consider this code: {n,m}. This means at least n, and at most m repetitions of the pattern left to it.\n",
    "\n",
    "\t\n",
    "\t\t\n",
    "\t\t\tExpression\n",
    "\t\t\t\tString\n",
    "\t\t\t\tMatched?\n",
    "\t\t\n",
    "\n",
    "\t\n",
    "\t\n",
    "\t\t\n",
    "\t\t\ta{2,3}\n",
    "\t\t\t\tabc dat\n",
    "\t\t\t\tNo match\n",
    "\t\t\n",
    "\n",
    "\t\t\n",
    "\t\t\tabc daat\n",
    "\t\t\t\t1 match (at daat)\n",
    "\t\t\n",
    "\n",
    "\t\t\n",
    "\t\t\taabc daaat\n",
    "\t\t\t\t2 matches (at aabc and daaat)\n",
    "\t\t\n",
    "\n",
    "\t\t\n",
    "\t\t\taabc daaaat\n",
    "\t\t\t\t2 matches (at aabc and daaaat)"
   ]
  },
  {
   "cell_type": "markdown",
   "metadata": {},
   "source": [
    "Let's try one more example. This RegEx [0-9]{2, 4} matches at least 2 digits but not more than 4 digits\n",
    "\n",
    "\t\n",
    "\t\t\n",
    "\t\t\tExpression\n",
    "\t\t\t\tString\n",
    "\t\t\t\tMatched?\n",
    "\t\t\n",
    "\n",
    "\t\n",
    "\t\n",
    "\t\t\n",
    "\t\t\t[0-9]{2,4}\n",
    "\t\t\t\tab123csde\n",
    "\t\t\t\t1 match (match at ab123csde)\n",
    "\t\t\n",
    "\n",
    "\t\t\n",
    "\t\t\t12 and 345673\n",
    "\t\t\t\t2 matches (at 12 and 345673)\n",
    "\t\t\n",
    "\n",
    "\t\t\n",
    "\t\t\t1 and 2\n",
    "\t\t\t\tNo match"
   ]
  },
  {
   "cell_type": "markdown",
   "metadata": {},
   "source": [
    "#### | - Alternation\n",
    "\n",
    "Vertical bar | is used for alternation (or operator).\n",
    "\n",
    "\t\n",
    "\t\t\n",
    "\t\t\tExpression\n",
    "\t\t\t\tString\n",
    "\t\t\t\tMatched?\n",
    "\t\t\n",
    "\n",
    "\t\n",
    "\t\n",
    "\t\t\n",
    "\t\t\ta|b\n",
    "\t\t\t\tcde\n",
    "\t\t\t\tNo match\n",
    "\t\t\n",
    "\n",
    "\t\t\n",
    "\t\t\tade\n",
    "\t\t\t\t1 match (match at ade)\n",
    "\t\t\n",
    "\n",
    "\t\t\n",
    "\t\t\tacdbea\n",
    "\t\t\t\t3 matches (at acdbea)"
   ]
  },
  {
   "cell_type": "markdown",
   "metadata": {},
   "source": [
    "#### () - Group\n",
    "\n",
    "Parentheses () is used to group sub-patterns. For example, (a|b|c)xz match any string that matches either a or b or c followed by xz\n",
    "\n",
    "\t\n",
    "\t\t\n",
    "\t\t\tExpression\n",
    "\t\t\t\tString\n",
    "\t\t\t\tMatched?\n",
    "\t\t\n",
    "\n",
    "\t\n",
    "\t\n",
    "\t\t\n",
    "\t\t\t(a|b|c)xz\n",
    "\t\t\t\tab xz\n",
    "\t\t\t\tNo match\n",
    "\t\t\n",
    "\n",
    "\t\t\n",
    "\t\t\tabxz\n",
    "\t\t\t\t1 match (match at abxz)\n",
    "\t\t\n",
    "\n",
    "\t\t\n",
    "\t\t\taxz cabxz\n",
    "\t\t\t\t2 matches (at axzbc cabxz)"
   ]
  },
  {
   "cell_type": "markdown",
   "metadata": {},
   "source": [
    "#### \\ - Backslash\n",
    "\n",
    "Backlash \\ is used to escape various characters including all metacharacters. \n",
    "\n",
    "For example,\n",
    "\n",
    "\\$a match if a string contains $ followed by a. Here, $ is not interpreted by a RegEx engine in a special way.\n",
    "\n",
    "If you are unsure if a character has special meaning or not, you can put \\ in front of it. This makes sure the character is not treated in a special way."
   ]
  },
  {
   "cell_type": "markdown",
   "metadata": {},
   "source": [
    "#### Special Sequences\n",
    "\n",
    "Special sequences make commonly used patterns easier to write. Here's a list of special sequences:\n",
    "\n",
    "\\A - Matches if the specified characters are at the start of a string.\n",
    "\n",
    "\t\n",
    "\t\t\n",
    "\t\t\tExpression\n",
    "\t\t\t\tString\n",
    "\t\t\t\tMatched?\n",
    "\t\t\n",
    "\n",
    "\t\n",
    "\t\n",
    "\t\t\n",
    "\t\t\t\\Athe\n",
    "\t\t\t\tthe sun\n",
    "\t\t\t\tMatch\n",
    "\t\t\n",
    "\n",
    "\t\t\n",
    "\t\t\tIn the sun\n",
    "\t\t\t\tNo match"
   ]
  },
  {
   "cell_type": "markdown",
   "metadata": {},
   "source": [
    "\\b - Matches if the specified characters are at the beginning or end of a word.\n",
    "\n",
    "\t\n",
    "\t\t\n",
    "\t\t\tExpression\n",
    "\t\t\t\tString\n",
    "\t\t\t\tMatched?\n",
    "\t\t\n",
    "\n",
    "\t\n",
    "\t\n",
    "\t\t\n",
    "\t\t\t\\bfoo\n",
    "\t\t\t\tfootball\n",
    "\t\t\t\tMatch\n",
    "\t\t\n",
    "\n",
    "\t\t\n",
    "\t\t\ta football\n",
    "\t\t\t\tMatch\n",
    "\t\t\n",
    "\n",
    "\t\t\n",
    "\t\t\tafootball\n",
    "\t\t\t\tNo match\n",
    "\t\t\n",
    "\n",
    "\t\t\n",
    "\t\t\tfoo\\b\n",
    "\t\t\t\tthe foo\n",
    "\t\t\t\tMatch\n",
    "\t\t\n",
    "\n",
    "\t\t\n",
    "\t\t\tthe afoo test\n",
    "\t\t\t\tMatch\n",
    "\t\t\n",
    "\n",
    "\t\t\n",
    "\t\t\tthe afootest\n",
    "\t\t\t\tNo match"
   ]
  },
  {
   "cell_type": "markdown",
   "metadata": {},
   "source": [
    "\\B - Opposite of \\b. Matches if the specified characters are not at the beginning or end of a word.\n",
    "\n",
    "\t\n",
    "\t\t\n",
    "\t\t\tExpression\n",
    "\t\t\t\tString\n",
    "\t\t\t\tMatched?\n",
    "\t\t\n",
    "\n",
    "\t\n",
    "\t\n",
    "\t\t\n",
    "\t\t\t\\Bfoo\n",
    "\t\t\t\tfootball\n",
    "\t\t\t\tNo match\n",
    "\t\t\n",
    "\n",
    "\t\t\n",
    "\t\t\ta football\n",
    "\t\t\t\tNo match\n",
    "\t\t\n",
    "\n",
    "\t\t\n",
    "\t\t\tafootball\n",
    "\t\t\t\tMatch\n",
    "\t\t\n",
    "\n",
    "\t\t\n",
    "\t\t\tfoo\\B\n",
    "\t\t\t\tthe foo\n",
    "\t\t\t\tNo match\n",
    "\t\t\n",
    "\n",
    "\t\t\n",
    "\t\t\tthe afoo test\n",
    "\t\t\t\tNo match\n",
    "\t\t\n",
    "\n",
    "\t\t\n",
    "\t\t\tthe afootest\n",
    "\t\t\t\tMatch"
   ]
  },
  {
   "cell_type": "markdown",
   "metadata": {},
   "source": [
    "\\d - Matches any decimal digit. Equivalent to [0-9]\n",
    "\n",
    "\t\n",
    "\t\t\n",
    "\t\t\tExpression\n",
    "\t\t\t\tString\n",
    "\t\t\t\tMatched?\n",
    "\t\t\n",
    "\n",
    "\t\n",
    "\t\n",
    "\t\t\n",
    "\t\t\t\\d\n",
    "\t\t\t\t12abc3\n",
    "\t\t\t\t3 matches (at 12abc3)\n",
    "\t\t\n",
    "\n",
    "\t\t\n",
    "\t\t\tPython\n",
    "\t\t\t\tNo match\n",
    "\t\t\n",
    "\n",
    "\t\n",
    "\n",
    "\\D - Matches any non-decimal digit. Equivalent to [^0-9]\n",
    "\n",
    "\t\n",
    "\t\t\n",
    "\t\t\tExpression\n",
    "\t\t\t\tString\n",
    "\t\t\t\tMatched?\n",
    "\t\t\n",
    "\n",
    "\t\n",
    "\t\n",
    "\t\t\n",
    "\t\t\t\\D\n",
    "\t\t\t\t1ab34\"50\n",
    "\t\t\t\t3 matches (at 1ab34\"50)\n",
    "\t\t\n",
    "\n",
    "\t\t\n",
    "\t\t\t1345\n",
    "\t\t\t\tNo match"
   ]
  },
  {
   "cell_type": "markdown",
   "metadata": {},
   "source": [
    "\\s - Matches where a string contains any whitespace character. Equivalent to [ \\t\\n\\r\\f\\v].\n",
    "\n",
    "\t\n",
    "\t\t\n",
    "\t\t\tExpression\n",
    "\t\t\t\tString\n",
    "\t\t\t\tMatched?\n",
    "\t\t\n",
    "\n",
    "\t\n",
    "\t\n",
    "\t\t\n",
    "\t\t\t\\s\n",
    "\t\t\t\tPython RegEx\n",
    "\t\t\t\t1 match\n",
    "\t\t\n",
    "\n",
    "\t\t\n",
    "\t\t\tPythonRegEx\n",
    "\t\t\t\tNo match\n",
    "\t\t\n",
    "\n",
    "\t\n",
    "\n",
    "\\S - Matches where a string contains any non-whitespace character. Equivalent to [^ \\t\\n\\r\\f\\v].\n",
    "\n",
    "\t\n",
    "\t\t\n",
    "\t\t\tExpression\n",
    "\t\t\t\tString\n",
    "\t\t\t\tMatched?\n",
    "\t\t\n",
    "\n",
    "\t\n",
    "\t\n",
    "\t\t\n",
    "\t\t\t\\S\n",
    "\t\t\t\ta b\n",
    "\t\t\t\t2 matches (at  a b)\n",
    "\t\t\n",
    "\n",
    "\t\t\n",
    "\t\t\t   \n",
    "\t\t\t\tNo match"
   ]
  },
  {
   "cell_type": "markdown",
   "metadata": {},
   "source": [
    "\\w - Matches any alphanumeric character (digits and alphabets). Equivalent to [a-zA-Z0-9_]. By the way, underscore _ is also considered an alphanumeric character.\n",
    "\n",
    "\t\n",
    "\t\t\n",
    "\t\t\tExpression\n",
    "\t\t\t\tString\n",
    "\t\t\t\tMatched?\n",
    "\t\t\n",
    "\n",
    "\t\n",
    "\t\n",
    "\t\t\n",
    "\t\t\t\\w\n",
    "\t\t\t\t12&\": ;c \n",
    "\t\t\t\t3 matches (at 12&\": ;c)\n",
    "\t\t\n",
    "\n",
    "\t\t\n",
    "\t\t\t%\"> !\n",
    "\t\t\t\tNo match\n",
    "\t\t\n",
    "\n",
    "\t\n",
    "\n",
    "\\W - Matches any non-alphanumeric character. Equivalent to [^a-zA-Z0-9_]\n",
    "\n",
    "\t\n",
    "\t\t\n",
    "\t\t\tExpression\n",
    "\t\t\t\tString\n",
    "\t\t\t\tMatched?\n",
    "\t\t\n",
    "\n",
    "\t\n",
    "\t\n",
    "\t\t\n",
    "\t\t\t\\W\n",
    "\t\t\t\t1a2%c\n",
    "\t\t\t\t1 match (at 1a2%c)\n",
    "\t\t\n",
    "\n",
    "\t\t\n",
    "\t\t\tPython\n",
    "\t\t\t\tNo match"
   ]
  },
  {
   "cell_type": "markdown",
   "metadata": {},
   "source": [
    "\\Z - Matches if the specified characters are at the end of a string.\n",
    "\n",
    "\t\n",
    "\t\t\n",
    "\t\t\tExpression\n",
    "\t\t\t\tString\n",
    "\t\t\t\tMatched?\n",
    "\t\t\n",
    "\n",
    "\t\n",
    "\t\n",
    "\t\t\n",
    "\t\t\t\\ZPython\n",
    "\t\t\t\tI like Python\n",
    "\t\t\t\t1 match\n",
    "\t\t\n",
    "\n",
    "\t\t\n",
    "\t\t\tI like Python\n",
    "\t\t\t\tNo match\n",
    "\t\t\n",
    "\n",
    "\t\t\n",
    "\t\t\tPython is fun.\n",
    "\t\t\t\tNo match"
   ]
  },
  {
   "cell_type": "markdown",
   "metadata": {},
   "source": [
    "#### Python RegEx\n",
    "\n",
    "Python has a module named re to work with regular expressions. To use it, we need to import the module.\n",
    "\n",
    "import re\n",
    "\n",
    "The module defines several functions and constants to work with RegEx."
   ]
  },
  {
   "cell_type": "markdown",
   "metadata": {},
   "source": [
    "#### re.findall()\n",
    "\n",
    "The re.findall() method returns a list of strings containing all matches."
   ]
  },
  {
   "cell_type": "code",
   "execution_count": 3,
   "metadata": {},
   "outputs": [
    {
     "name": "stdout",
     "output_type": "stream",
     "text": [
      "['12', '89', '34']\n"
     ]
    }
   ],
   "source": [
    "import re\n",
    "\n",
    "string = 'hello 12 hi 89. Howdy 34'\n",
    "pattern = '\\d+'\n",
    "\n",
    "result = re.findall(pattern, string) \n",
    "print(result)\n"
   ]
  },
  {
   "cell_type": "markdown",
   "metadata": {},
   "source": [
    "#### re.split()\n",
    "\n",
    "The re.split method splits the string where there is a match and returns a list of strings where the splits have occurred."
   ]
  },
  {
   "cell_type": "code",
   "execution_count": 4,
   "metadata": {},
   "outputs": [
    {
     "name": "stdout",
     "output_type": "stream",
     "text": [
      "['Twelve:', ' Eighty nine:', '.']\n"
     ]
    }
   ],
   "source": [
    "import re\n",
    "\n",
    "string = 'Twelve:12 Eighty nine:89.'\n",
    "pattern = '\\d+'\n",
    "\n",
    "result = re.split(pattern, string) \n",
    "print(result)"
   ]
  },
  {
   "cell_type": "markdown",
   "metadata": {},
   "source": [
    "You can pass maxsplit argument to the re.split() method. It's the maximum number of splits that will occur."
   ]
  },
  {
   "cell_type": "code",
   "execution_count": 5,
   "metadata": {},
   "outputs": [
    {
     "name": "stdout",
     "output_type": "stream",
     "text": [
      "['Twelve:', ' Eighty nine:89 Nine:9.']\n"
     ]
    }
   ],
   "source": [
    "import re\n",
    "\n",
    "string = 'Twelve:12 Eighty nine:89 Nine:9.'\n",
    "pattern = '\\d+'\n",
    "\n",
    "# maxsplit = 1\n",
    "# split only at the first occurrence\n",
    "result = re.split(pattern, string, 1) \n",
    "print(result)\n"
   ]
  },
  {
   "cell_type": "markdown",
   "metadata": {},
   "source": [
    "By the way, the default value of maxsplit is 0; meaning all possible splits."
   ]
  },
  {
   "cell_type": "markdown",
   "metadata": {},
   "source": [
    "#### re.sub()\n",
    "\n",
    "The syntax of re.sub() is:\n",
    "\n",
    "re.sub(pattern, replace, string)\n",
    "\n",
    "The method returns a string where matched occurrences are replaced with the content of replace variable."
   ]
  },
  {
   "cell_type": "code",
   "execution_count": 6,
   "metadata": {},
   "outputs": [
    {
     "name": "stdout",
     "output_type": "stream",
     "text": [
      "abc12de23f456\n"
     ]
    }
   ],
   "source": [
    "# Program to remove all whitespaces\n",
    "import re\n",
    "\n",
    "# multiline string\n",
    "string = 'abc 12\\\n",
    "de 23 \\n f45 6'\n",
    "\n",
    "# matches all whitespace characters\n",
    "pattern = '\\s+'\n",
    "\n",
    "# empty string\n",
    "replace = ''\n",
    "\n",
    "new_string = re.sub(pattern, replace, string) \n",
    "print(new_string)"
   ]
  },
  {
   "cell_type": "markdown",
   "metadata": {},
   "source": [
    "If the pattern is no found, re.sub() returns the original string."
   ]
  },
  {
   "cell_type": "markdown",
   "metadata": {},
   "source": [
    "You can pass count as a fourth parameter to the re.sub() method. If omited, it results to 0. This will replace all occurrences.\n",
    "\n"
   ]
  },
  {
   "cell_type": "code",
   "execution_count": 7,
   "metadata": {},
   "outputs": [
    {
     "name": "stdout",
     "output_type": "stream",
     "text": [
      "abc12de 23 \n",
      " f45 6\n"
     ]
    }
   ],
   "source": [
    "\n",
    "import re\n",
    "\n",
    "# multiline string\n",
    "string = 'abc 12\\\n",
    "de 23 \\n f45 6'\n",
    "\n",
    "# matches all whitespace characters\n",
    "pattern = '\\s+'\n",
    "replace = ''\n",
    "\n",
    "new_string = re.sub(r'\\s+', replace, string, 1) \n",
    "print(new_string)"
   ]
  },
  {
   "cell_type": "markdown",
   "metadata": {},
   "source": [
    "#### re.subn()\n",
    "\n",
    "The re.subn() is similar to re.sub() expect it returns a tuple of 2 items containing the new string and the number of substitutions made."
   ]
  },
  {
   "cell_type": "code",
   "execution_count": 8,
   "metadata": {},
   "outputs": [
    {
     "name": "stdout",
     "output_type": "stream",
     "text": [
      "('abc12de23f456', 4)\n"
     ]
    }
   ],
   "source": [
    "import re\n",
    "\n",
    "# multiline string\n",
    "string = 'abc 12\\\n",
    "de 23 \\n f45 6'\n",
    "\n",
    "# matches all whitespace characters\n",
    "pattern = '\\s+'\n",
    "\n",
    "# empty string\n",
    "replace = ''\n",
    "\n",
    "new_string = re.subn(pattern, replace, string) \n",
    "print(new_string)"
   ]
  },
  {
   "cell_type": "markdown",
   "metadata": {},
   "source": [
    "#### re.search()\n",
    "\n",
    "The re.search() method takes two arguments: a pattern and a string. The method looks for the first location where the RegEx pattern produces a match with the string.\n",
    "\n",
    "If the search is successful, re.search() returns a match object; if not, it returns None.\n",
    "\n",
    "match = re.search(pattern, str)"
   ]
  },
  {
   "cell_type": "code",
   "execution_count": 9,
   "metadata": {},
   "outputs": [
    {
     "name": "stdout",
     "output_type": "stream",
     "text": [
      "pattern found inside the string\n"
     ]
    }
   ],
   "source": [
    "import re\n",
    "\n",
    "string = \"Python is fun\"\n",
    "\n",
    "# check if 'Python' is at the beginning\n",
    "match = re.search('\\APython', string)\n",
    "\n",
    "if match:\n",
    "    print(\"pattern found inside the string\")\n",
    "else:\n",
    "    print(\"pattern not found\")  "
   ]
  },
  {
   "cell_type": "markdown",
   "metadata": {},
   "source": [
    "#### Match object\n",
    "\n",
    "You can get methods and attributes of a match object using dir() function.\n",
    "\n",
    "Some of the commonly used methods and attributes of match objects are:"
   ]
  },
  {
   "cell_type": "markdown",
   "metadata": {},
   "source": [
    "#### match.group()\n",
    "\n",
    "The group() method returns the part of the string where there is a match."
   ]
  },
  {
   "cell_type": "code",
   "execution_count": 10,
   "metadata": {},
   "outputs": [
    {
     "name": "stdout",
     "output_type": "stream",
     "text": [
      "801 35\n"
     ]
    }
   ],
   "source": [
    "import re\n",
    "\n",
    "string = '39801 356, 2102 1111'\n",
    "\n",
    "# Three digit number followed by space followed by two digit number\n",
    "pattern = '(\\d{3}) (\\d{2})'\n",
    "\n",
    "# match variable contains a Match object.\n",
    "match = re.search(pattern, string) \n",
    "\n",
    "if match:\n",
    "      print(match.group())\n",
    "else:\n",
    "      print(\"pattern not found\")\n"
   ]
  },
  {
   "cell_type": "markdown",
   "metadata": {},
   "source": [
    "Here, match variable contains a match object.\n",
    "\n",
    "Our pattern (\\d{3}) (\\d{2}) has two subgroups (\\d{3}) and (\\d{2}). You can get the part of the string of these parenthesized subgroups. Here's how:"
   ]
  },
  {
   "cell_type": "code",
   "execution_count": 11,
   "metadata": {},
   "outputs": [
    {
     "data": {
      "text/plain": [
       "'801'"
      ]
     },
     "execution_count": 11,
     "metadata": {},
     "output_type": "execute_result"
    }
   ],
   "source": [
    "match.group(1)"
   ]
  },
  {
   "cell_type": "code",
   "execution_count": 12,
   "metadata": {},
   "outputs": [
    {
     "data": {
      "text/plain": [
       "'35'"
      ]
     },
     "execution_count": 12,
     "metadata": {},
     "output_type": "execute_result"
    }
   ],
   "source": [
    "match.group(2)"
   ]
  },
  {
   "cell_type": "code",
   "execution_count": 13,
   "metadata": {},
   "outputs": [
    {
     "data": {
      "text/plain": [
       "('801', '35')"
      ]
     },
     "execution_count": 13,
     "metadata": {},
     "output_type": "execute_result"
    }
   ],
   "source": [
    "match.group(1, 2)"
   ]
  },
  {
   "cell_type": "code",
   "execution_count": 14,
   "metadata": {},
   "outputs": [
    {
     "data": {
      "text/plain": [
       "('801', '35')"
      ]
     },
     "execution_count": 14,
     "metadata": {},
     "output_type": "execute_result"
    }
   ],
   "source": [
    "match.groups()"
   ]
  },
  {
   "cell_type": "markdown",
   "metadata": {},
   "source": [
    "#### match.start(), match.end() and match.span()\n",
    "\n",
    "The start() function returns the index of the start of the matched substring. Similarly, end() returns the end index of the matched substring."
   ]
  },
  {
   "cell_type": "code",
   "execution_count": 15,
   "metadata": {},
   "outputs": [
    {
     "data": {
      "text/plain": [
       "2"
      ]
     },
     "execution_count": 15,
     "metadata": {},
     "output_type": "execute_result"
    }
   ],
   "source": [
    "match.start()"
   ]
  },
  {
   "cell_type": "code",
   "execution_count": 16,
   "metadata": {},
   "outputs": [
    {
     "data": {
      "text/plain": [
       "8"
      ]
     },
     "execution_count": 16,
     "metadata": {},
     "output_type": "execute_result"
    }
   ],
   "source": [
    "match.end()"
   ]
  },
  {
   "cell_type": "markdown",
   "metadata": {},
   "source": [
    "The span() function returns a tuple containing start and end index of the matched part."
   ]
  },
  {
   "cell_type": "code",
   "execution_count": 17,
   "metadata": {},
   "outputs": [
    {
     "data": {
      "text/plain": [
       "(2, 8)"
      ]
     },
     "execution_count": 17,
     "metadata": {},
     "output_type": "execute_result"
    }
   ],
   "source": [
    "match.span()"
   ]
  },
  {
   "cell_type": "markdown",
   "metadata": {},
   "source": [
    "#### match.re and match.string\n",
    "\n",
    "The re attribute of a matched object returns a regular expression object. Similarly, string attribute returns the passed string."
   ]
  },
  {
   "cell_type": "code",
   "execution_count": 18,
   "metadata": {},
   "outputs": [
    {
     "data": {
      "text/plain": [
       "re.compile(r'(\\d{3}) (\\d{2})', re.UNICODE)"
      ]
     },
     "execution_count": 18,
     "metadata": {},
     "output_type": "execute_result"
    }
   ],
   "source": [
    "match.re"
   ]
  },
  {
   "cell_type": "code",
   "execution_count": 19,
   "metadata": {},
   "outputs": [
    {
     "data": {
      "text/plain": [
       "'39801 356, 2102 1111'"
      ]
     },
     "execution_count": 19,
     "metadata": {},
     "output_type": "execute_result"
    }
   ],
   "source": [
    "match.string"
   ]
  },
  {
   "cell_type": "markdown",
   "metadata": {},
   "source": [
    "#### Using r prefix before RegEx\n",
    "\n",
    "When r or R prefix is used before a regular expression, it means raw string. For example, '\\n' is a new line whereas r'\\n' means two characters: a backslash \\ followed by n.\n",
    "\n",
    "Backlash \\ is used to escape various characters including all metacharacters. However, using r prefix makes \\ treat as a normal character.\n"
   ]
  },
  {
   "cell_type": "code",
   "execution_count": 20,
   "metadata": {},
   "outputs": [
    {
     "name": "stdout",
     "output_type": "stream",
     "text": [
      "['\\n', '\\r']\n"
     ]
    }
   ],
   "source": [
    "import re\n",
    "\n",
    "string = '\\n and \\r are escape sequences.'\n",
    "\n",
    "result = re.findall(r'[\\n\\r]', string) \n",
    "print(result)"
   ]
  }
 ],
 "metadata": {
  "kernelspec": {
   "display_name": "Python 3",
   "language": "python",
   "name": "python3"
  },
  "language_info": {
   "codemirror_mode": {
    "name": "ipython",
    "version": 3
   },
   "file_extension": ".py",
   "mimetype": "text/x-python",
   "name": "python",
   "nbconvert_exporter": "python",
   "pygments_lexer": "ipython3",
   "version": "3.7.3"
  }
 },
 "nbformat": 4,
 "nbformat_minor": 2
}
