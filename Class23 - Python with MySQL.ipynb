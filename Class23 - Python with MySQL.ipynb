{
 "cells": [
  {
   "cell_type": "markdown",
   "metadata": {},
   "source": [
    "First install MySQL python connector"
   ]
  },
  {
   "cell_type": "code",
   "execution_count": 1,
   "metadata": {},
   "outputs": [
    {
     "name": "stdout",
     "output_type": "stream",
     "text": [
      "Requirement already satisfied: mysql-connector-python in c:\\users\\sadiqgpasha\\anaconda3\\lib\\site-packages (8.0.19)\n",
      "Requirement already satisfied: protobuf==3.6.1 in c:\\users\\sadiqgpasha\\anaconda3\\lib\\site-packages (from mysql-connector-python) (3.6.1)\n",
      "Requirement already satisfied: dnspython==1.16.0 in c:\\users\\sadiqgpasha\\anaconda3\\lib\\site-packages (from mysql-connector-python) (1.16.0)\n",
      "Requirement already satisfied: six>=1.9 in c:\\users\\sadiqgpasha\\anaconda3\\lib\\site-packages (from protobuf==3.6.1->mysql-connector-python) (1.12.0)\n",
      "Requirement already satisfied: setuptools in c:\\users\\sadiqgpasha\\anaconda3\\lib\\site-packages (from protobuf==3.6.1->mysql-connector-python) (41.0.1)\n",
      "Note: you may need to restart the kernel to use updated packages.\n"
     ]
    }
   ],
   "source": [
    "pip install mysql-connector-python"
   ]
  },
  {
   "cell_type": "markdown",
   "metadata": {},
   "source": [
    "#### Test the MySQL Database connection with Python\n",
    "\n",
    "To test database connection here we use pre-installed MySQL connector and pass credentials into connect() function like host, username and password.\n",
    "\n",
    "Syntax to access MySQL with Python:\n",
    "\n",
    "\timport mysql.connector\n",
    "\tdb_connection = mysql.connector.connect(\n",
    "  \thost=\"hostname\",\n",
    "  \tuser=\"username\",\n",
    "  \tpasswd=\"password\"\n",
    "    )\n"
   ]
  },
  {
   "cell_type": "code",
   "execution_count": 2,
   "metadata": {},
   "outputs": [
    {
     "name": "stdout",
     "output_type": "stream",
     "text": [
      "<mysql.connector.connection_cext.CMySQLConnection object at 0x000002596D089DA0>\n"
     ]
    }
   ],
   "source": [
    "import mysql.connector\n",
    "db_connection = mysql.connector.connect(\n",
    "  host=\"localhost\",\n",
    "  user=\"root\",\n",
    "  passwd=\"xxxxxxxxxxxxxxx\"\n",
    ")\n",
    "print(db_connection)"
   ]
  },
  {
   "cell_type": "markdown",
   "metadata": {},
   "source": [
    "#### Creating Database in MySQL using Python"
   ]
  },
  {
   "cell_type": "markdown",
   "metadata": {},
   "source": [
    "Syntax to Create new database in SQL is\n",
    "\n",
    "CREATE DATABASE \"database_name\"\n"
   ]
  },
  {
   "cell_type": "code",
   "execution_count": 4,
   "metadata": {},
   "outputs": [],
   "source": [
    "import mysql.connector\n",
    "db_connection = mysql.connector.connect(host = 'localhost', username = 'root', password = 'xxxxxxxxxxxx')"
   ]
  },
  {
   "cell_type": "code",
   "execution_count": 5,
   "metadata": {},
   "outputs": [],
   "source": [
    "# creating database_cursor to perform SQL operation\n",
    "db_cursor = db_connection.cursor()"
   ]
  },
  {
   "cell_type": "code",
   "execution_count": 6,
   "metadata": {},
   "outputs": [],
   "source": [
    "# executing cursor with execute method and pass SQL query\n",
    "db_cursor.execute(\"CREATE DATABASE my_first_db\")"
   ]
  },
  {
   "cell_type": "code",
   "execution_count": 7,
   "metadata": {},
   "outputs": [],
   "source": [
    "# get list of all databases\n",
    "db_cursor.execute(\"SHOW DATABASES\")"
   ]
  },
  {
   "cell_type": "code",
   "execution_count": 8,
   "metadata": {},
   "outputs": [
    {
     "name": "stdout",
     "output_type": "stream",
     "text": [
      "('information_schema',)\n",
      "('my_first_db',)\n",
      "('mysql',)\n",
      "('performance_schema',)\n",
      "('sakila',)\n",
      "('sys',)\n",
      "('world',)\n"
     ]
    }
   ],
   "source": [
    "#print all databases\n",
    "for db in db_cursor:\n",
    "    print(db)"
   ]
  },
  {
   "cell_type": "markdown",
   "metadata": {},
   "source": [
    "#### Create a Table in MySQL with Python\n",
    "\n",
    "Let's create a simple table \"student\" which has two columns.\n",
    "\n",
    "SQL Syntax:\n",
    "\n",
    "CREATE  TABLE student (id INT, name VARCHAR(255))\n"
   ]
  },
  {
   "cell_type": "code",
   "execution_count": 11,
   "metadata": {},
   "outputs": [],
   "source": [
    "import mysql.connector\n",
    "db_connection = mysql.connector.connect(\n",
    "  host=\"localhost\",\n",
    "  user=\"root\",\n",
    "  passwd=\"xxxxxxxxxxxxx\",\n",
    "  database=\"my_first_db\"\n",
    "  )"
   ]
  },
  {
   "cell_type": "code",
   "execution_count": 12,
   "metadata": {},
   "outputs": [
    {
     "name": "stdout",
     "output_type": "stream",
     "text": [
      "('student',)\n"
     ]
    }
   ],
   "source": [
    "db_cursor = db_connection.cursor()\n",
    "\n",
    "#Here creating database table as student'\n",
    "db_cursor.execute(\"CREATE TABLE student (id INT, name VARCHAR(255))\")\n",
    "\n",
    "#Get database table'\n",
    "db_cursor.execute(\"SHOW TABLES\")\n",
    "for table in db_cursor:\n",
    "    print(table)"
   ]
  },
  {
   "cell_type": "markdown",
   "metadata": {},
   "source": [
    "#### Create a Table with Primary Key\n",
    "\n",
    "Let's create an Employee table with three different columns. We will add a primary key in id column with AUTO_INCREMENT constraint\n",
    "\n",
    "SQL Syntax,\n",
    "\n",
    "CREATE TABLE employee(id INT AUTO_INCREMENT PRIMARY KEY, name VARCHAR(255), salary INT(6))\n"
   ]
  },
  {
   "cell_type": "code",
   "execution_count": 14,
   "metadata": {},
   "outputs": [],
   "source": [
    "import mysql.connector\n",
    "db_connection = mysql.connector.connect(\n",
    "  host=\"localhost\",\n",
    "  user=\"root\",\n",
    "  passwd=\"xxxxxxxxxxxxxxx\",\n",
    "  database=\"my_first_db\"\n",
    "  )"
   ]
  },
  {
   "cell_type": "code",
   "execution_count": 15,
   "metadata": {},
   "outputs": [
    {
     "name": "stdout",
     "output_type": "stream",
     "text": [
      "('employee',)\n",
      "('student',)\n"
     ]
    }
   ],
   "source": [
    "db_cursor = db_connection.cursor()\n",
    "\n",
    "#Here creating database table as employee with primary key\n",
    "db_cursor.execute(\"CREATE TABLE employee(id INT AUTO_INCREMENT PRIMARY KEY, name VARCHAR(255), salary INT(6))\")\n",
    "\n",
    "#Get database table\n",
    "db_cursor.execute(\"SHOW TABLES\")\n",
    "for table in db_cursor:\n",
    "    print(table)"
   ]
  },
  {
   "cell_type": "markdown",
   "metadata": {},
   "source": [
    "#### ALTER table in MySQL with Python\n",
    "\n",
    "Alter command is used for modification of Table structure in SQL. Here we will alter Student table and add a primary key to the id field.\n",
    "\n",
    "SQL Syntax,\n",
    "\n",
    "ALTER TABLE student MODIFY id INT PRIMARY KEY\n"
   ]
  },
  {
   "cell_type": "code",
   "execution_count": 16,
   "metadata": {},
   "outputs": [],
   "source": [
    "import mysql.connector\n",
    "db_connection = mysql.connector.connect(\n",
    "  host=\"localhost\",\n",
    "  user=\"root\",\n",
    "  passwd=\"xxxxxxxxxxxxxx\",\n",
    "  database=\"my_first_db\"\n",
    "  )\n",
    "db_cursor = db_connection.cursor()\n",
    "#Here we modify existing column id\n",
    "db_cursor.execute(\"ALTER TABLE student MODIFY id INT PRIMARY KEY\")"
   ]
  },
  {
   "cell_type": "markdown",
   "metadata": {},
   "source": [
    "#### Insert Operation with MySQL in Python:"
   ]
  },
  {
   "cell_type": "markdown",
   "metadata": {},
   "source": [
    "Let's perform insertion operation in MySQL Database table which we already create. We will insert data oi STUDENT table and EMPLOYEE table."
   ]
  },
  {
   "cell_type": "markdown",
   "metadata": {},
   "source": [
    "SQL Syntax,\n",
    "\n",
    "INSERT INTO student (id, name) VALUES (01, \"John\")\n",
    "\n",
    "INSERT INTO employee (id, name, salary) VALUES(01, \"John\", 10000)\n"
   ]
  },
  {
   "cell_type": "code",
   "execution_count": 18,
   "metadata": {},
   "outputs": [
    {
     "name": "stdout",
     "output_type": "stream",
     "text": [
      "1 Record Inserted\n"
     ]
    }
   ],
   "source": [
    "import mysql.connector\n",
    "db_connection = mysql.connector.connect(\n",
    "  host=\"localhost\",\n",
    "  user=\"root\",\n",
    "  passwd=\"xxxxxxxxxxxxx\",\n",
    "  database=\"my_first_db\"\n",
    "  )\n",
    "\n",
    "db_cursor = db_connection.cursor()\n",
    "\n",
    "student_sql_query = \"INSERT INTO student(id,name) VALUES(01, 'John')\"\n",
    "\n",
    "employee_sql_query = \" INSERT INTO employee (id, name, salary) VALUES (01, 'John', 10000)\"\n",
    "\n",
    "#Execute cursor and pass query as well as student data\n",
    "db_cursor.execute(student_sql_query)\n",
    "\n",
    "#Execute cursor and pass query of employee and data of employee\n",
    "db_cursor.execute(employee_sql_query)\n",
    "db_connection.commit()\n",
    "\n",
    "print(db_cursor.rowcount, \"Record Inserted\")"
   ]
  },
  {
   "cell_type": "code",
   "execution_count": 19,
   "metadata": {},
   "outputs": [
    {
     "name": "stdout",
     "output_type": "stream",
     "text": [
      "('information_schema',)\n",
      "('my_first_db',)\n",
      "('mysql',)\n",
      "('performance_schema',)\n",
      "('sakila',)\n",
      "('sys',)\n",
      "('world',)\n"
     ]
    }
   ],
   "source": [
    "# get list of all databases\n",
    "db_cursor.execute(\"SHOW DATABASES\")\n",
    "#print all databases\n",
    "for db in db_cursor:\n",
    "    print(db)"
   ]
  },
  {
   "cell_type": "code",
   "execution_count": 20,
   "metadata": {},
   "outputs": [
    {
     "name": "stdout",
     "output_type": "stream",
     "text": [
      "('employee',)\n",
      "('student',)\n"
     ]
    }
   ],
   "source": [
    "db_cursor.execute(\"SHOW TABLES\")\n",
    "for table in db_cursor:\n",
    "    print(table)"
   ]
  },
  {
   "cell_type": "code",
   "execution_count": 6,
   "metadata": {},
   "outputs": [
    {
     "name": "stdout",
     "output_type": "stream",
     "text": [
      "[(1, 'John', 10000)]\n"
     ]
    }
   ],
   "source": [
    "import mysql.connector\n",
    "db_connection = mysql.connector.connect(\n",
    "  host=\"localhost\",\n",
    "  user=\"root\",\n",
    "  passwd=\"xxxxxxxxxxxxxxxx\",\n",
    "  database=\"my_first_db\"\n",
    "  )\n",
    "db_cursor = db_connection.cursor()\n",
    "sql_select_query = \"\"\"select * from employee\"\"\"\n",
    "db_cursor.execute(sql_select_query)\n",
    "records = db_cursor.fetchall()\n",
    "print(records)"
   ]
  },
  {
   "cell_type": "code",
   "execution_count": 7,
   "metadata": {},
   "outputs": [
    {
     "name": "stdout",
     "output_type": "stream",
     "text": [
      "[(1, 'John')]\n"
     ]
    }
   ],
   "source": [
    "import mysql.connector\n",
    "db_connection = mysql.connector.connect(\n",
    "  host=\"localhost\",\n",
    "  user=\"root\",\n",
    "  passwd=\"xxxxxxxxxxxxxxxxxx\",\n",
    "  database=\"my_first_db\"\n",
    "  )\n",
    "db_cursor = db_connection.cursor()\n",
    "sql_select_query = \"\"\"select * from student\"\"\"\n",
    "db_cursor.execute(sql_select_query)\n",
    "records = db_cursor.fetchall()\n",
    "print(records)"
   ]
  },
  {
   "cell_type": "code",
   "execution_count": null,
   "metadata": {},
   "outputs": [],
   "source": []
  }
 ],
 "metadata": {
  "kernelspec": {
   "display_name": "Python 3",
   "language": "python",
   "name": "python3"
  },
  "language_info": {
   "codemirror_mode": {
    "name": "ipython",
    "version": 3
   },
   "file_extension": ".py",
   "mimetype": "text/x-python",
   "name": "python",
   "nbconvert_exporter": "python",
   "pygments_lexer": "ipython3",
   "version": "3.7.3"
  }
 },
 "nbformat": 4,
 "nbformat_minor": 2
}
