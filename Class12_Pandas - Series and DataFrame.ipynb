{
 "cells": [
  {
   "cell_type": "markdown",
   "metadata": {},
   "source": [
    "### Pandas"
   ]
  },
  {
   "cell_type": "markdown",
   "metadata": {},
   "source": [
    "Pandas is an open-source library that is built on top of NumPy library. It is a Python package that offers various data structures and operations for manipulating numerical data and time series. It is mainly popular for importing and analyzing data much easier. Pandas is fast and it has high-performance & productivity for users."
   ]
  },
  {
   "cell_type": "markdown",
   "metadata": {},
   "source": [
    "Table of Contents\n",
    "\n",
    "        Introduction\n",
    "        Creating Objects\n",
    "        Viewing Data\n",
    "        Selection\n",
    "        Manipulating Data\n",
    "        Grouping Data\n",
    "        Merging, Joining and Concatenating\n",
    "        Working with Date and Time\n",
    "        Working With Text Data\n",
    "        Working with CSV and Excel files\n",
    "        Operations\n",
    "        Visualization\n",
    "        Applications and Projects\n",
    "        Miscellaneous \n",
    "\n"
   ]
  },
  {
   "cell_type": "markdown",
   "metadata": {},
   "source": [
    "#### 1. Introduction\n",
    "\n",
    "Advantages\n",
    "\n",
    "    Fast and efficient for manipulating and analyzing data.\n",
    "    Data from different file objects can be loaded.\n",
    "    Easy handling of missing data (represented as NaN) in floating point as well as non-floating point data\n",
    "    Size mutability: columns can be inserted and deleted from DataFrame and higher dimensional objects\n",
    "    Data set merging and joining.\n",
    "    Flexible reshaping and pivoting of data sets\n",
    "    Provides time-series functionality.\n",
    "    Powerful group by functionality for performing split-apply-combine operations on data sets. "
   ]
  },
  {
   "cell_type": "markdown",
   "metadata": {},
   "source": [
    "Pandas generally provide two data structure for manipulating data, They are:\n",
    "\n",
    "    Series\n",
    "    DataFrame "
   ]
  },
  {
   "cell_type": "markdown",
   "metadata": {},
   "source": [
    "#### Series\n",
    "\n",
    "Pandas Series is a one-dimensional labeled array capable of holding data of any type (integer, string, float, python objects, etc.). The axis labels are collectively called index. Pandas Series is nothing but a column in an excel sheet. Labels need not be unique but must be a hashable type. The object supports both integer and label-based indexing and provides a host of methods for performing operations involving the index."
   ]
  },
  {
   "cell_type": "markdown",
   "metadata": {},
   "source": [
    "#### Creating a Series\n",
    "\n",
    "In the real world, a Pandas Series will be created by loading the datasets from existing storage, storage can be SQL Database, CSV file, and Excel file. Pandas Series can be created from the lists, dictionary, and from a scalar value etc."
   ]
  },
  {
   "cell_type": "code",
   "execution_count": 2,
   "metadata": {},
   "outputs": [
    {
     "name": "stdout",
     "output_type": "stream",
     "text": [
      "Series([], dtype: float64)\n",
      "0    s\n",
      "1    a\n",
      "2    d\n",
      "3    i\n",
      "4    q\n",
      "dtype: object\n"
     ]
    }
   ],
   "source": [
    "\n",
    "import pandas as pd  \n",
    "import numpy as np \n",
    "  \n",
    "#Creating empty series  \n",
    "ser = pd.Series()  \n",
    "    \n",
    "print(ser)  \n",
    "  \n",
    "# simple array  \n",
    "data = np.array(['s', 'a', 'd', 'i', 'q'])  \n",
    "    \n",
    "ser = pd.Series(data)  \n",
    "print(ser) \n"
   ]
  },
  {
   "cell_type": "markdown",
   "metadata": {},
   "source": [
    "#### DataFrame\n",
    "\n",
    "Pandas DataFrame is two-dimensional size-mutable, potentially heterogeneous tabular data structure with labeled axes (rows and columns). A Data frame is a two-dimensional data structure, i.e., data is aligned in a tabular fashion in rows and columns. Pandas DataFrame consists of three principal components, the data, rows, and columns."
   ]
  },
  {
   "cell_type": "markdown",
   "metadata": {},
   "source": [
    "#### Creating a DataFrame\n",
    "\n",
    "In the real world, a Pandas DataFrame will be created by loading the datasets from existing storage, storage can be SQL Database, CSV file, and Excel file. Pandas DataFrame can be created from the lists, dictionary, and from a list of dictionary etc."
   ]
  },
  {
   "cell_type": "code",
   "execution_count": 3,
   "metadata": {},
   "outputs": [
    {
     "name": "stdout",
     "output_type": "stream",
     "text": [
      "Empty DataFrame\n",
      "Columns: []\n",
      "Index: []\n",
      "        0\n",
      "0   Geeks\n",
      "1     For\n",
      "2   Geeks\n",
      "3      is\n",
      "4  portal\n",
      "5     for\n",
      "6   Geeks\n"
     ]
    }
   ],
   "source": [
    "\n",
    "import pandas as pd  \n",
    "    \n",
    "# Calling DataFrame constructor  \n",
    "df = pd.DataFrame()  \n",
    "print(df) \n",
    "  \n",
    "# list of strings  \n",
    "lst = ['Geeks', 'For', 'Geeks', 'is',   \n",
    "            'portal', 'for', 'Geeks']  \n",
    "    \n",
    "# Calling DataFrame constructor on list  \n",
    "df = pd.DataFrame(lst)  \n",
    "print(df)  \n"
   ]
  },
  {
   "cell_type": "markdown",
   "metadata": {},
   "source": [
    "#### 2. Creating Objects"
   ]
  },
  {
   "cell_type": "markdown",
   "metadata": {},
   "source": [
    "##### Creating a dataframe using List:\n",
    "DataFrame can be created using a single list or a list of lists."
   ]
  },
  {
   "cell_type": "code",
   "execution_count": 4,
   "metadata": {},
   "outputs": [
    {
     "name": "stdout",
     "output_type": "stream",
     "text": [
      "        0\n",
      "0   Geeks\n",
      "1     For\n",
      "2   Geeks\n",
      "3      is\n",
      "4  portal\n",
      "5     for\n",
      "6   Geeks\n"
     ]
    }
   ],
   "source": [
    "# import pandas as pd\n",
    "import pandas as pd\n",
    " \n",
    "# list of strings\n",
    "lst = ['Geeks', 'For', 'Geeks', 'is', \n",
    "            'portal', 'for', 'Geeks']\n",
    " \n",
    "# Calling DataFrame constructor on list\n",
    "df = pd.DataFrame(lst)\n",
    "print(df)"
   ]
  },
  {
   "cell_type": "markdown",
   "metadata": {},
   "source": [
    "##### Creating DataFrame from dict of ndarray/lists: \n",
    "\n",
    "To create DataFrame from dict of narray/list, all the narray must be of same length. If index is passed then the length index should be equal to the length of arrays. If no index is passed, then by default, index will be range(n) where n is the array length."
   ]
  },
  {
   "cell_type": "code",
   "execution_count": 5,
   "metadata": {},
   "outputs": [
    {
     "name": "stdout",
     "output_type": "stream",
     "text": [
      "    Name  Age\n",
      "0    Tom   20\n",
      "1   nick   21\n",
      "2  krish   19\n",
      "3   jack   18\n"
     ]
    }
   ],
   "source": [
    "# Python code demonstrate creating \n",
    "# DataFrame from dict narray / lists \n",
    "# By default addresses.\n",
    " \n",
    "import pandas as pd\n",
    " \n",
    "# intialise data of lists.\n",
    "data = {'Name':['Tom', 'nick', 'krish', 'jack'],\n",
    "        'Age':[20, 21, 19, 18]}\n",
    " \n",
    "# Create DataFrame\n",
    "df = pd.DataFrame(data)\n",
    " \n",
    "# Print the output.\n",
    "print(df)"
   ]
  },
  {
   "cell_type": "markdown",
   "metadata": {},
   "source": [
    "A Data frame is a two-dimensional data structure, i.e., data is aligned in a tabular fashion in rows and columns. We can perform basic operations on rows/columns like selecting, deleting, adding, and renaming."
   ]
  },
  {
   "cell_type": "markdown",
   "metadata": {},
   "source": [
    "#### Column Selection: \n",
    "In Order to select a column in Pandas DataFrame, we can either access the columns by calling them by their columns name."
   ]
  },
  {
   "cell_type": "code",
   "execution_count": 8,
   "metadata": {},
   "outputs": [
    {
     "name": "stdout",
     "output_type": "stream",
     "text": [
      "     Name  Age    Address Qualification\n",
      "0     Jai   27      Delhi           Msc\n",
      "1  Princi   24     Kanpur            MA\n",
      "2  Gaurav   22  Allahabad           MCA\n",
      "3    Anuj   32    Kannauj           Phd\n",
      "\n",
      "     Name Qualification\n",
      "0     Jai           Msc\n",
      "1  Princi            MA\n",
      "2  Gaurav           MCA\n",
      "3    Anuj           Phd\n"
     ]
    }
   ],
   "source": [
    "# Import pandas package\n",
    "import pandas as pd\n",
    " \n",
    "# Define a dictionary containing employee data\n",
    "data = {'Name':['Jai', 'Princi', 'Gaurav', 'Anuj'],\n",
    "        'Age':[27, 24, 22, 32],\n",
    "        'Address':['Delhi', 'Kanpur', 'Allahabad', 'Kannauj'],\n",
    "        'Qualification':['Msc', 'MA', 'MCA', 'Phd']}\n",
    " \n",
    "# Convert the dictionary into DataFrame \n",
    "df = pd.DataFrame(data)\n",
    "print(df)\n",
    "print()\n",
    "# select two columns\n",
    "print(df[['Name', 'Qualification']])"
   ]
  },
  {
   "cell_type": "markdown",
   "metadata": {},
   "source": [
    "#### Row Selection: \n",
    "Pandas provide a unique method to retrieve rows from a Data frame. DataFrame.loc[] method is used to retrieve rows from Pandas DataFrame. Rows can also be selected by passing integer location to an iloc[] function."
   ]
  },
  {
   "cell_type": "code",
   "execution_count": 12,
   "metadata": {},
   "outputs": [
    {
     "name": "stdout",
     "output_type": "stream",
     "text": [
      "Index(['Team', 'Number', 'Position', 'Age', 'Height', 'Weight', 'College',\n",
      "       'Salary'],\n",
      "      dtype='object')\n",
      "\n",
      "                         Team  Number Position   Age Height  Weight  \\\n",
      "Name                                                                  \n",
      "Avery Bradley  Boston Celtics     0.0       PG  25.0    6-2   180.0   \n",
      "Jae Crowder    Boston Celtics    99.0       SF  25.0    6-6   235.0   \n",
      "John Holland   Boston Celtics    30.0       SG  27.0    6-5   205.0   \n",
      "R.J. Hunter    Boston Celtics    28.0       SG  22.0    6-5   185.0   \n",
      "Jonas Jerebko  Boston Celtics     8.0       PF  29.0   6-10   231.0   \n",
      "\n",
      "                         College     Salary  \n",
      "Name                                         \n",
      "Avery Bradley              Texas  7730337.0  \n",
      "Jae Crowder            Marquette  6796117.0  \n",
      "John Holland   Boston University        NaN  \n",
      "R.J. Hunter        Georgia State  1148640.0  \n",
      "Jonas Jerebko                NaN  5000000.0  \n",
      "\n",
      "Team        Boston Celtics\n",
      "Number                   0\n",
      "Position                PG\n",
      "Age                     25\n",
      "Height                 6-2\n",
      "Weight                 180\n",
      "College              Texas\n",
      "Salary         7.73034e+06\n",
      "Name: Avery Bradley, dtype: object \n",
      "\n",
      "\n",
      " Team        Boston Celtics\n",
      "Number                  28\n",
      "Position                SG\n",
      "Age                     22\n",
      "Height                 6-5\n",
      "Weight                 185\n",
      "College      Georgia State\n",
      "Salary         1.14864e+06\n",
      "Name: R.J. Hunter, dtype: object\n"
     ]
    }
   ],
   "source": [
    "# importing pandas package\n",
    "import pandas as pd\n",
    " \n",
    "# making data frame from csv file\n",
    "data = pd.read_csv(\"nba.csv\", index_col =\"Name\")\n",
    "\n",
    "print(data.columns)\n",
    "print()\n",
    "print(data.head())\n",
    "print()\n",
    "# retrieving row by loc method\n",
    "first = data.loc[\"Avery Bradley\"]\n",
    "second = data.loc[\"R.J. Hunter\"]\n",
    "\n",
    "print(first, \"\\n\\n\\n\", second)"
   ]
  },
  {
   "cell_type": "markdown",
   "metadata": {},
   "source": [
    "#### Indexing and Selecting Data\n",
    "\n",
    "Indexing in pandas means simply selecting particular rows and columns of data from a DataFrame. Indexing could mean selecting all the rows and some of the columns, some of the rows and all of the columns, or some of each of the rows and columns. Indexing can also be known as Subset Selection.\n",
    "\n",
    "Indexing a Dataframe using indexing operator [] :\n",
    "Indexing operator is used to refer to the square brackets following an object. The .loc and .iloc indexers also use the indexing operator to make selections. In this indexing operator to refer to df[].\n",
    "Selecting a single columns\n",
    "\n",
    "In order to select a single column, we simply put the name of the column in-between the brackets"
   ]
  },
  {
   "cell_type": "code",
   "execution_count": 13,
   "metadata": {},
   "outputs": [
    {
     "name": "stdout",
     "output_type": "stream",
     "text": [
      "Name\n",
      "Avery Bradley              25.0\n",
      "Jae Crowder                25.0\n",
      "John Holland               27.0\n",
      "R.J. Hunter                22.0\n",
      "Jonas Jerebko              29.0\n",
      "Amir Johnson               29.0\n",
      "Jordan Mickey              21.0\n",
      "Kelly Olynyk               25.0\n",
      "Terry Rozier               22.0\n",
      "Marcus Smart               22.0\n",
      "Jared Sullinger            24.0\n",
      "Isaiah Thomas              27.0\n",
      "Evan Turner                27.0\n",
      "James Young                20.0\n",
      "Tyler Zeller               26.0\n",
      "Bojan Bogdanovic           27.0\n",
      "Markel Brown               24.0\n",
      "Wayne Ellington            28.0\n",
      "Rondae Hollis-Jefferson    21.0\n",
      "Jarrett Jack               32.0\n",
      "Sergey Karasev             22.0\n",
      "Sean Kilpatrick            26.0\n",
      "Shane Larkin               23.0\n",
      "Brook Lopez                28.0\n",
      "Chris McCullough           21.0\n",
      "Willie Reed                26.0\n",
      "Thomas Robinson            25.0\n",
      "Henry Sims                 26.0\n",
      "Donald Sloan               28.0\n",
      "Thaddeus Young             27.0\n",
      "                           ... \n",
      "Al-Farouq Aminu            25.0\n",
      "Pat Connaughton            23.0\n",
      "Allen Crabbe               24.0\n",
      "Ed Davis                   27.0\n",
      "Maurice Harkless           23.0\n",
      "Gerald Henderson           28.0\n",
      "Chris Kaman                34.0\n",
      "Meyers Leonard             24.0\n",
      "Damian Lillard             25.0\n",
      "C.J. McCollum              24.0\n",
      "Luis Montero               23.0\n",
      "Mason Plumlee              26.0\n",
      "Brian Roberts              30.0\n",
      "Noah Vonleh                20.0\n",
      "Trevor Booker              28.0\n",
      "Trey Burke                 23.0\n",
      "Alec Burks                 24.0\n",
      "Dante Exum                 20.0\n",
      "Derrick Favors             24.0\n",
      "Rudy Gobert                23.0\n",
      "Gordon Hayward             26.0\n",
      "Rodney Hood                23.0\n",
      "Joe Ingles                 28.0\n",
      "Chris Johnson              26.0\n",
      "Trey Lyles                 20.0\n",
      "Shelvin Mack               26.0\n",
      "Raul Neto                  24.0\n",
      "Tibor Pleiss               26.0\n",
      "Jeff Withey                26.0\n",
      "NaN                         NaN\n",
      "Name: Age, Length: 458, dtype: float64\n"
     ]
    }
   ],
   "source": [
    "# importing pandas package\n",
    "import pandas as pd\n",
    " \n",
    "# making data frame from csv file\n",
    "data = pd.read_csv(\"nba.csv\", index_col =\"Name\")\n",
    " \n",
    "# retrieving columns by indexing operator\n",
    "first = data[\"Age\"]\n",
    "  \n",
    "print(first)"
   ]
  },
  {
   "cell_type": "markdown",
   "metadata": {},
   "source": [
    "#### Indexing a DataFrame using .loc[ ] :\n",
    "This function selects data by the label of the rows and columns. The df.loc indexer selects data in a different way than just the indexing operator. It can select subsets of rows or columns. It can also simultaneously select subsets of rows and columns. "
   ]
  },
  {
   "cell_type": "code",
   "execution_count": 14,
   "metadata": {},
   "outputs": [
    {
     "name": "stdout",
     "output_type": "stream",
     "text": [
      "Team        Boston Celtics\n",
      "Number                   0\n",
      "Position                PG\n",
      "Age                     25\n",
      "Height                 6-2\n",
      "Weight                 180\n",
      "College              Texas\n",
      "Salary         7.73034e+06\n",
      "Name: Avery Bradley, dtype: object \n",
      "\n",
      "\n",
      " Team        Boston Celtics\n",
      "Number                  28\n",
      "Position                SG\n",
      "Age                     22\n",
      "Height                 6-5\n",
      "Weight                 185\n",
      "College      Georgia State\n",
      "Salary         1.14864e+06\n",
      "Name: R.J. Hunter, dtype: object\n"
     ]
    }
   ],
   "source": [
    "# importing pandas package\n",
    "import pandas as pd\n",
    " \n",
    "# making data frame from csv file\n",
    "data = pd.read_csv(\"nba.csv\", index_col =\"Name\")\n",
    " \n",
    "# retrieving row by loc method\n",
    "first = data.loc[\"Avery Bradley\"]\n",
    "second = data.loc[\"R.J. Hunter\"]\n",
    " \n",
    "print(first, \"\\n\\n\\n\", second)"
   ]
  },
  {
   "cell_type": "markdown",
   "metadata": {},
   "source": [
    "#### Indexing a DataFrame using .iloc[ ] :\n",
    "\n",
    "This function allows us to retrieve rows and columns by position. In order to do that, we’ll need to specify the positions of the rows that we want, and the positions of the columns that we want as well. The df.iloc indexer is very similar to df.loc but only uses integer locations to make its selections."
   ]
  },
  {
   "cell_type": "code",
   "execution_count": 15,
   "metadata": {},
   "outputs": [
    {
     "name": "stdout",
     "output_type": "stream",
     "text": [
      "Team        Boston Celtics\n",
      "Number                  28\n",
      "Position                SG\n",
      "Age                     22\n",
      "Height                 6-5\n",
      "Weight                 185\n",
      "College      Georgia State\n",
      "Salary         1.14864e+06\n",
      "Name: R.J. Hunter, dtype: object\n"
     ]
    }
   ],
   "source": [
    "import pandas as pd\n",
    " \n",
    "# making data frame from csv file\n",
    "data = pd.read_csv(\"nba.csv\", index_col =\"Name\")\n",
    " \n",
    "#retrieving rows by iloc method \n",
    "row2 = data.iloc[3] \n",
    " \n",
    "print(row2)"
   ]
  },
  {
   "cell_type": "markdown",
   "metadata": {},
   "source": [
    "#### Working with Missing Data\n",
    "\n",
    "Missing Data can occur when no information is provided for one or more items or for a whole unit. Missing Data is a very big problem in real life scenario. Missing Data can also refer to as NA(Not Available) values in pandas.\n",
    "\n"
   ]
  },
  {
   "cell_type": "markdown",
   "metadata": {},
   "source": [
    "#### Checking for missing values using isnull() and notnull() :\n",
    "In order to check missing values in Pandas DataFrame, we use a function isnull() and notnull(). Both function help in checking whether a value is NaN or not. These function can also be used in Pandas Series in order to find null values in a series"
   ]
  },
  {
   "cell_type": "code",
   "execution_count": 17,
   "metadata": {},
   "outputs": [
    {
     "name": "stdout",
     "output_type": "stream",
     "text": [
      "   First Score  Second Score  Third Score\n",
      "0        100.0          30.0          NaN\n",
      "1         90.0          45.0         40.0\n",
      "2          NaN          56.0         80.0\n",
      "3         95.0           NaN         98.0\n"
     ]
    },
    {
     "data": {
      "text/html": [
       "<div>\n",
       "<style scoped>\n",
       "    .dataframe tbody tr th:only-of-type {\n",
       "        vertical-align: middle;\n",
       "    }\n",
       "\n",
       "    .dataframe tbody tr th {\n",
       "        vertical-align: top;\n",
       "    }\n",
       "\n",
       "    .dataframe thead th {\n",
       "        text-align: right;\n",
       "    }\n",
       "</style>\n",
       "<table border=\"1\" class=\"dataframe\">\n",
       "  <thead>\n",
       "    <tr style=\"text-align: right;\">\n",
       "      <th></th>\n",
       "      <th>First Score</th>\n",
       "      <th>Second Score</th>\n",
       "      <th>Third Score</th>\n",
       "    </tr>\n",
       "  </thead>\n",
       "  <tbody>\n",
       "    <tr>\n",
       "      <th>0</th>\n",
       "      <td>False</td>\n",
       "      <td>False</td>\n",
       "      <td>True</td>\n",
       "    </tr>\n",
       "    <tr>\n",
       "      <th>1</th>\n",
       "      <td>False</td>\n",
       "      <td>False</td>\n",
       "      <td>False</td>\n",
       "    </tr>\n",
       "    <tr>\n",
       "      <th>2</th>\n",
       "      <td>True</td>\n",
       "      <td>False</td>\n",
       "      <td>False</td>\n",
       "    </tr>\n",
       "    <tr>\n",
       "      <th>3</th>\n",
       "      <td>False</td>\n",
       "      <td>True</td>\n",
       "      <td>False</td>\n",
       "    </tr>\n",
       "  </tbody>\n",
       "</table>\n",
       "</div>"
      ],
      "text/plain": [
       "   First Score  Second Score  Third Score\n",
       "0        False         False         True\n",
       "1        False         False        False\n",
       "2         True         False        False\n",
       "3        False          True        False"
      ]
     },
     "execution_count": 17,
     "metadata": {},
     "output_type": "execute_result"
    }
   ],
   "source": [
    "# importing pandas as pd\n",
    "import pandas as pd\n",
    " \n",
    "# importing numpy as np\n",
    "import numpy as np\n",
    " \n",
    "# dictionary of lists\n",
    "dict = {'First Score':[100, 90, np.nan, 95],\n",
    "        'Second Score': [30, 45, 56, np.nan],\n",
    "        'Third Score':[np.nan, 40, 80, 98]}\n",
    " \n",
    "# creating a dataframe from list\n",
    "df = pd.DataFrame(dict)\n",
    "print(df)\n",
    "# using isnull() function  \n",
    "df.isnull()"
   ]
  },
  {
   "cell_type": "markdown",
   "metadata": {},
   "source": [
    "#### Filling missing values using fillna(), replace() and interpolate() :"
   ]
  },
  {
   "cell_type": "markdown",
   "metadata": {},
   "source": [
    "In order to fill null values in a datasets, we use fillna(), replace() and interpolate() function these function replace NaN values with some value of their own. All these function help in filling a null values in datasets of a DataFrame. Interpolate() function is basically used to fill NA values in the dataframe but it uses various interpolation technique to fill the missing values rather than hard-coding the value. "
   ]
  },
  {
   "cell_type": "code",
   "execution_count": 18,
   "metadata": {},
   "outputs": [
    {
     "data": {
      "text/html": [
       "<div>\n",
       "<style scoped>\n",
       "    .dataframe tbody tr th:only-of-type {\n",
       "        vertical-align: middle;\n",
       "    }\n",
       "\n",
       "    .dataframe tbody tr th {\n",
       "        vertical-align: top;\n",
       "    }\n",
       "\n",
       "    .dataframe thead th {\n",
       "        text-align: right;\n",
       "    }\n",
       "</style>\n",
       "<table border=\"1\" class=\"dataframe\">\n",
       "  <thead>\n",
       "    <tr style=\"text-align: right;\">\n",
       "      <th></th>\n",
       "      <th>First Score</th>\n",
       "      <th>Second Score</th>\n",
       "      <th>Third Score</th>\n",
       "    </tr>\n",
       "  </thead>\n",
       "  <tbody>\n",
       "    <tr>\n",
       "      <th>0</th>\n",
       "      <td>100.0</td>\n",
       "      <td>30.0</td>\n",
       "      <td>0.0</td>\n",
       "    </tr>\n",
       "    <tr>\n",
       "      <th>1</th>\n",
       "      <td>90.0</td>\n",
       "      <td>45.0</td>\n",
       "      <td>40.0</td>\n",
       "    </tr>\n",
       "    <tr>\n",
       "      <th>2</th>\n",
       "      <td>0.0</td>\n",
       "      <td>56.0</td>\n",
       "      <td>80.0</td>\n",
       "    </tr>\n",
       "    <tr>\n",
       "      <th>3</th>\n",
       "      <td>95.0</td>\n",
       "      <td>0.0</td>\n",
       "      <td>98.0</td>\n",
       "    </tr>\n",
       "  </tbody>\n",
       "</table>\n",
       "</div>"
      ],
      "text/plain": [
       "   First Score  Second Score  Third Score\n",
       "0        100.0          30.0          0.0\n",
       "1         90.0          45.0         40.0\n",
       "2          0.0          56.0         80.0\n",
       "3         95.0           0.0         98.0"
      ]
     },
     "execution_count": 18,
     "metadata": {},
     "output_type": "execute_result"
    }
   ],
   "source": [
    "# importing pandas as pd\n",
    "import pandas as pd\n",
    " \n",
    "# importing numpy as np\n",
    "import numpy as np\n",
    " \n",
    "# dictionary of lists\n",
    "dict = {'First Score':[100, 90, np.nan, 95],\n",
    "        'Second Score': [30, 45, 56, np.nan],\n",
    "        'Third Score':[np.nan, 40, 80, 98]}\n",
    " \n",
    "# creating a dataframe from dictionary\n",
    "df = pd.DataFrame(dict)\n",
    " \n",
    "# filling missing value using fillna()  \n",
    "df.fillna(0)\n"
   ]
  },
  {
   "cell_type": "markdown",
   "metadata": {},
   "source": [
    "#### Dropping missing values using dropna() :"
   ]
  },
  {
   "cell_type": "markdown",
   "metadata": {},
   "source": [
    "In order to drop a null values from a dataframe, we used dropna() function this fuction drop Rows/Columns of datasets with Null values in different ways."
   ]
  },
  {
   "cell_type": "code",
   "execution_count": 21,
   "metadata": {},
   "outputs": [
    {
     "data": {
      "text/html": [
       "<div>\n",
       "<style scoped>\n",
       "    .dataframe tbody tr th:only-of-type {\n",
       "        vertical-align: middle;\n",
       "    }\n",
       "\n",
       "    .dataframe tbody tr th {\n",
       "        vertical-align: top;\n",
       "    }\n",
       "\n",
       "    .dataframe thead th {\n",
       "        text-align: right;\n",
       "    }\n",
       "</style>\n",
       "<table border=\"1\" class=\"dataframe\">\n",
       "  <thead>\n",
       "    <tr style=\"text-align: right;\">\n",
       "      <th></th>\n",
       "      <th>First Score</th>\n",
       "      <th>Second Score</th>\n",
       "      <th>Third Score</th>\n",
       "      <th>Fourth Score</th>\n",
       "    </tr>\n",
       "  </thead>\n",
       "  <tbody>\n",
       "    <tr>\n",
       "      <th>0</th>\n",
       "      <td>100.0</td>\n",
       "      <td>30.0</td>\n",
       "      <td>52</td>\n",
       "      <td>NaN</td>\n",
       "    </tr>\n",
       "    <tr>\n",
       "      <th>1</th>\n",
       "      <td>90.0</td>\n",
       "      <td>NaN</td>\n",
       "      <td>40</td>\n",
       "      <td>NaN</td>\n",
       "    </tr>\n",
       "    <tr>\n",
       "      <th>2</th>\n",
       "      <td>NaN</td>\n",
       "      <td>45.0</td>\n",
       "      <td>80</td>\n",
       "      <td>NaN</td>\n",
       "    </tr>\n",
       "    <tr>\n",
       "      <th>3</th>\n",
       "      <td>95.0</td>\n",
       "      <td>56.0</td>\n",
       "      <td>98</td>\n",
       "      <td>65.0</td>\n",
       "    </tr>\n",
       "  </tbody>\n",
       "</table>\n",
       "</div>"
      ],
      "text/plain": [
       "   First Score  Second Score  Third Score  Fourth Score\n",
       "0        100.0          30.0           52           NaN\n",
       "1         90.0           NaN           40           NaN\n",
       "2          NaN          45.0           80           NaN\n",
       "3         95.0          56.0           98          65.0"
      ]
     },
     "execution_count": 21,
     "metadata": {},
     "output_type": "execute_result"
    }
   ],
   "source": [
    "# importing pandas as pd\n",
    "import pandas as pd\n",
    " \n",
    "# importing numpy as np\n",
    "import numpy as np\n",
    " \n",
    "# dictionary of lists\n",
    "dict = {'First Score':[100, 90, np.nan, 95],\n",
    "        'Second Score': [30, np.nan, 45, 56],\n",
    "        'Third Score':[52, 40, 80, 98],\n",
    "        'Fourth Score':[np.nan, np.nan, np.nan, 65]}\n",
    " \n",
    "# creating a dataframe from dictionary\n",
    "df = pd.DataFrame(dict)\n",
    "   \n",
    "df"
   ]
  },
  {
   "cell_type": "markdown",
   "metadata": {},
   "source": [
    "Now we drop rows with at least one Nan value (Null value)"
   ]
  },
  {
   "cell_type": "code",
   "execution_count": 22,
   "metadata": {},
   "outputs": [
    {
     "data": {
      "text/html": [
       "<div>\n",
       "<style scoped>\n",
       "    .dataframe tbody tr th:only-of-type {\n",
       "        vertical-align: middle;\n",
       "    }\n",
       "\n",
       "    .dataframe tbody tr th {\n",
       "        vertical-align: top;\n",
       "    }\n",
       "\n",
       "    .dataframe thead th {\n",
       "        text-align: right;\n",
       "    }\n",
       "</style>\n",
       "<table border=\"1\" class=\"dataframe\">\n",
       "  <thead>\n",
       "    <tr style=\"text-align: right;\">\n",
       "      <th></th>\n",
       "      <th>First Score</th>\n",
       "      <th>Second Score</th>\n",
       "      <th>Third Score</th>\n",
       "      <th>Fourth Score</th>\n",
       "    </tr>\n",
       "  </thead>\n",
       "  <tbody>\n",
       "    <tr>\n",
       "      <th>3</th>\n",
       "      <td>95.0</td>\n",
       "      <td>56.0</td>\n",
       "      <td>98</td>\n",
       "      <td>65.0</td>\n",
       "    </tr>\n",
       "  </tbody>\n",
       "</table>\n",
       "</div>"
      ],
      "text/plain": [
       "   First Score  Second Score  Third Score  Fourth Score\n",
       "3         95.0          56.0           98          65.0"
      ]
     },
     "execution_count": 22,
     "metadata": {},
     "output_type": "execute_result"
    }
   ],
   "source": [
    "# importing pandas as pd\n",
    "import pandas as pd\n",
    " \n",
    "# importing numpy as np\n",
    "import numpy as np\n",
    " \n",
    "# dictionary of lists\n",
    "dict = {'First Score':[100, 90, np.nan, 95],\n",
    "        'Second Score': [30, np.nan, 45, 56],\n",
    "        'Third Score':[52, 40, 80, 98],\n",
    "        'Fourth Score':[np.nan, np.nan, np.nan, 65]}\n",
    " \n",
    "# creating a dataframe from dictionary\n",
    "df = pd.DataFrame(dict)\n",
    " \n",
    "# using dropna() function  \n",
    "df.dropna()"
   ]
  },
  {
   "cell_type": "markdown",
   "metadata": {},
   "source": [
    "#### Iterating over rows and columns"
   ]
  },
  {
   "cell_type": "markdown",
   "metadata": {},
   "source": [
    "#### Iterating over rows :\n",
    "In order to iterate over rows, we can use three function iteritems(), iterrows(), itertuples() . These three function will help in iteration over rows."
   ]
  },
  {
   "cell_type": "code",
   "execution_count": 23,
   "metadata": {},
   "outputs": [
    {
     "name": "stdout",
     "output_type": "stream",
     "text": [
      "     name  degree  score\n",
      "0  aparna     MBA     90\n",
      "1  pankaj     BCA     40\n",
      "2  sudhir  M.Tech     80\n",
      "3   Geeku     MBA     98\n"
     ]
    }
   ],
   "source": [
    "# importing pandas as pd\n",
    "import pandas as pd\n",
    "  \n",
    "# dictionary of lists\n",
    "dict = {'name':[\"aparna\", \"pankaj\", \"sudhir\", \"Geeku\"],\n",
    "        'degree': [\"MBA\", \"BCA\", \"M.Tech\", \"MBA\"],\n",
    "        'score':[90, 40, 80, 98]}\n",
    " \n",
    "# creating a dataframe from a dictionary \n",
    "df = pd.DataFrame(dict)\n",
    " \n",
    "print(df)"
   ]
  },
  {
   "cell_type": "markdown",
   "metadata": {},
   "source": [
    "Now we apply iterrows() function in order to get a each element of rows."
   ]
  },
  {
   "cell_type": "code",
   "execution_count": 24,
   "metadata": {},
   "outputs": [
    {
     "name": "stdout",
     "output_type": "stream",
     "text": [
      "0 name      aparna\n",
      "degree       MBA\n",
      "score         90\n",
      "Name: 0, dtype: object\n",
      "\n",
      "1 name      pankaj\n",
      "degree       BCA\n",
      "score         40\n",
      "Name: 1, dtype: object\n",
      "\n",
      "2 name      sudhir\n",
      "degree    M.Tech\n",
      "score         80\n",
      "Name: 2, dtype: object\n",
      "\n",
      "3 name      Geeku\n",
      "degree      MBA\n",
      "score        98\n",
      "Name: 3, dtype: object\n",
      "\n"
     ]
    }
   ],
   "source": [
    "# importing pandas as pd\n",
    "import pandas as pd\n",
    "  \n",
    "# dictionary of lists\n",
    "dict = {'name':[\"aparna\", \"pankaj\", \"sudhir\", \"Geeku\"],\n",
    "        'degree': [\"MBA\", \"BCA\", \"M.Tech\", \"MBA\"],\n",
    "        'score':[90, 40, 80, 98]}\n",
    " \n",
    "# creating a dataframe from a dictionary \n",
    "df = pd.DataFrame(dict)\n",
    " \n",
    "# iterating over rows using iterrows() function \n",
    "for i, j in df.iterrows():\n",
    "    print(i, j)\n",
    "    print()"
   ]
  },
  {
   "cell_type": "code",
   "execution_count": 25,
   "metadata": {},
   "outputs": [
    {
     "name": "stdout",
     "output_type": "stream",
     "text": [
      "name 0    aparna\n",
      "1    pankaj\n",
      "2    sudhir\n",
      "3     Geeku\n",
      "Name: name, dtype: object\n",
      "\n",
      "degree 0       MBA\n",
      "1       BCA\n",
      "2    M.Tech\n",
      "3       MBA\n",
      "Name: degree, dtype: object\n",
      "\n",
      "score 0    90\n",
      "1    40\n",
      "2    80\n",
      "3    98\n",
      "Name: score, dtype: int64\n",
      "\n"
     ]
    }
   ],
   "source": [
    "# iterating over columns using iteritems() function \n",
    "for i, j in df.iteritems():\n",
    "    print(i, j)\n",
    "    print()"
   ]
  },
  {
   "cell_type": "code",
   "execution_count": 27,
   "metadata": {},
   "outputs": [
    {
     "name": "stdout",
     "output_type": "stream",
     "text": [
      "Pandas(Index=0, name='aparna', degree='MBA', score=90)\n",
      "\n",
      "Pandas(Index=1, name='pankaj', degree='BCA', score=40)\n",
      "\n",
      "Pandas(Index=2, name='sudhir', degree='M.Tech', score=80)\n",
      "\n",
      "Pandas(Index=3, name='Geeku', degree='MBA', score=98)\n",
      "\n"
     ]
    }
   ],
   "source": [
    "# iterating over columns using itertuples() function\n",
    "for i in df.itertuples():\n",
    "    print(i)\n",
    "    print()"
   ]
  },
  {
   "cell_type": "markdown",
   "metadata": {},
   "source": [
    "#### DataFrame Methods:\n",
    "\n",
    "Function \tDescription\n",
    "\n",
    "index() \tMethod returns index (row labels) of the DataFrame\n",
    "\n",
    "insert() \tMethod inserts a column into a DataFrame\n",
    "\n",
    "add() \tMethod returns addition of dataframe and other, element-wise (binary operator add)\n",
    "\n",
    "sub() \tMethod returns subtraction of dataframe and other, element-wise (binary operator sub)\n",
    "\n",
    "mul() \tMethod returns multiplication of dataframe and other, element-wise (binary operator mul)\n",
    "\n",
    "div() \tMethod returns floating division of dataframe and other, element-wise (binary operator truediv)\n",
    "\n",
    "unique() \tMethod extracts the unique values in the dataframe\n",
    "\n",
    "nunique() \tMethod returns count of the unique values in the dataframe\n",
    "value_counts() \tMethod counts the number of times each unique value occurs \n",
    "within the Series\n",
    "\n",
    "columns() \tMethod returns the column labels of the DataFrame\n",
    "\n",
    "axes() \tMethod returns a list representing the axes of the DataFrame\n",
    "\n",
    "isnull() \tMethod creates a Boolean Series for extracting rows with null values\n",
    "\n",
    "notnull() \tMethod creates a Boolean Series for extracting rows with non-null values\n",
    "\n",
    "between() \tMethod extracts rows where a column value falls in between a predefined range\n",
    "\n",
    "isin() \tMethod extracts rows from a DataFrame where a column value exists in a predefined collection\n",
    "\n",
    "dtypes() \tMethod returns a Series with the data type of each column. The result’s index is the original DataFrame’s columns\n",
    "\n",
    "astype() \tMethod converts the data types in a Series\n",
    "\n",
    "values() \tMethod returns a Numpy representation of the DataFrame i.e. only the values in the DataFrame will be returned, the axes labels will be removed\n",
    "\n",
    "sort_values()- Set1, Set2 \tMethod sorts a data frame in Ascending or Descending order of passed Column\n",
    "\n",
    "sort_index() \tMethod sorts the values in a DataFrame based on their index positions or labels instead of their values but sometimes a data frame is made out of two or more data frames and hence later index can be changed using this method\n",
    "\n",
    "loc[] \tMethod retrieves rows based on index label\n",
    "\n",
    "iloc[] \tMethod retrieves rows based on index position\n",
    "\n",
    "ix[] \tMethod retrieves DataFrame rows based on either index label or index position. This method combines the best features of the .loc[] and \n",
    ".iloc[] methods\n",
    "\n",
    "rename() \tMethod is called on a DataFrame to change the names of the index labels or column names\n",
    "\n",
    "columns() \tMethod is an alternative attribute to change the coloumn name\n",
    "\n",
    "drop() \tMethod is used to delete rows or columns from a DataFrame\n",
    "\n",
    "pop() \tMethod is used to delete rows or columns from a DataFrame\n",
    "\n",
    "sample() \tMethod pulls out a random sample of rows or columns from a DataFrame\n",
    "\n",
    "nsmallest() \tMethod pulls out the rows with the smallest values in a column\n",
    "\n",
    "nlargest() \tMethod pulls out the rows with the largest values in a column\n",
    "\n",
    "shape() \tMethod returns a tuple representing the dimensionality of the DataFrame\n",
    "\n",
    "ndim() \tMethod returns an ‘int’ representing the number of axes / array dimensions.\n",
    "Returns 1 if Series, otherwise returns 2 if DataFrame\n",
    "\n",
    "dropna() \tMethod allows the user to analyze and drop Rows/Columns with Null values in different ways\n",
    "\n",
    "fillna() \tMethod manages and let the user replace NaN values with some value of their own\n",
    "\n",
    "rank() \tValues in a Series can be ranked in order with this method\n",
    "\n",
    "query() \tMethod is an alternate string-based syntax for extracting a subset from a DataFrame\n",
    "\n",
    "copy() \tMethod creates an independent copy of a pandas object\n",
    "\n",
    "duplicated() \tMethod creates a Boolean Series and uses it to extract rows that have duplicate values\n",
    "\n",
    "drop_duplicates() \tMethod is an alternative option to identifying duplicate rows and removing them through filtering\n",
    "\n",
    "set_index() \tMethod sets the DataFrame index (row labels) using one or more existing columns\n",
    "\n",
    "reset_index() \tMethod resets index of a Data Frame. This method sets a list of integer ranging from 0 to length of data as index\n",
    "\n",
    "where() \tMethod is used to check a Data Frame for one or more condition and return the result accordingly. By default, the rows not satisfying the condition are filled with NaN value"
   ]
  },
  {
   "cell_type": "markdown",
   "metadata": {},
   "source": [
    "#### Creating a Pandas Series"
   ]
  },
  {
   "cell_type": "markdown",
   "metadata": {},
   "source": [
    "#### Creating a series from Dictionary:\n",
    "\n",
    "In order to create a series from dictionary, we have to first create a dictionary after that we can make a series using dictionary. Dictionary key are used to construct a index."
   ]
  },
  {
   "cell_type": "code",
   "execution_count": 44,
   "metadata": {},
   "outputs": [
    {
     "name": "stdout",
     "output_type": "stream",
     "text": [
      "Geeks    10\n",
      "for      20\n",
      "geeks    30\n",
      "dtype: int64\n"
     ]
    }
   ],
   "source": [
    "\n",
    "import pandas as pd \n",
    "   \n",
    "# a simple dictionary \n",
    "dict = {'Geeks' : 10, \n",
    "        'for' : 20, \n",
    "        'geeks' : 30} \n",
    "   \n",
    "# create series from dictionary \n",
    "ser = pd.Series(dict) \n",
    "   \n",
    "print(ser) \n"
   ]
  },
  {
   "cell_type": "markdown",
   "metadata": {},
   "source": [
    "#### Creating a series from Scalar value:"
   ]
  },
  {
   "cell_type": "markdown",
   "metadata": {},
   "source": [
    "In order to create a series from scalar value, an index must be provided. The scalar value will be repeated to match the length of index."
   ]
  },
  {
   "cell_type": "code",
   "execution_count": 45,
   "metadata": {},
   "outputs": [
    {
     "name": "stdout",
     "output_type": "stream",
     "text": [
      "0    10\n",
      "1    10\n",
      "2    10\n",
      "3    10\n",
      "4    10\n",
      "5    10\n",
      "dtype: int64\n"
     ]
    }
   ],
   "source": [
    "\n",
    "import pandas as pd \n",
    "  \n",
    "import numpy as np \n",
    "  \n",
    "# giving a scalar value with index \n",
    "ser = pd.Series(10, index =[0, 1, 2, 3, 4, 5]) \n",
    "  \n",
    "print(ser) \n"
   ]
  },
  {
   "cell_type": "markdown",
   "metadata": {},
   "source": [
    "#### Creating a series using NumPy functions :"
   ]
  },
  {
   "cell_type": "markdown",
   "metadata": {},
   "source": [
    "In order to create a series using numpy function, we can use different function of numpy like numpy.linspace(), numpy.random.radn()."
   ]
  },
  {
   "cell_type": "code",
   "execution_count": 46,
   "metadata": {},
   "outputs": [
    {
     "name": "stdout",
     "output_type": "stream",
     "text": [
      "0     3.0\n",
      "1    18.0\n",
      "2    33.0\n",
      "dtype: float64\n",
      "\n",
      " 0      1.0\n",
      "1     12.0\n",
      "2     23.0\n",
      "3     34.0\n",
      "4     45.0\n",
      "5     56.0\n",
      "6     67.0\n",
      "7     78.0\n",
      "8     89.0\n",
      "9    100.0\n",
      "dtype: float64\n"
     ]
    }
   ],
   "source": [
    "\n",
    "# import pandas and numpy  \n",
    "import pandas as pd  \n",
    "import numpy as np  \n",
    "    \n",
    "# series with numpy linspace()   \n",
    "ser1 = pd.Series(np.linspace(3, 33, 3))  \n",
    "print(ser1)  \n",
    "    \n",
    "# series with numpy linspace()  \n",
    "ser2 = pd.Series(np.linspace(1, 100, 10))  \n",
    "print(\"\\n\", ser2)  \n"
   ]
  },
  {
   "cell_type": "markdown",
   "metadata": {},
   "source": [
    "#### Creating a series from array: \n",
    "\n",
    "In order to create a series from array, we have to import a numpy module and have to use array() function."
   ]
  },
  {
   "cell_type": "code",
   "execution_count": 28,
   "metadata": {},
   "outputs": [
    {
     "name": "stdout",
     "output_type": "stream",
     "text": [
      "0    g\n",
      "1    e\n",
      "2    e\n",
      "3    k\n",
      "4    s\n",
      "dtype: object\n"
     ]
    }
   ],
   "source": [
    "# import pandas as pd\n",
    "import pandas as pd\n",
    " \n",
    "# import numpy as np\n",
    "import numpy as np\n",
    " \n",
    "# simple array\n",
    "data = np.array(['g','e','e','k','s'])\n",
    " \n",
    "ser = pd.Series(data)\n",
    "print(ser)"
   ]
  },
  {
   "cell_type": "markdown",
   "metadata": {},
   "source": [
    "#### Creating a series from Lists:\n",
    "\n",
    "In order to create a series from list, we have to first create a list after that we can create a series from list."
   ]
  },
  {
   "cell_type": "code",
   "execution_count": 29,
   "metadata": {},
   "outputs": [
    {
     "name": "stdout",
     "output_type": "stream",
     "text": [
      "0    g\n",
      "1    e\n",
      "2    e\n",
      "3    k\n",
      "4    s\n",
      "dtype: object\n"
     ]
    }
   ],
   "source": [
    "import pandas as pd\n",
    " \n",
    "# a simple list\n",
    "list = ['g', 'e', 'e', 'k', 's']\n",
    "  \n",
    "# create series form a list\n",
    "ser = pd.Series(list)\n",
    "print(ser)"
   ]
  },
  {
   "cell_type": "markdown",
   "metadata": {},
   "source": [
    "#### Accessing element of Series\n",
    "\n",
    "There are two ways through which we can access element of series, they are :\n",
    "\n",
    "    Accessing Element from Series with Position\n",
    "    Accessing Element Using Label (index)\n"
   ]
  },
  {
   "cell_type": "markdown",
   "metadata": {},
   "source": [
    "#### Accessing Element from Series with Position :\n",
    "\n",
    "In order to access the series element refers to the index number. Use the index operator [ ] to access an element in a series. The index must be an integer. In order to access multiple elements from a series, we use Slice operation."
   ]
  },
  {
   "cell_type": "code",
   "execution_count": 30,
   "metadata": {},
   "outputs": [
    {
     "name": "stdout",
     "output_type": "stream",
     "text": [
      "0     g\n",
      "1     e\n",
      "2     e\n",
      "3     k\n",
      "4     s\n",
      "5     f\n",
      "6     o\n",
      "7     r\n",
      "8     g\n",
      "9     e\n",
      "10    e\n",
      "11    k\n",
      "12    s\n",
      "dtype: object\n",
      "0    g\n",
      "1    e\n",
      "2    e\n",
      "3    k\n",
      "4    s\n",
      "dtype: object\n"
     ]
    }
   ],
   "source": [
    "# import pandas and numpy \n",
    "import pandas as pd\n",
    "import numpy as np\n",
    " \n",
    "# creating simple array\n",
    "data = np.array(['g','e','e','k','s','f', 'o','r','g','e','e','k','s'])\n",
    "ser = pd.Series(data)\n",
    "  \n",
    "#retrieve the first five element\n",
    "print(ser[:])\n",
    "print(ser[:5])"
   ]
  },
  {
   "cell_type": "markdown",
   "metadata": {},
   "source": [
    "#### Accessing Element Using Label (index) :\n",
    "    \n",
    "In order to access an element from series, we have to set values by index label. A Series is like a fixed-size dictionary in that you can get and set values by index label.\n",
    "\n",
    "Accessing a single element using index label "
   ]
  },
  {
   "cell_type": "code",
   "execution_count": 35,
   "metadata": {},
   "outputs": [
    {
     "name": "stdout",
     "output_type": "stream",
     "text": [
      "o\n",
      "g\n",
      "12    e\n",
      "13    k\n",
      "14    s\n",
      "dtype: object\n",
      "15    f\n",
      "14    s\n",
      "13    k\n",
      "dtype: object\n"
     ]
    }
   ],
   "source": [
    "# import pandas and numpy \n",
    "import pandas as pd\n",
    "import numpy as np\n",
    " \n",
    "# creating simple array\n",
    "data = np.array(['g','e','e','k','s','f', 'o','r','g','e','e','k','s'])\n",
    "ser = pd.Series(data,index=[10,11,12,13,14,15,16,17,18,19,20,21,22])\n",
    "  \n",
    "#accessing a element using index element\n",
    "print(ser[16])\n",
    "print(ser[10])\n",
    "print(ser[2:5])\n",
    "print(ser[5:2:-1])"
   ]
  },
  {
   "cell_type": "markdown",
   "metadata": {},
   "source": [
    "#### Indexing and Selecting Data in Series"
   ]
  },
  {
   "cell_type": "markdown",
   "metadata": {},
   "source": [
    "#### Indexing a Series using indexing operator [] :\n",
    "\n",
    "Indexing operator is used to refer to the square brackets following an object. The .loc and .iloc indexers also use the indexing operator to make selections. In this indexing operator to refer to df[ ]."
   ]
  },
  {
   "cell_type": "code",
   "execution_count": 36,
   "metadata": {},
   "outputs": [
    {
     "data": {
      "text/plain": [
       "0    Avery Bradley\n",
       "1      Jae Crowder\n",
       "2     John Holland\n",
       "3      R.J. Hunter\n",
       "4    Jonas Jerebko\n",
       "5     Amir Johnson\n",
       "6    Jordan Mickey\n",
       "7     Kelly Olynyk\n",
       "8     Terry Rozier\n",
       "9     Marcus Smart\n",
       "Name: Name, dtype: object"
      ]
     },
     "execution_count": 36,
     "metadata": {},
     "output_type": "execute_result"
    }
   ],
   "source": [
    "# importing pandas module  \n",
    "import pandas as pd  \n",
    "     \n",
    "# making data frame  \n",
    "df = pd.read_csv(\"nba.csv\")  \n",
    "   \n",
    "ser = pd.Series(df['Name']) \n",
    "data = ser.head(10)\n",
    "data "
   ]
  },
  {
   "cell_type": "markdown",
   "metadata": {},
   "source": [
    "#### Indexing a Series using .loc[ ] :\n",
    "\n",
    "This function selects data by refering the explicit index . The df.loc indexer selects data in a different way than just the indexing operator. It can select subsets of data. "
   ]
  },
  {
   "cell_type": "code",
   "execution_count": 37,
   "metadata": {},
   "outputs": [
    {
     "data": {
      "text/plain": [
       "3      R.J. Hunter\n",
       "4    Jonas Jerebko\n",
       "5     Amir Johnson\n",
       "6    Jordan Mickey\n",
       "Name: Name, dtype: object"
      ]
     },
     "execution_count": 37,
     "metadata": {},
     "output_type": "execute_result"
    }
   ],
   "source": [
    "# importing pandas module  \n",
    "import pandas as pd  \n",
    "     \n",
    "# making data frame  \n",
    "df = pd.read_csv(\"nba.csv\")  \n",
    "   \n",
    "ser = pd.Series(df['Name']) \n",
    "data = ser.head(10)\n",
    "\n",
    "\n",
    "# using .loc[] function\n",
    "data.loc[3:6]"
   ]
  },
  {
   "cell_type": "markdown",
   "metadata": {},
   "source": [
    "#### Indexing a Series using .iloc[ ] :\n",
    "This function allows us to retrieve data by position. In order to do that, we’ll need to specify the positions of the data that we want. The df.iloc indexer is very similar to df.loc but only uses integer locations to make its selections."
   ]
  },
  {
   "cell_type": "code",
   "execution_count": 38,
   "metadata": {},
   "outputs": [
    {
     "data": {
      "text/plain": [
       "3      R.J. Hunter\n",
       "4    Jonas Jerebko\n",
       "5     Amir Johnson\n",
       "Name: Name, dtype: object"
      ]
     },
     "execution_count": 38,
     "metadata": {},
     "output_type": "execute_result"
    }
   ],
   "source": [
    "# importing pandas module  \n",
    "import pandas as pd  \n",
    "     \n",
    "# making data frame  \n",
    "df = pd.read_csv(\"nba.csv\")  \n",
    "   \n",
    "ser = pd.Series(df['Name']) \n",
    "data = ser.head(10)\n",
    "\n",
    "\n",
    "# using .iloc[] function\n",
    "data.iloc[3:6]"
   ]
  },
  {
   "cell_type": "markdown",
   "metadata": {},
   "source": [
    "#### Binary Operation on Series\n",
    "\n",
    "We can perform binary operation on series like addition, subtraction and many other operation. In order to perform binary operation on series we have to use some function like .add(),.sub() etc.."
   ]
  },
  {
   "cell_type": "code",
   "execution_count": 39,
   "metadata": {},
   "outputs": [
    {
     "name": "stdout",
     "output_type": "stream",
     "text": [
      "a    5\n",
      "b    2\n",
      "c    3\n",
      "d    7\n",
      "dtype: int64 \n",
      "\n",
      " a    1\n",
      "b    6\n",
      "d    4\n",
      "e    9\n",
      "dtype: int64\n"
     ]
    }
   ],
   "source": [
    "# importing pandas module  \n",
    "import pandas as pd  \n",
    " \n",
    "# creating a series\n",
    "data = pd.Series([5, 2, 3,7], index=['a', 'b', 'c', 'd'])\n",
    " \n",
    "# creating a series\n",
    "data1 = pd.Series([1, 6, 4, 9], index=['a', 'b', 'd', 'e'])\n",
    " \n",
    "print(data, \"\\n\\n\", data1)"
   ]
  },
  {
   "cell_type": "markdown",
   "metadata": {},
   "source": [
    "Now we add two series using .add() function."
   ]
  },
  {
   "cell_type": "code",
   "execution_count": 40,
   "metadata": {},
   "outputs": [
    {
     "data": {
      "text/plain": [
       "a     6.0\n",
       "b     8.0\n",
       "c     3.0\n",
       "d    11.0\n",
       "e     9.0\n",
       "dtype: float64"
      ]
     },
     "execution_count": 40,
     "metadata": {},
     "output_type": "execute_result"
    }
   ],
   "source": [
    "data.add(data1, fill_value=0)"
   ]
  },
  {
   "cell_type": "code",
   "execution_count": 41,
   "metadata": {},
   "outputs": [
    {
     "data": {
      "text/plain": [
       "a    4.0\n",
       "b   -4.0\n",
       "c    3.0\n",
       "d    3.0\n",
       "e   -9.0\n",
       "dtype: float64"
      ]
     },
     "execution_count": 41,
     "metadata": {},
     "output_type": "execute_result"
    }
   ],
   "source": [
    "data.sub(data1, fill_value=0)"
   ]
  },
  {
   "cell_type": "markdown",
   "metadata": {},
   "source": [
    "#### Conversion Operation on Series"
   ]
  },
  {
   "cell_type": "markdown",
   "metadata": {},
   "source": [
    "In conversion operation we perform various operation like changing datatype of series, changing a series to list etc. In order to perform conversion operation we have various function which help in conversion like .astype(), .tolist() etc."
   ]
  },
  {
   "cell_type": "code",
   "execution_count": 42,
   "metadata": {},
   "outputs": [
    {
     "name": "stdout",
     "output_type": "stream",
     "text": [
      "BEFORE CONVERSION\n",
      " Name         object\n",
      "Team         object\n",
      "Number      float64\n",
      "Position     object\n",
      "Age         float64\n",
      "Height       object\n",
      "Weight      float64\n",
      "College      object\n",
      "Salary      float64\n",
      "dtype: object \n",
      "\n",
      "AFTER CONVERSION\n",
      " Name         object\n",
      "Team         object\n",
      "Number       object\n",
      "Position     object\n",
      "Age         float64\n",
      "Height       object\n",
      "Weight      float64\n",
      "College      object\n",
      "Salary        int32\n",
      "dtype: object \n",
      "\n"
     ]
    }
   ],
   "source": [
    "# Python program using astype\n",
    "# to convert a datatype of series\n",
    " \n",
    "# importing pandas module  \n",
    "import pandas as pd \n",
    "   \n",
    "# reading csv file from url  \n",
    "data = pd.read_csv(\"nba.csv\") \n",
    "    \n",
    "# dropping null value columns to avoid errors \n",
    "data.dropna(inplace = True) \n",
    "   \n",
    "# storing dtype before converting \n",
    "before = data.dtypes \n",
    "   \n",
    "# converting dtypes using astype \n",
    "data[\"Salary\"]= data[\"Salary\"].astype(int) \n",
    "data[\"Number\"]= data[\"Number\"].astype(str) \n",
    "   \n",
    "# storing dtype after converting \n",
    "after = data.dtypes \n",
    "   \n",
    "# printing to compare \n",
    "print(\"BEFORE CONVERSION\\n\", before, \"\\n\") \n",
    "print(\"AFTER CONVERSION\\n\", after, \"\\n\") "
   ]
  },
  {
   "cell_type": "code",
   "execution_count": 43,
   "metadata": {},
   "outputs": [
    {
     "name": "stdout",
     "output_type": "stream",
     "text": [
      "Data type before converting = <class 'pandas.core.series.Series'>\n",
      "Data type after converting = <class 'list'>\n"
     ]
    },
    {
     "data": {
      "text/plain": [
       "[7730337.0,\n",
       " 6796117.0,\n",
       " 1148640.0,\n",
       " 1170960.0,\n",
       " 2165160.0,\n",
       " 1824360.0,\n",
       " 3431040.0,\n",
       " 2569260.0,\n",
       " 6912869.0,\n",
       " 3425510.0,\n",
       " 1749840.0,\n",
       " 2616975.0,\n",
       " 845059.0,\n",
       " 1500000.0,\n",
       " 1335480.0,\n",
       " 6300000.0,\n",
       " 134215.0,\n",
       " 1500000.0,\n",
       " 19689000.0,\n",
       " 1140240.0,\n",
       " 947276.0,\n",
       " 981348.0,\n",
       " 947276.0,\n",
       " 947276.0,\n",
       " 11235955.0,\n",
       " 8000000.0,\n",
       " 1635476.0,\n",
       " 22875000.0,\n",
       " 845059.0,\n",
       " 845059.0,\n",
       " 1572360.0,\n",
       " 12650000.0,\n",
       " 3750000.0,\n",
       " 1636842.0,\n",
       " 4000000.0,\n",
       " 167406.0,\n",
       " 947276.0,\n",
       " 1000000.0,\n",
       " 4626960.0,\n",
       " 845059.0,\n",
       " 1074169.0,\n",
       " 6500000.0,\n",
       " 2144772.0,\n",
       " 525093.0,\n",
       " 3457800.0,\n",
       " 4582680.0,\n",
       " 947276.0,\n",
       " 2869440.0,\n",
       " 947276.0,\n",
       " 525093.0,\n",
       " 13600000.0,\n",
       " 10050000.0,\n",
       " 2500000.0,\n",
       " 7000000.0,\n",
       " 12000000.0,\n",
       " 6268675.0,\n",
       " 650000.0,\n",
       " 3553917.0,\n",
       " 245177.0,\n",
       " 1509360.0,\n",
       " 3873398.0,\n",
       " 13800000.0,\n",
       " 947276.0,\n",
       " 11370786.0,\n",
       " 2008748.0,\n",
       " 14260870.0,\n",
       " 11710456.0,\n",
       " 1131960.0,\n",
       " 845059.0,\n",
       " 1270964.0,\n",
       " 3815000.0,\n",
       " 15501000.0,\n",
       " 1100602.0,\n",
       " 111444.0,\n",
       " 5675000.0,\n",
       " 525093.0,\n",
       " 9650000.0,\n",
       " 18907726.0,\n",
       " 1100602.0,\n",
       " 19689000.0,\n",
       " 947276.0,\n",
       " 21468695.0,\n",
       " 3376000.0,\n",
       " 7085000.0,\n",
       " 3110796.0,\n",
       " 1159680.0,\n",
       " 3000000.0,\n",
       " 845059.0,\n",
       " 700000.0,\n",
       " 845059.0,\n",
       " 15592217.0,\n",
       " 1724250.0,\n",
       " 1155600.0,\n",
       " 3132240.0,\n",
       " 5103120.0,\n",
       " 981348.0,\n",
       " 947276.0,\n",
       " 5219169.0,\n",
       " 13500000.0,\n",
       " 2127840.0,\n",
       " 206192.0,\n",
       " 1160160.0,\n",
       " 981348.0,\n",
       " 13500000.0,\n",
       " 3807120.0,\n",
       " 1035000.0,\n",
       " 55722.0,\n",
       " 947276.0,\n",
       " 5500000.0,\n",
       " 2041080.0,\n",
       " 83397.0,\n",
       " 981348.0,\n",
       " 1015421.0,\n",
       " 1449187.0,\n",
       " 3398280.0,\n",
       " 5013559.0,\n",
       " 15851950.0,\n",
       " 947276.0,\n",
       " 525093.0,\n",
       " 12403101.0,\n",
       " 7700000.0,\n",
       " 3156600.0,\n",
       " 845059.0,\n",
       " 9500000.0,\n",
       " 845059.0,\n",
       " 2250000.0,\n",
       " 16407500.0,\n",
       " 4500000.0,\n",
       " 8500000.0,\n",
       " 947276.0,\n",
       " 2380440.0,\n",
       " 1015421.0,\n",
       " 13400000.0,\n",
       " 1391160.0,\n",
       " 20093064.0,\n",
       " 1535880.0,\n",
       " 1147276.0,\n",
       " 8193029.0,\n",
       " 16407501.0,\n",
       " 947276.0,\n",
       " 947276.0,\n",
       " 1276000.0,\n",
       " 19689000.0,\n",
       " 111196.0,\n",
       " 8988765.0,\n",
       " 14260870.0,\n",
       " 2100000.0,\n",
       " 2500000.0,\n",
       " 6500000.0,\n",
       " 2170465.0,\n",
       " 111444.0,\n",
       " 1252440.0,\n",
       " 2891760.0,\n",
       " 845059.0,\n",
       " 3272091.0,\n",
       " 16000000.0,\n",
       " 600000.0,\n",
       " 13913044.0,\n",
       " 2841960.0,\n",
       " 6270000.0,\n",
       " 5000000.0,\n",
       " 3000000.0,\n",
       " 4050000.0,\n",
       " 1007026.0,\n",
       " 17120106.0,\n",
       " 8000000.0,\n",
       " 4000000.0,\n",
       " 1358880.0,\n",
       " 211744.0,\n",
       " 1100000.0,\n",
       " 7000000.0,\n",
       " 2357760.0,\n",
       " 845059.0,\n",
       " 1007026.0,\n",
       " 3000000.0,\n",
       " 2399040.0,\n",
       " 947276.0,\n",
       " 1662360.0,\n",
       " 2943221.0,\n",
       " 8000000.0,\n",
       " 14700000.0,\n",
       " 16407500.0,\n",
       " 295327.0,\n",
       " 845059.0,\n",
       " 5152440.0,\n",
       " 2109294.0,\n",
       " 6600000.0,\n",
       " 1733040.0,\n",
       " 1449000.0,\n",
       " 4290000.0,\n",
       " 1100602.0,\n",
       " 3950313.0,\n",
       " 4053446.0,\n",
       " 2085671.0,\n",
       " 16407500.0,\n",
       " 1270964.0,\n",
       " 15361500.0,\n",
       " 845059.0,\n",
       " 947276.0,\n",
       " 5378974.0,\n",
       " 8193030.0,\n",
       " 306527.0,\n",
       " 6486486.0,\n",
       " 8229375.0,\n",
       " 1646400.0,\n",
       " 200600.0,\n",
       " 15756438.0,\n",
       " 1000000.0,\n",
       " 2489530.0,\n",
       " 3189794.0,\n",
       " 947276.0,\n",
       " 1404600.0,\n",
       " 5158539.0,\n",
       " 5000000.0,\n",
       " 3542500.0,\n",
       " 4088019.0,\n",
       " 9588426.0,\n",
       " 700902.0,\n",
       " 845059.0,\n",
       " 1201440.0,\n",
       " 1230840.0,\n",
       " 9638555.0,\n",
       " 9000000.0,\n",
       " 5464000.0,\n",
       " 8500000.0,\n",
       " 1100602.0,\n",
       " 3036927.0,\n",
       " 2850000.0,\n",
       " 7070730.0,\n",
       " 169883.0,\n",
       " 1164858.0,\n",
       " 845059.0,\n",
       " 10734586.0,\n",
       " 845059.0,\n",
       " 1320000.0,\n",
       " 15514031.0,\n",
       " 1015421.0,\n",
       " 10595507.0,\n",
       " 55722.0,\n",
       " 3382023.0,\n",
       " 19689000.0,\n",
       " 1142880.0,\n",
       " 947276.0,\n",
       " 5250000.0,\n",
       " 10000000.0,\n",
       " 16407500.0,\n",
       " 200600.0,\n",
       " 250750.0,\n",
       " 3578947.0,\n",
       " 525093.0,\n",
       " 1499187.0,\n",
       " 2000000.0,\n",
       " 1304520.0,\n",
       " 2854940.0,\n",
       " 12000000.0,\n",
       " 1000000.0,\n",
       " 5746479.0,\n",
       " 18671659.0,\n",
       " 947276.0,\n",
       " 525093.0,\n",
       " 3333333.0,\n",
       " 8000000.0,\n",
       " 947276.0,\n",
       " 189455.0,\n",
       " 947276.0,\n",
       " 525093.0,\n",
       " 6110034.0,\n",
       " 2612520.0,\n",
       " 6331404.0,\n",
       " 3034356.0,\n",
       " 5675000.0,\n",
       " 2139000.0,\n",
       " 12000000.0,\n",
       " 7000000.0,\n",
       " 4204200.0,\n",
       " 22192730.0,\n",
       " 10151612.0,\n",
       " 2854940.0,\n",
       " 261894.0,\n",
       " 845059.0,\n",
       " 5543725.0,\n",
       " 525093.0,\n",
       " 20000000.0,\n",
       " 981348.0,\n",
       " 2481720.0,\n",
       " 947276.0,\n",
       " 4171680.0,\n",
       " 845059.0,\n",
       " 1294440.0,\n",
       " 2380593.0,\n",
       " 5192520.0,\n",
       " 2505720.0,\n",
       " 4300000.0,\n",
       " 11250000.0,\n",
       " 5000000.0,\n",
       " 4000000.0,\n",
       " 5694674.0,\n",
       " 4375000.0,\n",
       " 561716.0,\n",
       " 3300000.0,\n",
       " 273038.0,\n",
       " 8000000.0,\n",
       " 1920240.0,\n",
       " 4662960.0,\n",
       " 2170465.0,\n",
       " 1100602.0,\n",
       " 200600.0,\n",
       " 15851950.0,\n",
       " 2814000.0,\n",
       " 3000000.0,\n",
       " 3533333.0,\n",
       " 10449438.0,\n",
       " 11235955.0,\n",
       " 1584480.0,\n",
       " 947276.0,\n",
       " 4345000.0,\n",
       " 258489.0,\n",
       " 1474440.0,\n",
       " 1282080.0,\n",
       " 2148360.0,\n",
       " 2056920.0,\n",
       " 1938840.0,\n",
       " 947276.0,\n",
       " 5703600.0,\n",
       " 5758680.0,\n",
       " 2279040.0,\n",
       " 3750000.0,\n",
       " 20158622.0,\n",
       " 3135000.0,\n",
       " 1140240.0,\n",
       " 16407500.0,\n",
       " 1463040.0,\n",
       " 222888.0,\n",
       " 3344000.0,\n",
       " 2021520.0,\n",
       " 1210800.0,\n",
       " 4500000.0,\n",
       " 5138430.0,\n",
       " 16744218.0,\n",
       " 525093.0,\n",
       " 8042895.0,\n",
       " 625093.0,\n",
       " 947276.0,\n",
       " 6980802.0,\n",
       " 2894059.0,\n",
       " 6000000.0,\n",
       " 5016000.0,\n",
       " 3075880.0,\n",
       " 4236287.0,\n",
       " 2525160.0,\n",
       " 525093.0,\n",
       " 1415520.0,\n",
       " 2854940.0,\n",
       " 2637720.0,\n",
       " 4775000.0,\n",
       " 2658240.0,\n",
       " 9463484.0,\n",
       " 12000000.0,\n",
       " 15409570.0,\n",
       " 1348440.0,\n",
       " 981348.0,\n",
       " 2239800.0,\n",
       " 2433333.0,\n",
       " 947276.0]"
      ]
     },
     "execution_count": 43,
     "metadata": {},
     "output_type": "execute_result"
    }
   ],
   "source": [
    "# Python program converting\n",
    "# a series into list\n",
    " \n",
    "# importing pandas module  \n",
    "import pandas as pd  \n",
    "   \n",
    "# importing regex module \n",
    "import re \n",
    "     \n",
    "# making data frame  \n",
    "data = pd.read_csv(\"nba.csv\")  \n",
    "     \n",
    "# removing null values to avoid errors  \n",
    "data.dropna(inplace = True)  \n",
    "   \n",
    "# storing dtype before operation \n",
    "dtype_before = type(data[\"Salary\"]) \n",
    "   \n",
    "# converting to list \n",
    "salary_list = data[\"Salary\"].tolist() \n",
    "   \n",
    "# storing dtype after operation \n",
    "dtype_after = type(salary_list) \n",
    "   \n",
    "# printing dtype \n",
    "print(\"Data type before converting = {}\\nData type after converting = {}\"\n",
    "      .format(dtype_before, dtype_after)) \n",
    "   \n",
    "# displaying list \n",
    "salary_list "
   ]
  },
  {
   "cell_type": "markdown",
   "metadata": {},
   "source": [
    "#### Binary operation methods on series:\n",
    "\n",
    "Function \tDescription\n",
    "\n",
    "add() \tMethod is used to add series or list like objects with same length to the caller series\n",
    "\n",
    "sub() \tMethod is used to subtract series or list like objects with same length from the caller series\n",
    "\n",
    "mul() \tMethod is used to multiply series or list like objects with same length with the caller series\n",
    "\n",
    "div() \tMethod is used to divide series or list like objects with same length by the caller series\n",
    "\n",
    "sum() \tReturns the sum of the values for the requested axis\n",
    "\n",
    "prod() \tReturns the product of the values for the requested axis\n",
    "\n",
    "mean() \tReturns the mean of the values for the requested axis\n",
    "\n",
    "pow() \tMethod is used to put each element of passed series as exponential power of caller series and returned the results\n",
    "\n",
    "abs() \tMethod is used to get the absolute numeric value of each element in Series/DataFrame\n",
    "\n",
    "cov() \tMethod is used to find covariance of two series"
   ]
  },
  {
   "cell_type": "markdown",
   "metadata": {},
   "source": [
    "#### Pandas series method:\n",
    "\n",
    "Function \tDescription\n",
    "\n",
    "Series() \tA pandas Series can be created with the Series() constructor method. This constructor method accepts a variety of inputs\n",
    "\n",
    "combine_first() \tMethod is used to combine two series into one\n",
    "\n",
    "count() \tReturns number of non-NA/null observations in the Series\n",
    "\n",
    "size() \tReturns the number of elements in the underlying data\n",
    "\n",
    "name() \tMethod allows to give a name to a Series object, i.e. to the column\n",
    "\n",
    "is_unique() \tMethod returns boolean if values in the object are unique\n",
    "\n",
    "idxmax() \tMethod to extract the index positions of the highest values in a Series\n",
    "\n",
    "idxmin() \tMethod to extract the index positions of the lowest values in a Series\n",
    "\n",
    "sort_values() \tMethod is called on a Series to sort the values in ascending or descending order\n",
    "\n",
    "sort_index() \tMethod is called on a pandas Series to sort it by the index instead of its values\n",
    "\n",
    "head() \tMethod is used to return a specified number of rows from the beginning of a Series. The method returns a brand new Series\n",
    "\n",
    "tail() \tMethod is used to return a specified number of rows from the end of a Series. The method returns a brand new Series\n",
    "\n",
    "le() \tUsed to compare every element of Caller series with passed series.It returns True for every element which is Less than or Equal to the element in passed series\n",
    "\n",
    "ne() \tUsed to compare every element of Caller series with passed series. It returns True for every element which is Not Equal to the element in passed series\n",
    "\n",
    "ge() \tUsed to compare every element of Caller series with passed series. It returns True for every element which is Greater than or Equal to the element in passed series\n",
    "\n",
    "eq() \tUsed to compare every element of Caller series with passed series. It returns True for every element which is Equal to the element in passed series\n",
    "\n",
    "gt() \tUsed to compare two series and return Boolean value for every respective element\n",
    "\n",
    "lt() \tUsed to compare two series and return Boolean value for every respective element\n",
    "\n",
    "clip() \tUsed to clip value below and above to passed Least and Max value\n",
    "\n",
    "clip_lower() \tUsed to clip values below a passed least value\n",
    "\n",
    "clip_upper() \tUsed to clip values above a passed maximum value\n",
    "\n",
    "astype() \tMethod is used to change data type of a series\n",
    "\n",
    "tolist() \tMethod is used to convert a series to list\n",
    "\n",
    "get() \tMethod is called on a Series to extract values from a Series. This is alternative syntax to the traditional bracket syntax\n",
    "\n",
    "unique() \tPandas unique() is used to see the unique values in a particular column\n",
    "\n",
    "nunique() \tPandas nunique() is used to get a count of unique values\n",
    "\n",
    "value_counts() \tMethod to count the number of the times each unique value occurs in a Series\n",
    "\n",
    "factorize() \tMethod helps to get the numeric representation of an array by identifying distinct values\n",
    "\n",
    "map() \tMethod to tie together the values from one object to another\n",
    "\n",
    "between() \tPandas between() method is used on series to check which values lie between first and second argument\n",
    "\n",
    "apply() \tMethod is called and feeded a Python function as an argument to use the function on every Series value. This method is helpful for executing custom operations that are not included in pandas or numpy"
   ]
  },
  {
   "cell_type": "code",
   "execution_count": null,
   "metadata": {},
   "outputs": [],
   "source": []
  },
  {
   "cell_type": "code",
   "execution_count": null,
   "metadata": {},
   "outputs": [],
   "source": []
  },
  {
   "cell_type": "code",
   "execution_count": null,
   "metadata": {},
   "outputs": [],
   "source": []
  }
 ],
 "metadata": {
  "kernelspec": {
   "display_name": "Python 3",
   "language": "python",
   "name": "python3"
  },
  "language_info": {
   "codemirror_mode": {
    "name": "ipython",
    "version": 3
   },
   "file_extension": ".py",
   "mimetype": "text/x-python",
   "name": "python",
   "nbconvert_exporter": "python",
   "pygments_lexer": "ipython3",
   "version": "3.7.3"
  }
 },
 "nbformat": 4,
 "nbformat_minor": 2
}
