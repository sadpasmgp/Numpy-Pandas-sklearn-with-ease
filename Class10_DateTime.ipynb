{
 "cells": [
  {
   "cell_type": "markdown",
   "metadata": {},
   "source": [
    "### Python datetime"
   ]
  },
  {
   "cell_type": "markdown",
   "metadata": {},
   "source": [
    "Python has a module named datetime to work with dates and times"
   ]
  },
  {
   "cell_type": "code",
   "execution_count": 1,
   "metadata": {},
   "outputs": [
    {
     "name": "stdout",
     "output_type": "stream",
     "text": [
      "2020-04-09 01:01:36.299485\n"
     ]
    }
   ],
   "source": [
    "import datetime\n",
    "\n",
    "datetime_object = datetime.datetime.now()\n",
    "print(datetime_object)"
   ]
  },
  {
   "cell_type": "markdown",
   "metadata": {},
   "source": [
    "Here, we have imported datetime module using import datetime statement.\n",
    "\n",
    "One of the classes defined in the datetime module is datetime class. We then used now() method to create a datetime object containing the current local date and time."
   ]
  },
  {
   "cell_type": "code",
   "execution_count": 2,
   "metadata": {},
   "outputs": [
    {
     "name": "stdout",
     "output_type": "stream",
     "text": [
      "2020-04-09\n"
     ]
    }
   ],
   "source": [
    "import datetime\n",
    "\n",
    "date_object = datetime.date.today()\n",
    "print(date_object)"
   ]
  },
  {
   "cell_type": "markdown",
   "metadata": {},
   "source": [
    "In this program, we have used today() method defined in the date class to get a date object containing the current local date."
   ]
  },
  {
   "cell_type": "code",
   "execution_count": 3,
   "metadata": {},
   "outputs": [
    {
     "name": "stdout",
     "output_type": "stream",
     "text": [
      "['MAXYEAR', 'MINYEAR', '__builtins__', '__cached__', '__doc__', '__file__', '__loader__', '__name__', '__package__', '__spec__', 'date', 'datetime', 'datetime_CAPI', 'sys', 'time', 'timedelta', 'timezone', 'tzinfo']\n"
     ]
    }
   ],
   "source": [
    "import datetime\n",
    "\n",
    "print(dir(datetime))"
   ]
  },
  {
   "cell_type": "markdown",
   "metadata": {},
   "source": [
    "Commonly used classes in the datetime module are:\n",
    "\n",
    "    date Class\n",
    "    time Class\n",
    "    datetime Class\n",
    "    timedelta Class\n"
   ]
  },
  {
   "cell_type": "markdown",
   "metadata": {},
   "source": [
    "#### datetime.date Class\n",
    "\n",
    "You can instantiate date objects from the date class. A date object represents a date (year, month and day)."
   ]
  },
  {
   "cell_type": "code",
   "execution_count": 4,
   "metadata": {},
   "outputs": [
    {
     "name": "stdout",
     "output_type": "stream",
     "text": [
      "2019-04-13\n"
     ]
    }
   ],
   "source": [
    "import datetime\n",
    "\n",
    "d = datetime.date(2019, 4, 13)\n",
    "print(d)"
   ]
  },
  {
   "cell_type": "markdown",
   "metadata": {},
   "source": [
    "If you are wondering, date() in the above example is a constructor of the date class. The constructor takes three arguments: year, month and day.\n",
    "\n",
    "The variable a is a date object."
   ]
  },
  {
   "cell_type": "markdown",
   "metadata": {},
   "source": [
    "We can only import date class from the datetime module. Here's how:"
   ]
  },
  {
   "cell_type": "code",
   "execution_count": 5,
   "metadata": {},
   "outputs": [
    {
     "name": "stdout",
     "output_type": "stream",
     "text": [
      "2019-04-13\n"
     ]
    }
   ],
   "source": [
    "from datetime import date\n",
    "\n",
    "a = date(2019, 4, 13)\n",
    "print(a)\n",
    "\n"
   ]
  },
  {
   "cell_type": "markdown",
   "metadata": {},
   "source": [
    "You can create a date object containing the current date by using a classmethod named today(). Here's how:"
   ]
  },
  {
   "cell_type": "code",
   "execution_count": 6,
   "metadata": {},
   "outputs": [
    {
     "name": "stdout",
     "output_type": "stream",
     "text": [
      "Current date = 2020-04-09\n"
     ]
    }
   ],
   "source": [
    "from datetime import date\n",
    "\n",
    "today = date.today()\n",
    "\n",
    "print(\"Current date =\", today)\n",
    "\n"
   ]
  },
  {
   "cell_type": "markdown",
   "metadata": {},
   "source": [
    "#### Get date from a timestamp\n",
    "\n",
    "We can also create date objects from a timestamp. A Unix timestamp is the number of seconds between a particular date and January 1, 1970 at UTC. You can convert a timestamp to date using fromtimestamp() method."
   ]
  },
  {
   "cell_type": "code",
   "execution_count": 7,
   "metadata": {},
   "outputs": [
    {
     "name": "stdout",
     "output_type": "stream",
     "text": [
      "Date = 2012-01-11\n"
     ]
    }
   ],
   "source": [
    "\n",
    "from datetime import date\n",
    "\n",
    "timestamp = date.fromtimestamp(1326244364)\n",
    "print(\"Date =\", timestamp)"
   ]
  },
  {
   "cell_type": "markdown",
   "metadata": {},
   "source": [
    "#### Print today's year, month and day\n",
    "\n",
    "We can get year, month, day, day of the week etc. from the date object easily. Here's how:"
   ]
  },
  {
   "cell_type": "code",
   "execution_count": 8,
   "metadata": {},
   "outputs": [
    {
     "name": "stdout",
     "output_type": "stream",
     "text": [
      "Current year: 2020\n",
      "Current month: 4\n",
      "Current day: 9\n"
     ]
    }
   ],
   "source": [
    "\n",
    "from datetime import date\n",
    "\n",
    "# date object of today's date\n",
    "today = date.today() \n",
    "\n",
    "print(\"Current year:\", today.year)\n",
    "print(\"Current month:\", today.month)\n",
    "print(\"Current day:\", today.day)"
   ]
  },
  {
   "cell_type": "markdown",
   "metadata": {},
   "source": [
    "#### datetime.time\n",
    "\n",
    "A time object instantiated from the time class represents the local time."
   ]
  },
  {
   "cell_type": "code",
   "execution_count": 9,
   "metadata": {},
   "outputs": [
    {
     "name": "stdout",
     "output_type": "stream",
     "text": [
      "a = 00:00:00\n",
      "b = 11:34:56\n",
      "c = 11:34:56\n",
      "d = 11:34:56.234566\n"
     ]
    }
   ],
   "source": [
    "from datetime import time\n",
    "\n",
    "# time(hour = 0, minute = 0, second = 0)\n",
    "a = time()\n",
    "print(\"a =\", a)\n",
    "\n",
    "# time(hour, minute and second)\n",
    "b = time(11, 34, 56)\n",
    "print(\"b =\", b)\n",
    "\n",
    "# time(hour, minute and second)\n",
    "c = time(hour = 11, minute = 34, second = 56)\n",
    "print(\"c =\", c)\n",
    "\n",
    "# time(hour, minute, second, microsecond)\n",
    "d = time(11, 34, 56, 234566)\n",
    "print(\"d =\", d)"
   ]
  },
  {
   "cell_type": "markdown",
   "metadata": {},
   "source": [
    "#### Print hour, minute, second and microsecond\n",
    "\n",
    "Once you create a time object, you can easily print its attributes such as hour, minute etc."
   ]
  },
  {
   "cell_type": "code",
   "execution_count": 10,
   "metadata": {},
   "outputs": [
    {
     "name": "stdout",
     "output_type": "stream",
     "text": [
      "hour = 11\n",
      "minute = 34\n",
      "second = 56\n",
      "microsecond = 0\n"
     ]
    }
   ],
   "source": [
    "from datetime import time\n",
    "\n",
    "a = time(11, 34, 56)\n",
    "\n",
    "print(\"hour =\", a.hour)\n",
    "print(\"minute =\", a.minute)\n",
    "print(\"second =\", a.second)\n",
    "print(\"microsecond =\", a.microsecond)"
   ]
  },
  {
   "cell_type": "markdown",
   "metadata": {},
   "source": [
    "Notice that we haven't passed microsecond argument. Hence, its default value 0 is printed."
   ]
  },
  {
   "cell_type": "markdown",
   "metadata": {},
   "source": [
    "#### datetime.datetime\n",
    "\n",
    "The datetime module has a class named dateclass that can contain information from both date and time objects."
   ]
  },
  {
   "cell_type": "code",
   "execution_count": 11,
   "metadata": {},
   "outputs": [
    {
     "name": "stdout",
     "output_type": "stream",
     "text": [
      "2018-11-28 00:00:00\n",
      "2017-11-28 23:55:59.342380\n"
     ]
    }
   ],
   "source": [
    "from datetime import datetime\n",
    "\n",
    "#datetime(year, month, day)\n",
    "a = datetime(2018, 11, 28)\n",
    "print(a)\n",
    "\n",
    "# datetime(year, month, day, hour, minute, second, microsecond)\n",
    "b = datetime(2017, 11, 28, 23, 55, 59, 342380)\n",
    "print(b)"
   ]
  },
  {
   "cell_type": "markdown",
   "metadata": {},
   "source": [
    "The first three arguments year, month and day in the datetime() constructor are mandatory."
   ]
  },
  {
   "cell_type": "markdown",
   "metadata": {},
   "source": [
    "#### Print year, month, hour, minute and timestamp"
   ]
  },
  {
   "cell_type": "code",
   "execution_count": 12,
   "metadata": {},
   "outputs": [
    {
     "name": "stdout",
     "output_type": "stream",
     "text": [
      "year = 2017\n",
      "month = 11\n",
      "hour = 23\n",
      "minute = 55\n",
      "timestamp = 1511893559.34238\n"
     ]
    }
   ],
   "source": [
    "from datetime import datetime\n",
    "\n",
    "a = datetime(2017, 11, 28, 23, 55, 59, 342380)\n",
    "print(\"year =\", a.year)\n",
    "print(\"month =\", a.month)\n",
    "print(\"hour =\", a.hour)\n",
    "print(\"minute =\", a.minute)\n",
    "print(\"timestamp =\", a.timestamp())"
   ]
  },
  {
   "cell_type": "markdown",
   "metadata": {},
   "source": [
    "#### datetime.timedelta\n",
    "\n",
    "A timedelta object represents the difference between two dates or times."
   ]
  },
  {
   "cell_type": "code",
   "execution_count": 13,
   "metadata": {},
   "outputs": [
    {
     "name": "stdout",
     "output_type": "stream",
     "text": [
      "t3 = 201 days, 0:00:00\n",
      "t6 = -333 days, 1:14:20\n",
      "type of t3 = <class 'datetime.timedelta'>\n",
      "type of t6 = <class 'datetime.timedelta'>\n"
     ]
    }
   ],
   "source": [
    "from datetime import datetime, date\n",
    "\n",
    "t1 = date(year = 2018, month = 7, day = 12)\n",
    "t2 = date(year = 2017, month = 12, day = 23)\n",
    "t3 = t1 - t2\n",
    "print(\"t3 =\", t3)\n",
    "\n",
    "t4 = datetime(year = 2018, month = 7, day = 12, hour = 7, minute = 9, second = 33)\n",
    "t5 = datetime(year = 2019, month = 6, day = 10, hour = 5, minute = 55, second = 13)\n",
    "t6 = t4 - t5\n",
    "print(\"t6 =\", t6)\n",
    "\n",
    "print(\"type of t3 =\", type(t3)) \n",
    "print(\"type of t6 =\", type(t6))  "
   ]
  },
  {
   "cell_type": "markdown",
   "metadata": {},
   "source": [
    "Notice, both t3 and t6 are of <class 'datetime.timedelta'> type."
   ]
  },
  {
   "cell_type": "markdown",
   "metadata": {},
   "source": [
    "#### Difference between two timedelta objects\n",
    "\n"
   ]
  },
  {
   "cell_type": "code",
   "execution_count": 14,
   "metadata": {},
   "outputs": [
    {
     "name": "stdout",
     "output_type": "stream",
     "text": [
      "t3 = 14 days, 13:55:39\n"
     ]
    }
   ],
   "source": [
    "from datetime import timedelta\n",
    "\n",
    "t1 = timedelta(weeks = 2, days = 5, hours = 1, seconds = 33)\n",
    "t2 = timedelta(days = 4, hours = 11, minutes = 4, seconds = 54)\n",
    "t3 = t1 - t2\n",
    "\n",
    "print(\"t3 =\", t3)"
   ]
  },
  {
   "cell_type": "markdown",
   "metadata": {},
   "source": [
    "#### Printing negative timedelta object"
   ]
  },
  {
   "cell_type": "code",
   "execution_count": 15,
   "metadata": {},
   "outputs": [
    {
     "name": "stdout",
     "output_type": "stream",
     "text": [
      "t3 = -1 day, 23:59:39\n",
      "t3 = 0:00:21\n"
     ]
    }
   ],
   "source": [
    "from datetime import timedelta\n",
    "\n",
    "t1 = timedelta(seconds = 33)\n",
    "t2 = timedelta(seconds = 54)\n",
    "t3 = t1 - t2\n",
    "\n",
    "print(\"t3 =\", t3)\n",
    "print(\"t3 =\", abs(t3))"
   ]
  },
  {
   "cell_type": "markdown",
   "metadata": {},
   "source": [
    "#### Time duration in seconds\n",
    "\n",
    "You can get the total number of seconds in a timedelta object using total_seconds() method."
   ]
  },
  {
   "cell_type": "code",
   "execution_count": 16,
   "metadata": {},
   "outputs": [
    {
     "name": "stdout",
     "output_type": "stream",
     "text": [
      "total seconds = 435633.233423\n"
     ]
    }
   ],
   "source": [
    "from datetime import timedelta\n",
    "\n",
    "t = timedelta(days = 5, hours = 1, seconds = 33, microseconds = 233423)\n",
    "print(\"total seconds =\", t.total_seconds())"
   ]
  },
  {
   "cell_type": "markdown",
   "metadata": {},
   "source": [
    "You can also find sum of two dates and times using + operator. Also, you can multiply and divide a timedelta object by integers and floats."
   ]
  },
  {
   "cell_type": "markdown",
   "metadata": {},
   "source": [
    "#### Python format datetime\n",
    "\n",
    "The way date and time is represented may be different in different places, organizations etc. It's more common to use mm/dd/yyyy in the US, whereas dd/mm/yyyy is more common in the UK.\n",
    "\n",
    "Python has strftime() and strptime() methods to handle this."
   ]
  },
  {
   "cell_type": "markdown",
   "metadata": {},
   "source": [
    "#### Python strftime() - datetime object to string\n",
    "\n",
    "The strftime() method is defined under classes date, datetime and time. The method creates a formatted string from a given date, datetime or time object."
   ]
  },
  {
   "cell_type": "markdown",
   "metadata": {},
   "source": [
    "#### Format date using strftime()\n",
    "\n"
   ]
  },
  {
   "cell_type": "code",
   "execution_count": 17,
   "metadata": {},
   "outputs": [
    {
     "name": "stdout",
     "output_type": "stream",
     "text": [
      "time: 01:42:10\n",
      "s1: 04/09/2020, 01:42:10\n",
      "s2: 09/04/2020, 01:42:10\n"
     ]
    }
   ],
   "source": [
    "from datetime import datetime\n",
    "\n",
    "# current date and time\n",
    "now = datetime.now()\n",
    "\n",
    "t = now.strftime(\"%H:%M:%S\")\n",
    "print(\"time:\", t)\n",
    "\n",
    "s1 = now.strftime(\"%m/%d/%Y, %H:%M:%S\")\n",
    "# mm/dd/YY H:M:S format\n",
    "print(\"s1:\", s1)\n",
    "\n",
    "s2 = now.strftime(\"%d/%m/%Y, %H:%M:%S\")\n",
    "# dd/mm/YY H:M:S format\n",
    "print(\"s2:\", s2)"
   ]
  },
  {
   "cell_type": "markdown",
   "metadata": {},
   "source": [
    "Here, %Y, %m, %d, %H etc. are format codes. The strftime() method takes one or more format codes and returns a formatted string based on it.\n",
    "\n",
    "In the above program, t, s1 and s2 are strings.\n",
    "\n",
    "    %Y - year [0001,..., 2018, 2019,..., 9999]\n",
    "    %m - month [01, 02, ..., 11, 12]\n",
    "    %d - day [01, 02, ..., 30, 31]\n",
    "    %H - hour [00, 01, ..., 22, 23\n",
    "    %M - minute [00, 01, ..., 58, 59]\n",
    "    %S - second [00, 01, ..., 58, 59]\n"
   ]
  },
  {
   "cell_type": "markdown",
   "metadata": {},
   "source": [
    "#### Python strptime() - string to datetime"
   ]
  },
  {
   "cell_type": "markdown",
   "metadata": {},
   "source": [
    "The strptime() method creates a datetime object from a given string (representing date and time).\n"
   ]
  },
  {
   "cell_type": "code",
   "execution_count": 18,
   "metadata": {},
   "outputs": [
    {
     "name": "stdout",
     "output_type": "stream",
     "text": [
      "date_string = 21 June, 2018\n",
      "date_object = 2018-06-21 00:00:00\n"
     ]
    }
   ],
   "source": [
    "from datetime import datetime\n",
    "\n",
    "date_string = \"21 June, 2018\"\n",
    "print(\"date_string =\", date_string)\n",
    "\n",
    "date_object = datetime.strptime(date_string, \"%d %B, %Y\")\n",
    "print(\"date_object =\", date_object)"
   ]
  },
  {
   "cell_type": "markdown",
   "metadata": {},
   "source": [
    "The strptime() method takes two arguments:\n",
    "\n",
    "    a string representing date and time\n",
    "    \n",
    "    format code equivalent to the first argument\n",
    "\n",
    "By the way, %d, %B and %Y format codes are used for day, month(full name) and year respectively."
   ]
  },
  {
   "cell_type": "markdown",
   "metadata": {},
   "source": [
    "#### Handling timezone in Python\n",
    "\n",
    "Suppose, you are working on a project and need to display date and time based on their timezone. Rather than trying to handle timezone yourself, we suggest you to use a third-party pytZ module.\n",
    "\n"
   ]
  },
  {
   "cell_type": "code",
   "execution_count": 19,
   "metadata": {},
   "outputs": [
    {
     "name": "stdout",
     "output_type": "stream",
     "text": [
      "Local: 04/09/2020, 01:45:29\n",
      "NY: 04/08/2020, 16:15:29\n",
      "London: 04/08/2020, 21:15:29\n"
     ]
    }
   ],
   "source": [
    "from datetime import datetime\n",
    "import pytz\n",
    "\n",
    "local = datetime.now()\n",
    "print(\"Local:\", local.strftime(\"%m/%d/%Y, %H:%M:%S\"))\n",
    "\n",
    "\n",
    "tz_NY = pytz.timezone('America/New_York') \n",
    "datetime_NY = datetime.now(tz_NY)\n",
    "print(\"NY:\", datetime_NY.strftime(\"%m/%d/%Y, %H:%M:%S\"))\n",
    "\n",
    "tz_London = pytz.timezone('Europe/London')\n",
    "datetime_London = datetime.now(tz_London)\n",
    "print(\"London:\", datetime_London.strftime(\"%m/%d/%Y, %H:%M:%S\"))"
   ]
  },
  {
   "cell_type": "markdown",
   "metadata": {},
   "source": [
    "#### Python strftime()"
   ]
  },
  {
   "cell_type": "markdown",
   "metadata": {},
   "source": [
    "The strftime() method returns a string representing date and time using date, time or datetime object.\n"
   ]
  },
  {
   "cell_type": "markdown",
   "metadata": {},
   "source": [
    "#### datetime to string using strftime()\n",
    "\n",
    "The program below converts a datetime object containing current date and time to different string formats."
   ]
  },
  {
   "cell_type": "code",
   "execution_count": 21,
   "metadata": {},
   "outputs": [
    {
     "name": "stdout",
     "output_type": "stream",
     "text": [
      "year: 2020\n",
      "month: 04\n",
      "day: 09\n",
      "time: 01:47:59\n",
      "date and time: 04/09/2020, 01:47:59\n"
     ]
    }
   ],
   "source": [
    "from datetime import datetime\n",
    "\n",
    "now = datetime.now() # current date and time\n",
    "\n",
    "year = now.strftime(\"%Y\")\n",
    "print(\"year:\", year)\n",
    "\n",
    "month = now.strftime(\"%m\")\n",
    "print(\"month:\", month)\n",
    "\n",
    "day = now.strftime(\"%d\")\n",
    "print(\"day:\", day)\n",
    "\n",
    "time = now.strftime(\"%H:%M:%S\")\n",
    "print(\"time:\", time)\n",
    "\n",
    "date_time = now.strftime(\"%m/%d/%Y, %H:%M:%S\")\n",
    "print(\"date and time:\",date_time)\t"
   ]
  },
  {
   "cell_type": "markdown",
   "metadata": {},
   "source": [
    "Here, year, day, time and date_time are strings, whereas now is a datetime object."
   ]
  },
  {
   "cell_type": "markdown",
   "metadata": {},
   "source": [
    "#### How strftime() works?\n",
    "\n",
    "In the above program, %Y, %m, %d etc. are format codes. The strftime() method takes one or more format codes as an argument and returns a formatted string based on it.\n",
    "\n",
    "    We imported datetime class from the datetime module. It's because the object of datetime class can access strftime() method.\n",
    "    \n",
    "    The datetime object containing current date and time is stored in now variable.\n",
    "    \n",
    "    The strftime() method can be used to create formatted strings.\n",
    "    \n",
    "    The string you pass to the strftime() method may contain more than one format codes.\n",
    "    \n",
    "    "
   ]
  },
  {
   "cell_type": "markdown",
   "metadata": {},
   "source": [
    "#### Creating string from a timestamp\n",
    "\n"
   ]
  },
  {
   "cell_type": "code",
   "execution_count": 22,
   "metadata": {},
   "outputs": [
    {
     "name": "stdout",
     "output_type": "stream",
     "text": [
      "Date time object: 2018-06-12 15:25:22\n",
      "Output 2: 06/12/2018, 15:25:22\n",
      "Output 3: 12 Jun, 2018\n",
      "Output 4: 12 June, 2018\n",
      "Output 5: 03PM\n"
     ]
    }
   ],
   "source": [
    "from datetime import datetime\n",
    "\n",
    "timestamp = 1528797322\n",
    "date_time = datetime.fromtimestamp(timestamp)\n",
    "\n",
    "print(\"Date time object:\", date_time)\n",
    "\n",
    "d = date_time.strftime(\"%m/%d/%Y, %H:%M:%S\")\n",
    "print(\"Output 2:\", d)\t\n",
    "\n",
    "d = date_time.strftime(\"%d %b, %Y\")\n",
    "print(\"Output 3:\", d)\n",
    "\n",
    "d = date_time.strftime(\"%d %B, %Y\")\n",
    "print(\"Output 4:\", d)\n",
    "\n",
    "d = date_time.strftime(\"%I%p\")\n",
    "print(\"Output 5:\", d)"
   ]
  },
  {
   "cell_type": "markdown",
   "metadata": {},
   "source": [
    "#### Format Code List\n",
    "\n",
    "The table below shows all the codes that you can pass to the strftime() method.\n",
    "\n",
    "\t\n",
    "    Directive\t\t\t\tMeaning\t\t\t\tExample\n",
    "\t\t\n",
    "\t\n",
    "\t%a\t\t\tAbbreviated weekday name.\t\t\tSun, Mon, ...\n",
    "\t\t\n",
    "\t%A\t\t\tFull weekday name.\t\t\t\tSunday, Monday, ...\n",
    "\n",
    "    %w\t\t\tWeekday as a decimal number.\t\t0, 1, ..., 6\n",
    "\t\t\n",
    "\t%d\t\t\tDay of the month as a zero-padded decimal.\t01, 02, ..., 31\n",
    "\t\t\n",
    "\t%-d\t\t\tDay of the month as a decimal number.\t\t1, 2, ..., 30\n",
    "\n",
    "    %b\t\t\tAbbreviated month name.\t\t\t\tJan, Feb, ..., Dec\n",
    "\n",
    "\t%B\t\t\tFull month name.\t\t\t\tJanuary, February, ...\n",
    "\n",
    "\t%m\t\t\tMonth as a zero-padded decimal number.\t\t01, 02, ..., 12\n",
    "\n",
    "    %-m\t\t\tMonth as a decimal number.\t\t\t1, 2, ..., 12\n",
    "\t\t\n",
    "\t%y\t\t\tYear without century as a zero-padded decimal number.\n",
    "\t\t\t\t00, 01, ..., 99\n",
    "\t\t\n",
    "\t%-y\t\t\tYear without century as a decimal number.\t\t0, 1, ..., 99\n",
    "\t\t\n",
    "\t%Y\t\t\tYear with century as a decimal number.\t\t2013, 2019 etc.\n",
    "\t\t\n",
    "\t%H\t\t\tHour (24-hour clock) as a zero-padded decimal number.\n",
    "\t\t\t\t00, 01, ..., 23\n",
    "\t\t\n",
    "\t%-H\t\t\tHour (24-hour clock) as a decimal number.\t0, 1, ..., 23\n",
    "\t\t\n",
    "\t%I\t\t\tHour (12-hour clock) as a zero-padded decimal number.\n",
    "\t\t\t\t01, 02, ..., 12\n",
    "\t\n",
    "    %-I\t\t\tHour (12-hour clock) as a decimal number.\n",
    "\t\t\t\t1, 2, ... 12\n",
    "\t\t\n",
    "     %p\t\t\tLocale’s AM or PM.\t\t\tAM, PM\n",
    "\t\t\n",
    "\n",
    "\t\t\n",
    "\t%M\t\t\tMinute as a zero-padded decimal number.\t\t00, 01, ..., 59\n",
    "\t\t\n",
    "\t%-M\t\t\tMinute as a decimal number.\t\t\t0, 1, ..., 59\n",
    "\t\t\n",
    "\t%S\t\t\tSecond as a zero-padded decimal number.\t\t00, 01, ..., 59\n",
    "\t\t\n",
    "\t%-S\t\t\tSecond as a decimal number.\t\t\t0, 1, ..., 59\n",
    "\t\t\n",
    "\t%f\t\t\tMicrosecond as a decimal number, zero-padded on the left.\n",
    "\t\t\t\t000000 - 999999\n",
    "\t\t\n",
    "\t%z\t\t\tUTC offset in the form +HHMM or -HHMM.\n",
    "\t\t\t\t \n",
    "\t%Z\t\t\tTime zone name.\n",
    "\t\t\t\t \n",
    "\t\t\n",
    "\t%j\t\t\tDay of the year as a zero-padded decimal number.\n",
    "\t\t\t\t001, 002, ..., 366\n",
    "\t\t\n",
    "\t%-j\t\t\tDay of the year as a decimal number.\t\t1, 2, ..., 366\n",
    "\t\t\n",
    "\t%U\t\t\tWeek number of the year (Sunday as the first day of the week). All days in a new year preceding the first Sunday are considered to be in week 0.\n",
    "\t\t\t\t00, 01, ..., 53\n",
    "\t\t\n",
    "\t%W\t\t\tWeek number of the year (Monday as the first day of the week). All days in a new year preceding the first Monday are considered to be in week 0.\n",
    "\t\t\t\t00, 01, ..., 53\n",
    "\t\t\n",
    "\t%c\t\t\tLocale’s appropriate date and time representation.\n",
    "\t\t\t\tMon Sep 30 07:06:05 2013\n",
    "\t\t\n",
    "\t%x\t\t\tLocale’s appropriate date representation.\n",
    "\t\t\t\t09/30/13\n",
    "\t\t\n",
    "\t%X\t\t\tLocale’s appropriate time representation.\t\t07:06:05\n",
    "\t\t\n",
    "\n",
    "\t%%\t\t\tA literal '%' character."
   ]
  },
  {
   "cell_type": "markdown",
   "metadata": {},
   "source": [
    "#### Locale's appropriate date and time"
   ]
  },
  {
   "cell_type": "code",
   "execution_count": 23,
   "metadata": {},
   "outputs": [
    {
     "name": "stdout",
     "output_type": "stream",
     "text": [
      "Output 1: Tue Jun 12 15:25:22 2018\n",
      "Output 2: 06/12/18\n",
      "Output 3: 15:25:22\n"
     ]
    }
   ],
   "source": [
    "from datetime import datetime\n",
    "\n",
    "timestamp = 1528797322\n",
    "date_time = datetime.fromtimestamp(timestamp)\n",
    "\n",
    "d = date_time.strftime(\"%c\")\n",
    "print(\"Output 1:\", d)\n",
    "\n",
    "d = date_time.strftime(\"%x\")\n",
    "print(\"Output 2:\", d)\n",
    "\n",
    "d = date_time.strftime(\"%X\")\n",
    "print(\"Output 3:\", d)"
   ]
  },
  {
   "cell_type": "markdown",
   "metadata": {},
   "source": [
    "Format codes %c, %x and %X are used for locale's appropriate date and time representation."
   ]
  },
  {
   "cell_type": "markdown",
   "metadata": {},
   "source": [
    "#### Python strptime()"
   ]
  },
  {
   "cell_type": "markdown",
   "metadata": {},
   "source": [
    "The strptime() method creates a datetime object from the given string."
   ]
  },
  {
   "cell_type": "code",
   "execution_count": 24,
   "metadata": {},
   "outputs": [
    {
     "name": "stdout",
     "output_type": "stream",
     "text": [
      "date_string = 21 June, 2018\n",
      "type of date_string = <class 'str'>\n",
      "date_object = 2018-06-21 00:00:00\n",
      "type of date_object = <class 'datetime.datetime'>\n"
     ]
    }
   ],
   "source": [
    "from datetime import datetime\n",
    "\n",
    "date_string = \"21 June, 2018\"\n",
    "\n",
    "print(\"date_string =\", date_string)\n",
    "print(\"type of date_string =\", type(date_string))\n",
    "\n",
    "date_object = datetime.strptime(date_string, \"%d %B, %Y\")\n",
    "\n",
    "print(\"date_object =\", date_object)\n",
    "print(\"type of date_object =\", type(date_object))"
   ]
  },
  {
   "cell_type": "markdown",
   "metadata": {},
   "source": [
    "#### How strptime() works?\n",
    "\n",
    "The strptime() class method takes two arguments:\n",
    "\n",
    "    string (that be converted to datetime)\n",
    "    \n",
    "    format code\n",
    "\n",
    "Based on the string and format code used, the method returns its equivalent datetime object.\n",
    "\n",
    "In the above example:"
   ]
  },
  {
   "cell_type": "markdown",
   "metadata": {},
   "source": [
    "Here,\n",
    "\n",
    "    %d - Represents the day of the month. Example: 01, 02, ..., 31\n",
    "    %B - Month's name in full. Example: January, February etc.\n",
    "    %Y - Year in four digits. Example: 2018, 2019 etc.\n"
   ]
  },
  {
   "cell_type": "markdown",
   "metadata": {},
   "source": [
    "#### string to datetime object"
   ]
  },
  {
   "cell_type": "code",
   "execution_count": 25,
   "metadata": {},
   "outputs": [
    {
     "name": "stdout",
     "output_type": "stream",
     "text": [
      "dt_object1 = 2018-11-12 09:15:32\n",
      "dt_object2 = 2018-12-11 09:15:32\n"
     ]
    }
   ],
   "source": [
    "from datetime import datetime\n",
    "\n",
    "dt_string = \"12/11/2018 09:15:32\"\n",
    "\n",
    "# Considering date is in dd/mm/yyyy format\n",
    "dt_object1 = datetime.strptime(dt_string, \"%d/%m/%Y %H:%M:%S\")\n",
    "print(\"dt_object1 =\", dt_object1)\n",
    "\n",
    "# Considering date is in mm/dd/yyyy format\n",
    "dt_object2 = datetime.strptime(dt_string, \"%m/%d/%Y %H:%M:%S\")\n",
    "print(\"dt_object2 =\", dt_object2)"
   ]
  },
  {
   "cell_type": "markdown",
   "metadata": {},
   "source": [
    "Format Code List\n",
    "\n",
    "The table below shows all the format codes that you can use.\n",
    "\n",
    "\t\n",
    "\t\t\n",
    "\t\t\tDirective\n",
    "\t\t\t\tMeaning\n",
    "\t\t\t\tExample\n",
    "\t\t\n",
    "\n",
    "\t\n",
    "\t\n",
    "\t\t\n",
    "\t\t\t%a\n",
    "\t\t\t\tAbbreviated weekday name.\n",
    "\t\t\t\tSun, Mon, ...\n",
    "\t\t\n",
    "\n",
    "\t\t\n",
    "\t\t\t%A\n",
    "\t\t\t\tFull weekday name.\n",
    "\t\t\t\tSunday, Monday, ...\n",
    "\t\t\n",
    "\n",
    "\t\t\n",
    "\t\t\t%w\n",
    "\t\t\t\tWeekday as a decimal number.\n",
    "\t\t\t\t0, 1, ..., 6\n",
    "\t\t\n",
    "\n",
    "\t\t\n",
    "\t\t\t%d\n",
    "\t\t\t\tDay of the month as a zero-padded decimal.\n",
    "\t\t\t\t01, 02, ..., 31\n",
    "\t\t\n",
    "\n",
    "\t\t\n",
    "\t\t\t%-d\n",
    "\t\t\t\tDay of the month as a decimal number.\n",
    "\t\t\t\t1, 2, ..., 30\n",
    "\t\t\n",
    "\n",
    "\t\t\n",
    "\t\t\t%b\n",
    "\t\t\t\tAbbreviated month name.\n",
    "\t\t\t\tJan, Feb, ..., Dec\n",
    "\t\t\n",
    "\n",
    "\t\t\n",
    "\t\t\t%B\n",
    "\t\t\t\tFull month name.\n",
    "\t\t\t\tJanuary, February, ...\n",
    "\t\t\n",
    "\n",
    "\t\t\n",
    "\t\t\t%m\n",
    "\t\t\t\tMonth as a zero-padded decimal number.\n",
    "\t\t\t\t01, 02, ..., 12\n",
    "\t\t\n",
    "\n",
    "\t\t\n",
    "\t\t\t%-m\n",
    "\t\t\t\tMonth as a decimal number.\n",
    "\t\t\t\t1, 2, ..., 12\n",
    "\t\t\n",
    "\n",
    "\t\t\n",
    "\t\t\t%y\n",
    "\t\t\t\tYear without century as a zero-padded decimal number.\n",
    "\t\t\t\t00, 01, ..., 99\n",
    "\t\t\n",
    "\n",
    "\t\t\n",
    "\t\t\t%-y\n",
    "\t\t\t\tYear without century as a decimal number.\n",
    "\t\t\t\t0, 1, ..., 99\n",
    "\t\t\n",
    "\n",
    "\t\t\n",
    "\t\t\t%Y\n",
    "\t\t\t\tYear with century as a decimal number.\n",
    "\t\t\t\t2013, 2019 etc.\n",
    "\t\t\n",
    "\n",
    "\t\t\n",
    "\t\t\t%H\n",
    "\t\t\t\tHour (24-hour clock) as a zero-padded decimal number.\n",
    "\t\t\t\t00, 01, ..., 23\n",
    "\t\t\n",
    "\n",
    "\t\t\n",
    "\t\t\t%-H\n",
    "\t\t\t\tHour (24-hour clock) as a decimal number.\n",
    "\t\t\t\t0, 1, ..., 23\n",
    "\t\t\n",
    "\n",
    "\t\t\n",
    "\t\t\t%I\n",
    "\t\t\t\tHour (12-hour clock) as a zero-padded decimal number.\n",
    "\t\t\t\t01, 02, ..., 12\n",
    "\t\t\n",
    "\n",
    "\t\t\n",
    "\t\t\t%-I\n",
    "\t\t\t\tHour (12-hour clock) as a decimal number.\n",
    "\t\t\t\t1, 2, ... 12\n",
    "\t\t\n",
    "\n",
    "\t\t\n",
    "\t\t\t%p\n",
    "\t\t\t\tLocale’s AM or PM.\n",
    "\t\t\t\tAM, PM\n",
    "\t\t\n",
    "\n",
    "\t\t\n",
    "\t\t\t%M\n",
    "\t\t\t\tMinute as a zero-padded decimal number.\n",
    "\t\t\t\t00, 01, ..., 59\n",
    "\t\t\n",
    "\n",
    "\t\t\n",
    "\t\t\t%-M\n",
    "\t\t\t\tMinute as a decimal number.\n",
    "\t\t\t\t0, 1, ..., 59\n",
    "\t\t\n",
    "\n",
    "\t\t\n",
    "\t\t\t%S\n",
    "\t\t\t\tSecond as a zero-padded decimal number.\n",
    "\t\t\t\t00, 01, ..., 59\n",
    "\t\t\n",
    "\n",
    "\t\t\n",
    "\t\t\t%-S\n",
    "\t\t\t\tSecond as a decimal number.\n",
    "\t\t\t\t0, 1, ..., 59\n",
    "\t\t\n",
    "\n",
    "\t\t\n",
    "\t\t\t%f\n",
    "\t\t\t\tMicrosecond as a decimal number, zero-padded on the left.\n",
    "\t\t\t\t000000 - 999999\n",
    "\t\t\n",
    "\n",
    "\t\t\n",
    "\t\t\t%z\n",
    "\t\t\t\tUTC offset in the form +HHMM or -HHMM.\n",
    "\t\t\t\t \n",
    "\t\t\n",
    "\n",
    "\t\t\n",
    "\t\t\t%Z\n",
    "\t\t\t\tTime zone name.\n",
    "\t\t\t\t \n",
    "\t\t\n",
    "\n",
    "\t\t\n",
    "\t\t\t%j\n",
    "\t\t\t\tDay of the year as a zero-padded decimal number.\n",
    "\t\t\t\t001, 002, ..., 366\n",
    "\t\t\n",
    "\n",
    "\t\t\n",
    "\t\t\t%-j\n",
    "\t\t\t\tDay of the year as a decimal number.\n",
    "\t\t\t\t1, 2, ..., 366\n",
    "\t\t\n",
    "\n",
    "\t\t\n",
    "\t\t\t%U\n",
    "\t\t\t\tWeek number of the year (Sunday as the first day of the week). All days in a new year preceding the first Sunday are considered to be in week 0.\n",
    "\t\t\t\t00, 01, ..., 53\n",
    "\t\t\n",
    "\n",
    "\t\t\n",
    "\t\t\t%W\n",
    "\t\t\t\tWeek number of the year (Monday as the first day of the week). All days in a new year preceding the first Monday are considered to be in week 0.\n",
    "\t\t\t\t00, 01, ..., 53\n",
    "\t\t\n",
    "\n",
    "\t\t\n",
    "\t\t\t%c\n",
    "\t\t\t\tLocale’s appropriate date and time representation.\n",
    "\t\t\t\tMon Sep 30 07:06:05 2013\n",
    "\t\t\n",
    "\n",
    "\t\t\n",
    "\t\t\t%x\n",
    "\t\t\t\tLocale’s appropriate date representation.\n",
    "\t\t\t\t09/30/13\n",
    "\t\t\n",
    "\n",
    "\t\t\n",
    "\t\t\t%X\n",
    "\t\t\t\tLocale’s appropriate time representation.\n",
    "\t\t\t\t07:06:05\n",
    "\t\t\n",
    "\n",
    "\t\t\n",
    "\t\t\t%%\n",
    "\t\t\t\tA literal '%' character."
   ]
  },
  {
   "cell_type": "markdown",
   "metadata": {},
   "source": [
    "#### ValueError in strptime()\n",
    "\n",
    "If the string (first argument) and the format code (second argument) passed to the strptime() doesn't match, you will get ValueError. For example:"
   ]
  },
  {
   "cell_type": "code",
   "execution_count": 26,
   "metadata": {},
   "outputs": [
    {
     "ename": "ValueError",
     "evalue": "time data '12/11/2018' does not match format '%d %m %Y'",
     "output_type": "error",
     "traceback": [
      "\u001b[1;31m---------------------------------------------------------------------------\u001b[0m",
      "\u001b[1;31mValueError\u001b[0m                                Traceback (most recent call last)",
      "\u001b[1;32m<ipython-input-26-37e61183768c>\u001b[0m in \u001b[0;36m<module>\u001b[1;34m\u001b[0m\n\u001b[0;32m      2\u001b[0m \u001b[1;33m\u001b[0m\u001b[0m\n\u001b[0;32m      3\u001b[0m \u001b[0mdate_string\u001b[0m \u001b[1;33m=\u001b[0m \u001b[1;34m\"12/11/2018\"\u001b[0m\u001b[1;33m\u001b[0m\u001b[1;33m\u001b[0m\u001b[0m\n\u001b[1;32m----> 4\u001b[1;33m \u001b[0mdate_object\u001b[0m \u001b[1;33m=\u001b[0m \u001b[0mdatetime\u001b[0m\u001b[1;33m.\u001b[0m\u001b[0mstrptime\u001b[0m\u001b[1;33m(\u001b[0m\u001b[0mdate_string\u001b[0m\u001b[1;33m,\u001b[0m \u001b[1;34m\"%d %m %Y\"\u001b[0m\u001b[1;33m)\u001b[0m\u001b[1;33m\u001b[0m\u001b[1;33m\u001b[0m\u001b[0m\n\u001b[0m\u001b[0;32m      5\u001b[0m \u001b[1;33m\u001b[0m\u001b[0m\n\u001b[0;32m      6\u001b[0m \u001b[0mprint\u001b[0m\u001b[1;33m(\u001b[0m\u001b[1;34m\"date_object =\"\u001b[0m\u001b[1;33m,\u001b[0m \u001b[0mdate_object\u001b[0m\u001b[1;33m)\u001b[0m\u001b[1;33m\u001b[0m\u001b[1;33m\u001b[0m\u001b[0m\n",
      "\u001b[1;32m~\\Anaconda3\\lib\\_strptime.py\u001b[0m in \u001b[0;36m_strptime_datetime\u001b[1;34m(cls, data_string, format)\u001b[0m\n\u001b[0;32m    575\u001b[0m     \"\"\"Return a class cls instance based on the input string and the\n\u001b[0;32m    576\u001b[0m     format string.\"\"\"\n\u001b[1;32m--> 577\u001b[1;33m     \u001b[0mtt\u001b[0m\u001b[1;33m,\u001b[0m \u001b[0mfraction\u001b[0m\u001b[1;33m,\u001b[0m \u001b[0mgmtoff_fraction\u001b[0m \u001b[1;33m=\u001b[0m \u001b[0m_strptime\u001b[0m\u001b[1;33m(\u001b[0m\u001b[0mdata_string\u001b[0m\u001b[1;33m,\u001b[0m \u001b[0mformat\u001b[0m\u001b[1;33m)\u001b[0m\u001b[1;33m\u001b[0m\u001b[1;33m\u001b[0m\u001b[0m\n\u001b[0m\u001b[0;32m    578\u001b[0m     \u001b[0mtzname\u001b[0m\u001b[1;33m,\u001b[0m \u001b[0mgmtoff\u001b[0m \u001b[1;33m=\u001b[0m \u001b[0mtt\u001b[0m\u001b[1;33m[\u001b[0m\u001b[1;33m-\u001b[0m\u001b[1;36m2\u001b[0m\u001b[1;33m:\u001b[0m\u001b[1;33m]\u001b[0m\u001b[1;33m\u001b[0m\u001b[1;33m\u001b[0m\u001b[0m\n\u001b[0;32m    579\u001b[0m     \u001b[0margs\u001b[0m \u001b[1;33m=\u001b[0m \u001b[0mtt\u001b[0m\u001b[1;33m[\u001b[0m\u001b[1;33m:\u001b[0m\u001b[1;36m6\u001b[0m\u001b[1;33m]\u001b[0m \u001b[1;33m+\u001b[0m \u001b[1;33m(\u001b[0m\u001b[0mfraction\u001b[0m\u001b[1;33m,\u001b[0m\u001b[1;33m)\u001b[0m\u001b[1;33m\u001b[0m\u001b[1;33m\u001b[0m\u001b[0m\n",
      "\u001b[1;32m~\\Anaconda3\\lib\\_strptime.py\u001b[0m in \u001b[0;36m_strptime\u001b[1;34m(data_string, format)\u001b[0m\n\u001b[0;32m    357\u001b[0m     \u001b[1;32mif\u001b[0m \u001b[1;32mnot\u001b[0m \u001b[0mfound\u001b[0m\u001b[1;33m:\u001b[0m\u001b[1;33m\u001b[0m\u001b[1;33m\u001b[0m\u001b[0m\n\u001b[0;32m    358\u001b[0m         raise ValueError(\"time data %r does not match format %r\" %\n\u001b[1;32m--> 359\u001b[1;33m                          (data_string, format))\n\u001b[0m\u001b[0;32m    360\u001b[0m     \u001b[1;32mif\u001b[0m \u001b[0mlen\u001b[0m\u001b[1;33m(\u001b[0m\u001b[0mdata_string\u001b[0m\u001b[1;33m)\u001b[0m \u001b[1;33m!=\u001b[0m \u001b[0mfound\u001b[0m\u001b[1;33m.\u001b[0m\u001b[0mend\u001b[0m\u001b[1;33m(\u001b[0m\u001b[1;33m)\u001b[0m\u001b[1;33m:\u001b[0m\u001b[1;33m\u001b[0m\u001b[1;33m\u001b[0m\u001b[0m\n\u001b[0;32m    361\u001b[0m         raise ValueError(\"unconverted data remains: %s\" %\n",
      "\u001b[1;31mValueError\u001b[0m: time data '12/11/2018' does not match format '%d %m %Y'"
     ]
    }
   ],
   "source": [
    "from datetime import datetime\n",
    "\n",
    "date_string = \"12/11/2018\"\n",
    "date_object = datetime.strptime(date_string, \"%d %m %Y\")\n",
    "\n",
    "print(\"date_object =\", date_object)"
   ]
  },
  {
   "cell_type": "code",
   "execution_count": 27,
   "metadata": {},
   "outputs": [
    {
     "name": "stdout",
     "output_type": "stream",
     "text": [
      "date_object = 2018-12-11 00:00:00\n"
     ]
    }
   ],
   "source": [
    "#datetime.strptime(dt_string, \"%m/%d/%Y %H:%M:%S\")\n",
    "date_object = datetime.strptime(date_string, \"%m/%d/%Y\")\n",
    "\n",
    "print(\"date_object =\", date_object)"
   ]
  },
  {
   "cell_type": "code",
   "execution_count": 28,
   "metadata": {},
   "outputs": [
    {
     "name": "stdout",
     "output_type": "stream",
     "text": [
      "date_object = 2018-11-12 00:00:00\n"
     ]
    }
   ],
   "source": [
    "date_object = datetime.strptime(date_string, \"%d/%m/%Y\")\n",
    "\n",
    "print(\"date_object =\", date_object)"
   ]
  },
  {
   "cell_type": "markdown",
   "metadata": {},
   "source": [
    "#### How to get current date and time in Python?"
   ]
  },
  {
   "cell_type": "code",
   "execution_count": 29,
   "metadata": {},
   "outputs": [
    {
     "name": "stdout",
     "output_type": "stream",
     "text": [
      "Today's date: 2020-04-09\n"
     ]
    }
   ],
   "source": [
    "from datetime import date\n",
    "\n",
    "today = date.today()\n",
    "print(\"Today's date:\", today)"
   ]
  },
  {
   "cell_type": "markdown",
   "metadata": {},
   "source": [
    "Here, we imported the date class from the datetime module. Then, we used the date.today() method to get the current local date.\n",
    "\n",
    "By the way, date.today() returns a date object, which is assigned to the today variable in the above program. Now, you can use the strftime() method to create a string representing date in different formats."
   ]
  },
  {
   "cell_type": "code",
   "execution_count": 30,
   "metadata": {},
   "outputs": [
    {
     "name": "stdout",
     "output_type": "stream",
     "text": [
      "d1 = 09/04/2020\n",
      "d2 = April 09, 2020\n",
      "d3 = 04/09/20\n",
      "d4 = Apr-09-2020\n"
     ]
    }
   ],
   "source": [
    "from datetime import date\n",
    "\n",
    "today = date.today()\n",
    "\n",
    "# dd/mm/YY\n",
    "d1 = today.strftime(\"%d/%m/%Y\")\n",
    "print(\"d1 =\", d1)\n",
    "\n",
    "# Textual month, day and year\t\n",
    "d2 = today.strftime(\"%B %d, %Y\")\n",
    "print(\"d2 =\", d2)\n",
    "\n",
    "# mm/dd/y\n",
    "d3 = today.strftime(\"%m/%d/%y\")\n",
    "print(\"d3 =\", d3)\n",
    "\n",
    "# Month abbreviation, day and year\t\n",
    "d4 = today.strftime(\"%b-%d-%Y\")\n",
    "print(\"d4 =\", d4)"
   ]
  },
  {
   "cell_type": "code",
   "execution_count": 31,
   "metadata": {},
   "outputs": [
    {
     "name": "stdout",
     "output_type": "stream",
     "text": [
      "now = 2020-04-09 03:11:37.691220\n",
      "date and time = 09/04/2020 03:11:37\n"
     ]
    }
   ],
   "source": [
    "from datetime import datetime\n",
    "\n",
    "# datetime object containing current date and time\n",
    "now = datetime.now()\n",
    " \n",
    "print(\"now =\", now)\n",
    "\n",
    "# dd/mm/YY H:M:S\n",
    "dt_string = now.strftime(\"%d/%m/%Y %H:%M:%S\")\n",
    "print(\"date and time =\", dt_string)\t"
   ]
  },
  {
   "cell_type": "code",
   "execution_count": 32,
   "metadata": {},
   "outputs": [
    {
     "name": "stdout",
     "output_type": "stream",
     "text": [
      "Current Time = 03:11:49\n"
     ]
    }
   ],
   "source": [
    "from datetime import datetime\n",
    "\n",
    "now = datetime.now()\n",
    "\n",
    "current_time = now.strftime(\"%H:%M:%S\")\n",
    "print(\"Current Time =\", current_time)"
   ]
  },
  {
   "cell_type": "code",
   "execution_count": 33,
   "metadata": {},
   "outputs": [
    {
     "name": "stdout",
     "output_type": "stream",
     "text": [
      "now = 03:11:59.640755\n",
      "type(now) = <class 'datetime.time'>\n"
     ]
    }
   ],
   "source": [
    "from datetime import datetime\n",
    "\n",
    "now = datetime.now().time() # time object\n",
    "\n",
    "print(\"now =\", now)\n",
    "print(\"type(now) =\", type(now))\t"
   ]
  },
  {
   "cell_type": "markdown",
   "metadata": {},
   "source": [
    "#### Current time using time module"
   ]
  },
  {
   "cell_type": "code",
   "execution_count": 34,
   "metadata": {},
   "outputs": [
    {
     "name": "stdout",
     "output_type": "stream",
     "text": [
      "03:12:07\n"
     ]
    }
   ],
   "source": [
    "import time\n",
    "\n",
    "t = time.localtime()\n",
    "current_time = time.strftime(\"%H:%M:%S\", t)\n",
    "print(current_time)"
   ]
  },
  {
   "cell_type": "markdown",
   "metadata": {},
   "source": [
    "#### Current time of a timezone"
   ]
  },
  {
   "cell_type": "code",
   "execution_count": 35,
   "metadata": {},
   "outputs": [
    {
     "name": "stdout",
     "output_type": "stream",
     "text": [
      "NY time: 17:42:22\n",
      "London time: 22:42:22\n"
     ]
    }
   ],
   "source": [
    "from datetime import datetime\n",
    "import pytz\n",
    "\n",
    "tz_NY = pytz.timezone('America/New_York') \n",
    "datetime_NY = datetime.now(tz_NY)\n",
    "print(\"NY time:\", datetime_NY.strftime(\"%H:%M:%S\"))\n",
    "\n",
    "tz_London = pytz.timezone('Europe/London')\n",
    "datetime_London = datetime.now(tz_London)\n",
    "print(\"London time:\", datetime_London.strftime(\"%H:%M:%S\"))"
   ]
  },
  {
   "cell_type": "markdown",
   "metadata": {},
   "source": [
    "#### Python timestamp to datetime and vice-versa"
   ]
  },
  {
   "cell_type": "markdown",
   "metadata": {},
   "source": [
    "It's pretty common to store date and time as a timestamp in a database. A Unix timestamp is the number of seconds between a particular date and January 1, 1970 at UTC"
   ]
  },
  {
   "cell_type": "markdown",
   "metadata": {},
   "source": [
    "#### Python timestamp to datetime"
   ]
  },
  {
   "cell_type": "code",
   "execution_count": 36,
   "metadata": {},
   "outputs": [
    {
     "name": "stdout",
     "output_type": "stream",
     "text": [
      "dt_object = 2018-12-25 14:57:53\n",
      "type(dt_object) = <class 'datetime.datetime'>\n"
     ]
    }
   ],
   "source": [
    "from datetime import datetime\n",
    "\n",
    "timestamp = 1545730073\n",
    "dt_object = datetime.fromtimestamp(timestamp)\n",
    "\n",
    "print(\"dt_object =\", dt_object)\n",
    "print(\"type(dt_object) =\", type(dt_object))"
   ]
  },
  {
   "cell_type": "markdown",
   "metadata": {},
   "source": [
    "Here, we have imported datetime class from the datetime module. Then, we used datetime.fromtimestamp() classmethod which returns the local date and time (datetime object). This object is stored in dt_object variable.\n",
    "\n",
    "Note: You can easily create a string representing date and time from a datetime object using strftime() method."
   ]
  },
  {
   "cell_type": "markdown",
   "metadata": {},
   "source": [
    "#### Python datetime to timestamp"
   ]
  },
  {
   "cell_type": "markdown",
   "metadata": {},
   "source": [
    "You can get timestamp from a datetime object using datetime.timestamp() method."
   ]
  },
  {
   "cell_type": "code",
   "execution_count": 37,
   "metadata": {},
   "outputs": [
    {
     "name": "stdout",
     "output_type": "stream",
     "text": [
      "timestamp = 1586382262.840575\n"
     ]
    }
   ],
   "source": [
    "from datetime import datetime\n",
    "\n",
    "# current date and time\n",
    "now = datetime.now()\n",
    "\n",
    "timestamp = datetime.timestamp(now)\n",
    "print(\"timestamp =\", timestamp)"
   ]
  },
  {
   "cell_type": "markdown",
   "metadata": {},
   "source": [
    "#### Python time Module"
   ]
  },
  {
   "cell_type": "markdown",
   "metadata": {},
   "source": [
    "Python has a module named time to handle time-related tasks. To use functions defined in the module, we need to import the module first. Here's how:\n",
    "\n",
    "    import time\n",
    "\n",
    "Here are commonly used time-related functions."
   ]
  },
  {
   "cell_type": "markdown",
   "metadata": {},
   "source": [
    "#### Python time.time()\n",
    "\n",
    "The time() function returns the number of seconds passed since epoch.\n",
    "\n",
    "For Unix system, January 1, 1970, 00:00:00 at UTC is epoch (the point where time begins)."
   ]
  },
  {
   "cell_type": "code",
   "execution_count": 38,
   "metadata": {},
   "outputs": [
    {
     "name": "stdout",
     "output_type": "stream",
     "text": [
      "Seconds since epoch = 1586382336.8780875\n"
     ]
    }
   ],
   "source": [
    "import time\n",
    "seconds = time.time()\n",
    "print(\"Seconds since epoch =\", seconds)\t"
   ]
  },
  {
   "cell_type": "markdown",
   "metadata": {},
   "source": [
    "#### Python time.ctime()\n",
    "\n",
    "The time.ctime() function takes seconds passed since epoch as an argument and returns a string representing local time."
   ]
  },
  {
   "cell_type": "code",
   "execution_count": 39,
   "metadata": {},
   "outputs": [
    {
     "name": "stdout",
     "output_type": "stream",
     "text": [
      "Local time: Thu Dec 27 21:19:29 2018\n"
     ]
    }
   ],
   "source": [
    "import time\n",
    "\n",
    "# seconds passed since epoch\n",
    "seconds = 1545925769.9618232\n",
    "local_time = time.ctime(seconds)\n",
    "print(\"Local time:\", local_time)"
   ]
  },
  {
   "cell_type": "markdown",
   "metadata": {},
   "source": [
    "#### Python time.sleep()\n",
    "\n",
    "The sleep() function suspends (delays) execution of the current thread for the given number of seconds."
   ]
  },
  {
   "cell_type": "code",
   "execution_count": 40,
   "metadata": {},
   "outputs": [
    {
     "name": "stdout",
     "output_type": "stream",
     "text": [
      "This is printed immediately.\n",
      "This is printed after 2.4 seconds.\n"
     ]
    }
   ],
   "source": [
    "import time\n",
    "\n",
    "print(\"This is printed immediately.\")\n",
    "time.sleep(2.4)\n",
    "print(\"This is printed after 2.4 seconds.\")"
   ]
  },
  {
   "cell_type": "markdown",
   "metadata": {},
   "source": [
    "#### time.struct_time Class\n",
    "\n",
    "Several functions in the time module such as gmtime(), asctime() etc. either take time.struct_time object as an argument or return it.\n",
    "\n",
    "Here's an example of time.struct_time object."
   ]
  },
  {
   "cell_type": "markdown",
   "metadata": {},
   "source": [
    "time.struct_time(tm_year=2018, tm_mon=12, tm_mday=27, \n",
    "                    tm_hour=6, tm_min=35, tm_sec=17, \n",
    "                    tm_wday=3, tm_yday=361, tm_isdst=0)"
   ]
  },
  {
   "cell_type": "markdown",
   "metadata": {},
   "source": [
    "    Index\t\t\t\tAttribute\t\t\t\tValues\n",
    "\t\t\n",
    "\t0\t\t\t\ttm_year\t\t\t\t0000, ...., 2018, ..., 9999\n",
    "\t\t\n",
    "\t1\t\t\t\ttm_mon\t\t\t\t1, 2, ..., 12\n",
    "\t\t\n",
    "\t2\t\t\t\ttm_mday\t\t\t\t1, 2, ..., 31\n",
    "\t\t\n",
    "\t3\t\t\t\ttm_hour\t\t\t\t0, 1, ..., 23\n",
    "\t\t\n",
    "\t4\t\t\t\ttm_min\t\t\t\t0, 1, ..., 59\n",
    "\t\t\n",
    "\t5\t\t\t\ttm_sec\t\t\t\t0, 1, ..., 61\n",
    "\n",
    "    6\t\t\t\ttm_wday\t\t\t\t0, 1, ..., 6; Monday is 0\n",
    "\t\t\n",
    "\t7\t\t\t\ttm_yday\t\t\t\t1, 2, ..., 366\n",
    "\t\t\n",
    "\t8\t\t\t\ttm_isdst\t\t\t\t0, 1 or -1"
   ]
  },
  {
   "cell_type": "markdown",
   "metadata": {},
   "source": [
    "The values (elements) of the time.struct_time object are accessible using both indices and attributes."
   ]
  },
  {
   "cell_type": "markdown",
   "metadata": {},
   "source": [
    "#### Python time.localtime()\n",
    "\n",
    "The localtime() function takes the number of seconds passed since epoch as an argument and returns struct_time in local time."
   ]
  },
  {
   "cell_type": "code",
   "execution_count": 43,
   "metadata": {},
   "outputs": [
    {
     "name": "stdout",
     "output_type": "stream",
     "text": [
      "result: time.struct_time(tm_year=2018, tm_mon=12, tm_mday=27, tm_hour=21, tm_min=19, tm_sec=29, tm_wday=3, tm_yday=361, tm_isdst=0)\n",
      "\n",
      "year: 2018\n",
      "tm_hour: 21\n"
     ]
    }
   ],
   "source": [
    "import time\n",
    "\n",
    "result = time.localtime(1545925769)\n",
    "print(\"result:\", result)\n",
    "print(\"\\nyear:\", result.tm_year)\n",
    "print(\"tm_hour:\", result.tm_hour)"
   ]
  },
  {
   "cell_type": "markdown",
   "metadata": {},
   "source": [
    "If no argument or None is passed to localtime(), the value returned by time() is used."
   ]
  },
  {
   "cell_type": "markdown",
   "metadata": {},
   "source": [
    "#### Python time.gmtime()\n",
    "\n",
    "The gmtime() function takes the number of seconds passed since epoch as an argument and returns struct_time in UTC."
   ]
  },
  {
   "cell_type": "code",
   "execution_count": 44,
   "metadata": {},
   "outputs": [
    {
     "name": "stdout",
     "output_type": "stream",
     "text": [
      "result: time.struct_time(tm_year=2018, tm_mon=12, tm_mday=27, tm_hour=15, tm_min=49, tm_sec=29, tm_wday=3, tm_yday=361, tm_isdst=0)\n",
      "\n",
      "year: 2018\n",
      "tm_hour: 15\n"
     ]
    }
   ],
   "source": [
    "import time\n",
    "\n",
    "result = time.gmtime(1545925769)\n",
    "print(\"result:\", result)\n",
    "print(\"\\nyear:\", result.tm_year)\n",
    "print(\"tm_hour:\", result.tm_hour)"
   ]
  },
  {
   "cell_type": "markdown",
   "metadata": {},
   "source": [
    "If no argument or None is passed to gmtime(), the value returned by time() is used."
   ]
  },
  {
   "cell_type": "markdown",
   "metadata": {},
   "source": [
    "#### Python time.mktime()\n",
    "\n",
    "The mktime() function takes struct_time (or a tuple containing 9 elements corresponding to struct_time) as an argument and returns the seconds passed since epoch in local time. Basically, it's the inverse function of localtime()."
   ]
  },
  {
   "cell_type": "code",
   "execution_count": 45,
   "metadata": {},
   "outputs": [
    {
     "name": "stdout",
     "output_type": "stream",
     "text": [
      "Local time: 1545966844.0\n"
     ]
    }
   ],
   "source": [
    "import time\n",
    "\n",
    "t = (2018, 12, 28, 8, 44, 4, 4, 362, 0)\n",
    "\n",
    "local_time = time.mktime(t)\n",
    "print(\"Local time:\", local_time)"
   ]
  },
  {
   "cell_type": "markdown",
   "metadata": {},
   "source": [
    "The example below shows how mktime() and localtime() are related."
   ]
  },
  {
   "cell_type": "code",
   "execution_count": 46,
   "metadata": {},
   "outputs": [
    {
     "name": "stdout",
     "output_type": "stream",
     "text": [
      "t1:  time.struct_time(tm_year=2018, tm_mon=12, tm_mday=27, tm_hour=21, tm_min=19, tm_sec=29, tm_wday=3, tm_yday=361, tm_isdst=0)\n",
      "\\s: 1545925769\n"
     ]
    }
   ],
   "source": [
    "import time\n",
    "\n",
    "seconds = 1545925769\n",
    "\n",
    "# returns struct_time\n",
    "t = time.localtime(seconds)\n",
    "print(\"t1: \", t)\n",
    "\n",
    "# returns seconds from struct_time\n",
    "s = time.mktime(t)\n",
    "print(\"\\s:\", seconds)"
   ]
  },
  {
   "cell_type": "markdown",
   "metadata": {},
   "source": [
    "#### Python time.asctime()\n",
    "\n",
    "The asctime() function takes struct_time (or a tuple containing 9 elements corresponding to struct_time) as an argument and returns a string representing it. Here's an example:"
   ]
  },
  {
   "cell_type": "code",
   "execution_count": 47,
   "metadata": {},
   "outputs": [
    {
     "name": "stdout",
     "output_type": "stream",
     "text": [
      "Result: Fri Dec 28 08:44:04 2018\n"
     ]
    }
   ],
   "source": [
    "import time\n",
    "\n",
    "t = (2018, 12, 28, 8, 44, 4, 4, 362, 0)\n",
    "\n",
    "result = time.asctime(t)\n",
    "print(\"Result:\", result)"
   ]
  },
  {
   "cell_type": "markdown",
   "metadata": {},
   "source": [
    "#### Python time.strftime()\n",
    "\n",
    "The strftime() function takes struct_time (or tuple corresponding to it) as an argument and returns a string representing it based on the format code used. For example,"
   ]
  },
  {
   "cell_type": "code",
   "execution_count": 48,
   "metadata": {},
   "outputs": [
    {
     "name": "stdout",
     "output_type": "stream",
     "text": [
      "04/09/2020, 03:24:08\n"
     ]
    }
   ],
   "source": [
    "import time\n",
    "\n",
    "named_tuple = time.localtime() # get struct_time\n",
    "time_string = time.strftime(\"%m/%d/%Y, %H:%M:%S\", named_tuple)\n",
    "\n",
    "print(time_string)"
   ]
  },
  {
   "cell_type": "markdown",
   "metadata": {},
   "source": [
    "Here, %Y, %m, %d, %H etc. are format codes.\n",
    "\n",
    "    %Y - year [0001,..., 2018, 2019,..., 9999]\n",
    "    %m - month [01, 02, ..., 11, 12]\n",
    "    %d - day [01, 02, ..., 30, 31]\n",
    "    %H - hour [00, 01, ..., 22, 23\n",
    "    %M - minutes [00, 01, ..., 58, 59]\n",
    "    %S - second [00, 01, ..., 58, 61]\n"
   ]
  },
  {
   "cell_type": "markdown",
   "metadata": {},
   "source": [
    "#### Python time.strptime()\n",
    "\n",
    "The strptime() function parses a string representing time and returns struct_time."
   ]
  },
  {
   "cell_type": "code",
   "execution_count": 49,
   "metadata": {},
   "outputs": [
    {
     "name": "stdout",
     "output_type": "stream",
     "text": [
      "time.struct_time(tm_year=2018, tm_mon=6, tm_mday=21, tm_hour=0, tm_min=0, tm_sec=0, tm_wday=3, tm_yday=172, tm_isdst=-1)\n"
     ]
    }
   ],
   "source": [
    "import time\n",
    "\n",
    "time_string = \"21 June, 2018\"\n",
    "result = time.strptime(time_string, \"%d %B, %Y\")\n",
    "\n",
    "print(result)"
   ]
  },
  {
   "cell_type": "markdown",
   "metadata": {},
   "source": [
    "#### Python sleep()\n",
    "The sleep() function suspends (waits) execution of the current thread for a given number of seconds.\n",
    "\n",
    "Python has a module named time which provides several useful functions to handle time-related tasks. One of the popular functions among them is sleep().\n",
    "\n",
    "The sleep() function suspends execution of the current thread for a given number of seconds."
   ]
  },
  {
   "cell_type": "code",
   "execution_count": 50,
   "metadata": {},
   "outputs": [
    {
     "name": "stdout",
     "output_type": "stream",
     "text": [
      "Printed immediately.\n",
      "Printed after 2.4 seconds.\n"
     ]
    }
   ],
   "source": [
    "import time\n",
    "\n",
    "print(\"Printed immediately.\")\n",
    "time.sleep(2.4)\n",
    "print(\"Printed after 2.4 seconds.\")"
   ]
  },
  {
   "cell_type": "markdown",
   "metadata": {},
   "source": [
    "Here's how this program works:\n",
    "\n",
    "    \"Printed immediately\" is printed\n",
    "    Suspends (Delays) execution for 2.4 seconds.\n",
    "    \"Printed after 2.4 seconds\" is printed.\n",
    "\n",
    "As you can see from the above example, sleep() takes a floating-point number as an argument."
   ]
  },
  {
   "cell_type": "markdown",
   "metadata": {},
   "source": [
    "#### Python create a digital clock"
   ]
  },
  {
   "cell_type": "code",
   "execution_count": 51,
   "metadata": {},
   "outputs": [
    {
     "name": "stdout",
     "output_type": "stream",
     "text": [
      "03:26:10 AM\n",
      "03:26:11 AM\n",
      "03:26:12 AM\n",
      "03:26:13 AM\n",
      "03:26:14 AM\n",
      "03:26:15 AM\n",
      "03:26:16 AM\n",
      "03:26:17 AM\n",
      "03:26:18 AM\n",
      "03:26:19 AM\n",
      "03:26:20 AM\n"
     ]
    },
    {
     "ename": "KeyboardInterrupt",
     "evalue": "",
     "output_type": "error",
     "traceback": [
      "\u001b[1;31m---------------------------------------------------------------------------\u001b[0m",
      "\u001b[1;31mKeyboardInterrupt\u001b[0m                         Traceback (most recent call last)",
      "\u001b[1;32m<ipython-input-51-cbdb8458c1e5>\u001b[0m in \u001b[0;36m<module>\u001b[1;34m\u001b[0m\n\u001b[0;32m      5\u001b[0m     \u001b[0mresult\u001b[0m \u001b[1;33m=\u001b[0m \u001b[0mtime\u001b[0m\u001b[1;33m.\u001b[0m\u001b[0mstrftime\u001b[0m\u001b[1;33m(\u001b[0m\u001b[1;34m\"%I:%M:%S %p\"\u001b[0m\u001b[1;33m,\u001b[0m \u001b[0mlocaltime\u001b[0m\u001b[1;33m)\u001b[0m\u001b[1;33m\u001b[0m\u001b[1;33m\u001b[0m\u001b[0m\n\u001b[0;32m      6\u001b[0m     \u001b[0mprint\u001b[0m\u001b[1;33m(\u001b[0m\u001b[0mresult\u001b[0m\u001b[1;33m)\u001b[0m\u001b[1;33m\u001b[0m\u001b[1;33m\u001b[0m\u001b[0m\n\u001b[1;32m----> 7\u001b[1;33m     \u001b[0mtime\u001b[0m\u001b[1;33m.\u001b[0m\u001b[0msleep\u001b[0m\u001b[1;33m(\u001b[0m\u001b[1;36m1\u001b[0m\u001b[1;33m)\u001b[0m\u001b[1;33m\u001b[0m\u001b[1;33m\u001b[0m\u001b[0m\n\u001b[0m",
      "\u001b[1;31mKeyboardInterrupt\u001b[0m: "
     ]
    }
   ],
   "source": [
    "import time\n",
    "\n",
    "while True:\n",
    "    localtime = time.localtime()\n",
    "    result = time.strftime(\"%I:%M:%S %p\", localtime)\n",
    "    print(result)\n",
    "    time.sleep(1)"
   ]
  },
  {
   "cell_type": "markdown",
   "metadata": {},
   "source": [
    "In the above program, we computed and printed the current local time inside the infinite while loop. Then, the program waits for 1 second. Again, the current local time is computed and printed. This process goes on."
   ]
  },
  {
   "cell_type": "code",
   "execution_count": 52,
   "metadata": {},
   "outputs": [
    {
     "name": "stdout",
     "output_type": "stream",
     "text": [
      "03:27:15 AM\r"
     ]
    },
    {
     "ename": "KeyboardInterrupt",
     "evalue": "",
     "output_type": "error",
     "traceback": [
      "\u001b[1;31m---------------------------------------------------------------------------\u001b[0m",
      "\u001b[1;31mKeyboardInterrupt\u001b[0m                         Traceback (most recent call last)",
      "\u001b[1;32m<ipython-input-52-76a0a5ce1450>\u001b[0m in \u001b[0;36m<module>\u001b[1;34m\u001b[0m\n\u001b[0;32m      6\u001b[0m     \u001b[0mprint\u001b[0m\u001b[1;33m(\u001b[0m\u001b[0mresult\u001b[0m\u001b[1;33m,\u001b[0m \u001b[0mend\u001b[0m\u001b[1;33m=\u001b[0m\u001b[1;34m\"\"\u001b[0m\u001b[1;33m,\u001b[0m \u001b[0mflush\u001b[0m\u001b[1;33m=\u001b[0m\u001b[1;32mTrue\u001b[0m\u001b[1;33m)\u001b[0m\u001b[1;33m\u001b[0m\u001b[1;33m\u001b[0m\u001b[0m\n\u001b[0;32m      7\u001b[0m     \u001b[0mprint\u001b[0m\u001b[1;33m(\u001b[0m\u001b[1;34m\"\\r\"\u001b[0m\u001b[1;33m,\u001b[0m \u001b[0mend\u001b[0m\u001b[1;33m=\u001b[0m\u001b[1;34m\"\"\u001b[0m\u001b[1;33m,\u001b[0m \u001b[0mflush\u001b[0m\u001b[1;33m=\u001b[0m\u001b[1;32mTrue\u001b[0m\u001b[1;33m)\u001b[0m\u001b[1;33m\u001b[0m\u001b[1;33m\u001b[0m\u001b[0m\n\u001b[1;32m----> 8\u001b[1;33m     \u001b[0mtime\u001b[0m\u001b[1;33m.\u001b[0m\u001b[0msleep\u001b[0m\u001b[1;33m(\u001b[0m\u001b[1;36m1\u001b[0m\u001b[1;33m)\u001b[0m\u001b[1;33m\u001b[0m\u001b[1;33m\u001b[0m\u001b[0m\n\u001b[0m",
      "\u001b[1;31mKeyboardInterrupt\u001b[0m: "
     ]
    }
   ],
   "source": [
    "import time\n",
    "\n",
    "while True:\n",
    "    localtime = time.localtime()\n",
    "    result = time.strftime(\"%I:%M:%S %p\", localtime)\n",
    "    print(result, end=\"\", flush=True)\n",
    "    print(\"\\r\", end=\"\", flush=True)\n",
    "    time.sleep(1)"
   ]
  },
  {
   "cell_type": "markdown",
   "metadata": {},
   "source": [
    "#### Multithreading in Python\n",
    "\n",
    "Before talking about sleep() in multithreaded programs, let's talk about processes and threads.\n",
    "\n",
    "A computer program is a collection of instructions. A process is the execution of those instructions.\n",
    "\n",
    "A thread is a subset of the process. A process can have one or more threads."
   ]
  },
  {
   "cell_type": "markdown",
   "metadata": {},
   "source": [
    "#### Python multithreading\n",
    "\n",
    "Here's an example of a multithreaded Python program."
   ]
  },
  {
   "cell_type": "code",
   "execution_count": 53,
   "metadata": {},
   "outputs": [
    {
     "name": "stdout",
     "output_type": "stream",
     "text": [
      "Hello\n",
      "Hello\n",
      "Hello\n",
      "Hi\n",
      "Hi\n",
      "Hi\n"
     ]
    }
   ],
   "source": [
    "import threading \n",
    "  \n",
    "def print_hello_three_times():\n",
    "    for i in range(3):\n",
    "        print(\"Hello\")\n",
    "\n",
    "def print_hi_three_times(): \n",
    "    for i in range(3): \n",
    "        print(\"Hi\")\n",
    "        \n",
    "t1 = threading.Thread(target=print_hello_three_times)  \n",
    "t2 = threading.Thread(target=print_hi_three_times)  \n",
    "\n",
    "t1.start()\n",
    "t2.start()"
   ]
  },
  {
   "cell_type": "markdown",
   "metadata": {},
   "source": [
    "The above program has two threads t1 and t2. These threads are run using t1.start() and t2.start() statements.\n",
    "\n",
    "Note that, t1 and t2 run concurrently and you might get different output."
   ]
  },
  {
   "cell_type": "markdown",
   "metadata": {},
   "source": [
    "#### time.sleep() in multithreaded programs\n",
    "\n",
    "The sleep() function suspends execution of the current thread for a given number of seconds.\n",
    "\n",
    "In case of single-threaded programs, sleep() suspends execution of the thread and process. However, the function suspends a thread rather than the whole process in multithreaded programs."
   ]
  },
  {
   "cell_type": "markdown",
   "metadata": {},
   "source": [
    "#### sleep() in a multithreaded program"
   ]
  },
  {
   "cell_type": "code",
   "execution_count": 55,
   "metadata": {},
   "outputs": [
    {
     "name": "stdout",
     "output_type": "stream",
     "text": [
      "Hi\n",
      "Hi\n",
      "Hello\n",
      "Hi\n",
      "Hi\n"
     ]
    }
   ],
   "source": [
    "import threading \n",
    "import time\n",
    "  \n",
    "def print_hello():\n",
    "    for i in range(4):\n",
    "        time.sleep(0.5)\n",
    "    print(\"Hello\")\n",
    "\n",
    "def print_hi(): \n",
    "    for i in range(4): \n",
    "        time.sleep(0.7)\n",
    "        print(\"Hi\") \n",
    "\n",
    "t1 = threading.Thread(target=print_hello)  \n",
    "t2 = threading.Thread(target=print_hi)\n",
    "\n",
    "t1.start()\n",
    "t2.start()"
   ]
  },
  {
   "cell_type": "markdown",
   "metadata": {},
   "source": [
    "The above program has two threads. We have used time.sleep(0.5) and time.sleep(0.75) to suspend execution of these two threads for 0.5 seconds and 0.7 seconds respectively."
   ]
  }
 ],
 "metadata": {
  "kernelspec": {
   "display_name": "Python 3",
   "language": "python",
   "name": "python3"
  },
  "language_info": {
   "codemirror_mode": {
    "name": "ipython",
    "version": 3
   },
   "file_extension": ".py",
   "mimetype": "text/x-python",
   "name": "python",
   "nbconvert_exporter": "python",
   "pygments_lexer": "ipython3",
   "version": "3.7.3"
  }
 },
 "nbformat": 4,
 "nbformat_minor": 2
}
