{
 "cells": [
  {
   "cell_type": "markdown",
   "metadata": {},
   "source": [
    "#### Pandas.apply()"
   ]
  },
  {
   "cell_type": "markdown",
   "metadata": {},
   "source": [
    "Pandas.apply allow the users to pass a function and apply it on every single value of the Pandas series. It comes as a huge improvement for the pandas library as this function helps to segregate data according to the conditions required due to which it is efficiently used in data science and machine learning"
   ]
  },
  {
   "cell_type": "markdown",
   "metadata": {},
   "source": [
    "Syntax:\n",
    "\n",
    "s.apply(func, convert_dtype=True, args=())"
   ]
  },
  {
   "cell_type": "markdown",
   "metadata": {},
   "source": [
    "Parameters:\n",
    "\n",
    "    func: .apply takes a function and applies it to all values of pandas series.\n",
    "    convert_dtype: Convert dtype as per the function’s operation.\n",
    "    args=(): Additional arguments to pass to function instead of series.\n",
    "    Return Type: Pandas Series after applied function/operation. "
   ]
  },
  {
   "cell_type": "markdown",
   "metadata": {},
   "source": [
    "The following example passes a function and checks the value of each element in series and returns low, normal or High accordingly."
   ]
  },
  {
   "cell_type": "code",
   "execution_count": 1,
   "metadata": {},
   "outputs": [
    {
     "name": "stdout",
     "output_type": "stream",
     "text": [
      "0    50.12\n",
      "1    54.10\n",
      "2    54.65\n",
      "3    52.38\n",
      "4    52.95\n",
      "Name: Stock Price, dtype: float64\n",
      "0    Low\n",
      "1    Low\n",
      "2    Low\n",
      "3    Low\n",
      "4    Low\n",
      "Name: Stock Price, dtype: object\n",
      "Normal Normal Normal\n",
      "3007    High\n",
      "3008    High\n",
      "3009    High\n",
      "3010    High\n",
      "3011    High\n",
      "Name: Stock Price, dtype: object\n"
     ]
    }
   ],
   "source": [
    "\n",
    "import pandas as pd \n",
    "  \n",
    "# reading csv \n",
    "s = pd.read_csv(\"stock.csv\", squeeze = True) \n",
    "\n",
    "print(s.head())\n",
    "\n",
    "# defining function to check price \n",
    "def fun(num): \n",
    "  \n",
    "    if num<200: \n",
    "        return \"Low\"\n",
    "  \n",
    "    elif num>= 200 and num<400: \n",
    "        return \"Normal\"\n",
    "  \n",
    "    else: \n",
    "        return \"High\"\n",
    "\n",
    "    \n",
    "# passing function to apply and storing returned series in new \n",
    "new = s.apply(fun) \n",
    "  \n",
    "# printing first 3 element \n",
    "print(new.head()) \n",
    "  \n",
    "# printing elements somewhere near the middle of series \n",
    "print(new[1400], new[1500], new[1600]) \n",
    "  \n",
    "# printing last 3 elements \n",
    "print(new.tail(5)) \n"
   ]
  },
  {
   "cell_type": "markdown",
   "metadata": {},
   "source": [
    "In the following example, a temporary anonymous function is made in .apply itself using lambda. It adds 5 to each value in series and returns a new series."
   ]
  },
  {
   "cell_type": "code",
   "execution_count": 2,
   "metadata": {},
   "outputs": [
    {
     "name": "stdout",
     "output_type": "stream",
     "text": [
      "0    50.12\n",
      "1    54.10\n",
      "2    54.65\n",
      "3    52.38\n",
      "4    52.95\n",
      "Name: Stock Price, dtype: float64 \n",
      " 0    55.12\n",
      "1    59.10\n",
      "2    59.65\n",
      "3    57.38\n",
      "4    57.95\n",
      "Name: Stock Price, dtype: float64\n",
      "\n",
      "\n",
      " 3007    772.88\n",
      "3008    771.07\n",
      "3009    773.18\n",
      "3010    771.61\n",
      "3011    782.22\n",
      "Name: Stock Price, dtype: float64 \n",
      " 3007    777.88\n",
      "3008    776.07\n",
      "3009    778.18\n",
      "3010    776.61\n",
      "3011    787.22\n",
      "Name: Stock Price, dtype: float64\n"
     ]
    }
   ],
   "source": [
    "\n",
    "import pandas as pd \n",
    "s = pd.read_csv(\"stock.csv\", squeeze = True) \n",
    "\n",
    "# adding 5 to each value \n",
    "new = s.apply(lambda num : num + 5) \n",
    "  \n",
    "# printing first 5 elements of old and new series \n",
    "print(s.head(), '\\n', new.head()) \n",
    "  \n",
    "# printing last 5 elements of old and new series \n",
    "print('\\n\\n', s.tail(), '\\n', new.tail()) \n"
   ]
  },
  {
   "cell_type": "markdown",
   "metadata": {},
   "source": [
    "#### Apply function to every row in a Pandas DataFrame"
   ]
  },
  {
   "cell_type": "code",
   "execution_count": 4,
   "metadata": {},
   "outputs": [
    {
     "name": "stdout",
     "output_type": "stream",
     "text": [
      "Original DataFrame:\n",
      "    A  B  C\n",
      "0  1  4  7\n",
      "1  2  5  8\n",
      "2  3  6  9\n",
      "\n",
      "After Applying Function: \n",
      "   A  B  C  add\n",
      "0  1  4  7   12\n",
      "1  2  5  8   15\n",
      "2  3  6  9   18\n"
     ]
    }
   ],
   "source": [
    "\n",
    "# Import pandas package  \n",
    "import pandas as pd \n",
    "  \n",
    "# Function to add \n",
    "def add(a, b, c): \n",
    "    return a + b + c \n",
    "  \n",
    "def main(): \n",
    "      \n",
    "    # create a dictionary with \n",
    "    # three fields each \n",
    "    data = { \n",
    "            'A':[1, 2, 3],  \n",
    "            'B':[4, 5, 6],  \n",
    "            'C':[7, 8, 9] } \n",
    "      \n",
    "    # Convert the dictionary into DataFrame  \n",
    "    df = pd.DataFrame(data) \n",
    "    print(\"Original DataFrame:\\n\", df) \n",
    "      \n",
    "    df['add'] = df.apply(lambda row : add(row['A'], \n",
    "                     row['B'], row['C']), axis = 1) \n",
    "   \n",
    "    print('\\nAfter Applying Function: ') \n",
    "    # printing the new dataframe \n",
    "    print(df) \n",
    "\n",
    "if __name__ == '__main__': \n",
    "    main() \n"
   ]
  },
  {
   "cell_type": "markdown",
   "metadata": {},
   "source": [
    "You can use the numpy function as the parameters to the dataframe as well."
   ]
  },
  {
   "cell_type": "code",
   "execution_count": 5,
   "metadata": {},
   "outputs": [
    {
     "name": "stdout",
     "output_type": "stream",
     "text": [
      "Original DataFrame:\n",
      "    A  B  C\n",
      "0  1  4  7\n",
      "1  2  5  8\n",
      "2  3  6  9\n",
      "\n",
      "After Applying Function: \n",
      "   A  B  C  add\n",
      "0  1  4  7   12\n",
      "1  2  5  8   15\n",
      "2  3  6  9   18\n"
     ]
    }
   ],
   "source": [
    "\n",
    "import pandas as pd \n",
    "import numpy as np \n",
    "   \n",
    "def main(): \n",
    "      \n",
    "    # create a dictionary with \n",
    "    # five fields each \n",
    "    data = { \n",
    "            'A':[1, 2, 3],  \n",
    "            'B':[4, 5, 6],  \n",
    "            'C':[7, 8, 9] } \n",
    "      \n",
    "    # Convert the dictionary into DataFrame  \n",
    "    df = pd.DataFrame(data) \n",
    "    print(\"Original DataFrame:\\n\", df) \n",
    "      \n",
    "    # applying function to each row in the dataframe \n",
    "    # and storing result in a new coloumn \n",
    "    df['add'] = df.apply(np.sum, axis = 1) \n",
    "   \n",
    "    print('\\nAfter Applying Function: ') \n",
    "    # printing the new dataframe \n",
    "    print(df) \n",
    "   \n",
    "if __name__ == '__main__': \n",
    "    main() \n"
   ]
  },
  {
   "cell_type": "markdown",
   "metadata": {},
   "source": [
    "Normalising Data "
   ]
  },
  {
   "cell_type": "code",
   "execution_count": 10,
   "metadata": {},
   "outputs": [
    {
     "name": "stdout",
     "output_type": "stream",
     "text": [
      "Original DataFrame:\n",
      "    X   Y\n",
      "0  1  45\n",
      "1  2  65\n",
      "2  3  89\n",
      "\n",
      "Normalized:\n",
      "     X   Y\n",
      "0 -0.5  45\n",
      "1 -0.5  65\n",
      "2 -0.5  89\n"
     ]
    }
   ],
   "source": [
    "\n",
    "# Import pandas package  \n",
    "import pandas as pd \n",
    "  \n",
    "def normalize(x, y): \n",
    "    x_new = ((x - np.mean([x, y])) /\n",
    "             (max(x, y) - min(x, y))) \n",
    "      \n",
    "    # print(x_new) \n",
    "    return x_new \n",
    "  \n",
    "def main(): \n",
    "      \n",
    "    # create a dictionary with three fields each \n",
    "    data = { \n",
    "        'X':[1, 2, 3],  \n",
    "        'Y':[45, 65, 89] } \n",
    "      \n",
    "    # Convert the dictionary into DataFrame  \n",
    "    df = pd.DataFrame(data) \n",
    "    print(\"Original DataFrame:\\n\", df) \n",
    "      \n",
    "    df['X'] = df.apply(lambda row : normalize(row['X'], \n",
    "                                  row['Y']), axis = 1) \n",
    "   \n",
    "    print('\\nNormalized:') \n",
    "    print(df) \n",
    "   \n",
    "if __name__ == '__main__': \n",
    "    main() \n"
   ]
  },
  {
   "cell_type": "markdown",
   "metadata": {},
   "source": [
    "Generate range"
   ]
  },
  {
   "cell_type": "code",
   "execution_count": 11,
   "metadata": {},
   "outputs": [
    {
     "name": "stdout",
     "output_type": "stream",
     "text": [
      "Before applying function: \n",
      "   A   B   C\n",
      "0  0   4  47\n",
      "1  2  15   8\n",
      "2  3   6  19\n",
      "After Applying Function: \n",
      "      A      B      C\n",
      "0  0-10   0-10  40-50\n",
      "1  0-10  10-20   0-10\n",
      "2  0-10   0-10  10-20\n"
     ]
    }
   ],
   "source": [
    "\n",
    "import pandas as pd \n",
    "import numpy as np \n",
    "   \n",
    "pd.options.mode.chained_assignment = None\n",
    "  \n",
    "# Function to generate range \n",
    "def generate_range(n): \n",
    "      \n",
    "    # printing the range for eg: \n",
    "    # input is 67 output is 60-70 \n",
    "    n = int(n) \n",
    "      \n",
    "    lower_limit = n//10 * 10\n",
    "    upper_limit = lower_limit + 10\n",
    "      \n",
    "    return str(str(lower_limit) + '-' + str(upper_limit)) \n",
    "       \n",
    "def replace(row): \n",
    "    for i, item in enumerate(row): \n",
    "          \n",
    "        # updating the value of the row \n",
    "        row[i] = generate_range(item) \n",
    "    return row \n",
    "           \n",
    "\n",
    "    \n",
    "def main(): \n",
    "    # create a dictionary with \n",
    "    # three fields each \n",
    "    data = { \n",
    "            'A':[0, 2, 3],  \n",
    "            'B':[4, 15, 6],  \n",
    "            'C':[47, 8, 19] } \n",
    "      \n",
    "    # Convert the dictionary into DataFrame  \n",
    "    df = pd.DataFrame(data) \n",
    "   \n",
    "    print('Before applying function: ') \n",
    "    print(df) \n",
    "       \n",
    "    # applying function to each row in \n",
    "    # dataframe and storing result in a new coloumn \n",
    "    df = df.apply(lambda row : replace(row)) \n",
    "       \n",
    "   \n",
    "    print('After Applying Function: ') \n",
    "    # printing the new dataframe \n",
    "    print(df) \n",
    "\n",
    "    \n",
    "if __name__ == '__main__': \n",
    "    main() \n"
   ]
  },
  {
   "cell_type": "markdown",
   "metadata": {},
   "source": [
    "#### Pandas Series.apply()"
   ]
  },
  {
   "cell_type": "markdown",
   "metadata": {},
   "source": [
    "    Syntax: Series.apply(func, convert_dtype=True, args=(), **kwds)\n",
    "\n",
    "\n",
    "    Parameter :\n",
    "    func : Python function or NumPy ufunc to apply.\n",
    "    convert_dtype : Try to find better dtype for elementwise function results.\n",
    "    args : Positional arguments passed to func after the series value.\n",
    "    **kwds : Additional keyword arguments passed to func.\n",
    "\n",
    "    Returns : Series\n"
   ]
  },
  {
   "cell_type": "markdown",
   "metadata": {},
   "source": [
    "Use Series.apply() function to change the city name to ‘Montreal’ if the city is ‘Rio’."
   ]
  },
  {
   "cell_type": "code",
   "execution_count": 12,
   "metadata": {},
   "outputs": [
    {
     "name": "stdout",
     "output_type": "stream",
     "text": [
      "City 1    New York\n",
      "City 2     Chicago\n",
      "City 3     Toronto\n",
      "City 4      Lisbon\n",
      "City 5         Rio\n",
      "dtype: object\n"
     ]
    }
   ],
   "source": [
    "\n",
    "# importing pandas as pd \n",
    "import pandas as pd \n",
    "  \n",
    "# Creating the Series \n",
    "sr = pd.Series(['New York', 'Chicago', 'Toronto', 'Lisbon', 'Rio']) \n",
    "  \n",
    "# Create the Index \n",
    "index_ = ['City 1', 'City 2', 'City 3', 'City 4', 'City 5']  \n",
    "  \n",
    "# set the index \n",
    "sr.index = index_ \n",
    "  \n",
    "# Print the series \n",
    "print(sr) \n"
   ]
  },
  {
   "cell_type": "code",
   "execution_count": 13,
   "metadata": {},
   "outputs": [
    {
     "name": "stdout",
     "output_type": "stream",
     "text": [
      "City 1    New York\n",
      "City 2     Chicago\n",
      "City 3     Toronto\n",
      "City 4      Lisbon\n",
      "City 5    Montreal\n",
      "dtype: object\n"
     ]
    }
   ],
   "source": [
    "\n",
    "# change 'Rio' to 'Montreal' \n",
    "# we have used a lambda function \n",
    "result = sr.apply(lambda x : 'Montreal' if x =='Rio' else x ) \n",
    "  \n",
    "# Print the result \n",
    "print(result) \n"
   ]
  },
  {
   "cell_type": "markdown",
   "metadata": {},
   "source": [
    " Use Series.apply() function to return True if the value in the given series object is greater than 30 else return False"
   ]
  },
  {
   "cell_type": "code",
   "execution_count": 14,
   "metadata": {},
   "outputs": [
    {
     "name": "stdout",
     "output_type": "stream",
     "text": [
      "2010-12-31 08:45:00    11.0\n",
      "2011-12-31 08:45:00    21.0\n",
      "2012-12-31 08:45:00     8.0\n",
      "2013-12-31 08:45:00    18.0\n",
      "2014-12-31 08:45:00    65.0\n",
      "2015-12-31 08:45:00    18.0\n",
      "2016-12-31 08:45:00    32.0\n",
      "2017-12-31 08:45:00    10.0\n",
      "2018-12-31 08:45:00     5.0\n",
      "2019-12-31 08:45:00    32.0\n",
      "2020-12-31 08:45:00     NaN\n",
      "Freq: A-DEC, dtype: float64\n"
     ]
    }
   ],
   "source": [
    "\n",
    "# importing pandas as pd \n",
    "import pandas as pd \n",
    "  \n",
    "# Creating the Series \n",
    "sr = pd.Series([11, 21, 8, 18, 65, 18, 32, 10, 5, 32, None]) \n",
    "  \n",
    "# Create the Index \n",
    "# apply yearly frequency \n",
    "index_ = pd.date_range('2010-10-09 08:45', periods = 11, freq ='Y') \n",
    "  \n",
    "# set the index \n",
    "sr.index = index_ \n",
    "  \n",
    "# Print the series \n",
    "print(sr) \n"
   ]
  },
  {
   "cell_type": "code",
   "execution_count": 15,
   "metadata": {},
   "outputs": [
    {
     "name": "stdout",
     "output_type": "stream",
     "text": [
      "2010-12-31 08:45:00    False\n",
      "2011-12-31 08:45:00    False\n",
      "2012-12-31 08:45:00    False\n",
      "2013-12-31 08:45:00    False\n",
      "2014-12-31 08:45:00     True\n",
      "2015-12-31 08:45:00    False\n",
      "2016-12-31 08:45:00     True\n",
      "2017-12-31 08:45:00    False\n",
      "2018-12-31 08:45:00    False\n",
      "2019-12-31 08:45:00     True\n",
      "2020-12-31 08:45:00    False\n",
      "Freq: A-DEC, dtype: bool\n"
     ]
    }
   ],
   "source": [
    "\n",
    "# return True if greater than 30 \n",
    "# else return False \n",
    "result = sr.apply(lambda x : True if x>30 else False) \n",
    "  \n",
    "# Print the result \n",
    "print(result) \n"
   ]
  },
  {
   "cell_type": "markdown",
   "metadata": {},
   "source": [
    "#### Pandas dataframe.aggregate()"
   ]
  },
  {
   "cell_type": "markdown",
   "metadata": {},
   "source": [
    "Dataframe.aggregate() function is used to apply some aggregation across one or more column. Aggregate using callable, string, dict, or list of string/callables. Most frequently used aggregations are:\n",
    "\n",
    "    sum: Return the sum of the values for the requested axis\n",
    "    min: Return the minimum of the values for the requested axis\n",
    "    max: Return the maximum of the values for the requested axis"
   ]
  },
  {
   "cell_type": "markdown",
   "metadata": {},
   "source": [
    "    Syntax: DataFrame.aggregate(func, axis=0, *args, **kwargs)\n",
    "\n",
    "    Parameters:\n",
    "    func : callable, string, dictionary, or list of string/callables. Function to use for aggregating the data. If a function, must either work when passed a DataFrame or when passed to DataFrame.apply. For a DataFrame, can pass a dict, if the keys are DataFrame column names.\n",
    "    axis : (default 0) {0 or ‘index’, 1 or ‘columns’} 0 or ‘index’: apply function to each column. 1 or ‘columns’: apply function to each row.\n",
    "\n",
    "    Returns: Aggregated DataFrame"
   ]
  },
  {
   "cell_type": "markdown",
   "metadata": {},
   "source": [
    "#### Aggregate ‘sum’ and ‘min’ function across all the columns in data frame"
   ]
  },
  {
   "cell_type": "code",
   "execution_count": 16,
   "metadata": {
    "scrolled": true
   },
   "outputs": [
    {
     "data": {
      "text/html": [
       "<div>\n",
       "<style scoped>\n",
       "    .dataframe tbody tr th:only-of-type {\n",
       "        vertical-align: middle;\n",
       "    }\n",
       "\n",
       "    .dataframe tbody tr th {\n",
       "        vertical-align: top;\n",
       "    }\n",
       "\n",
       "    .dataframe thead th {\n",
       "        text-align: right;\n",
       "    }\n",
       "</style>\n",
       "<table border=\"1\" class=\"dataframe\">\n",
       "  <thead>\n",
       "    <tr style=\"text-align: right;\">\n",
       "      <th></th>\n",
       "      <th>Name</th>\n",
       "      <th>Team</th>\n",
       "      <th>Number</th>\n",
       "      <th>Position</th>\n",
       "      <th>Age</th>\n",
       "      <th>Height</th>\n",
       "      <th>Weight</th>\n",
       "      <th>College</th>\n",
       "      <th>Salary</th>\n",
       "    </tr>\n",
       "  </thead>\n",
       "  <tbody>\n",
       "    <tr>\n",
       "      <th>0</th>\n",
       "      <td>Avery Bradley</td>\n",
       "      <td>Boston Celtics</td>\n",
       "      <td>0.0</td>\n",
       "      <td>PG</td>\n",
       "      <td>25.0</td>\n",
       "      <td>6-2</td>\n",
       "      <td>180.0</td>\n",
       "      <td>Texas</td>\n",
       "      <td>7730337.0</td>\n",
       "    </tr>\n",
       "    <tr>\n",
       "      <th>1</th>\n",
       "      <td>Jae Crowder</td>\n",
       "      <td>Boston Celtics</td>\n",
       "      <td>99.0</td>\n",
       "      <td>SF</td>\n",
       "      <td>25.0</td>\n",
       "      <td>6-6</td>\n",
       "      <td>235.0</td>\n",
       "      <td>Marquette</td>\n",
       "      <td>6796117.0</td>\n",
       "    </tr>\n",
       "    <tr>\n",
       "      <th>2</th>\n",
       "      <td>John Holland</td>\n",
       "      <td>Boston Celtics</td>\n",
       "      <td>30.0</td>\n",
       "      <td>SG</td>\n",
       "      <td>27.0</td>\n",
       "      <td>6-5</td>\n",
       "      <td>205.0</td>\n",
       "      <td>Boston University</td>\n",
       "      <td>NaN</td>\n",
       "    </tr>\n",
       "    <tr>\n",
       "      <th>3</th>\n",
       "      <td>R.J. Hunter</td>\n",
       "      <td>Boston Celtics</td>\n",
       "      <td>28.0</td>\n",
       "      <td>SG</td>\n",
       "      <td>22.0</td>\n",
       "      <td>6-5</td>\n",
       "      <td>185.0</td>\n",
       "      <td>Georgia State</td>\n",
       "      <td>1148640.0</td>\n",
       "    </tr>\n",
       "    <tr>\n",
       "      <th>4</th>\n",
       "      <td>Jonas Jerebko</td>\n",
       "      <td>Boston Celtics</td>\n",
       "      <td>8.0</td>\n",
       "      <td>PF</td>\n",
       "      <td>29.0</td>\n",
       "      <td>6-10</td>\n",
       "      <td>231.0</td>\n",
       "      <td>NaN</td>\n",
       "      <td>5000000.0</td>\n",
       "    </tr>\n",
       "    <tr>\n",
       "      <th>5</th>\n",
       "      <td>Amir Johnson</td>\n",
       "      <td>Boston Celtics</td>\n",
       "      <td>90.0</td>\n",
       "      <td>PF</td>\n",
       "      <td>29.0</td>\n",
       "      <td>6-9</td>\n",
       "      <td>240.0</td>\n",
       "      <td>NaN</td>\n",
       "      <td>12000000.0</td>\n",
       "    </tr>\n",
       "    <tr>\n",
       "      <th>6</th>\n",
       "      <td>Jordan Mickey</td>\n",
       "      <td>Boston Celtics</td>\n",
       "      <td>55.0</td>\n",
       "      <td>PF</td>\n",
       "      <td>21.0</td>\n",
       "      <td>6-8</td>\n",
       "      <td>235.0</td>\n",
       "      <td>LSU</td>\n",
       "      <td>1170960.0</td>\n",
       "    </tr>\n",
       "    <tr>\n",
       "      <th>7</th>\n",
       "      <td>Kelly Olynyk</td>\n",
       "      <td>Boston Celtics</td>\n",
       "      <td>41.0</td>\n",
       "      <td>C</td>\n",
       "      <td>25.0</td>\n",
       "      <td>7-0</td>\n",
       "      <td>238.0</td>\n",
       "      <td>Gonzaga</td>\n",
       "      <td>2165160.0</td>\n",
       "    </tr>\n",
       "    <tr>\n",
       "      <th>8</th>\n",
       "      <td>Terry Rozier</td>\n",
       "      <td>Boston Celtics</td>\n",
       "      <td>12.0</td>\n",
       "      <td>PG</td>\n",
       "      <td>22.0</td>\n",
       "      <td>6-2</td>\n",
       "      <td>190.0</td>\n",
       "      <td>Louisville</td>\n",
       "      <td>1824360.0</td>\n",
       "    </tr>\n",
       "    <tr>\n",
       "      <th>9</th>\n",
       "      <td>Marcus Smart</td>\n",
       "      <td>Boston Celtics</td>\n",
       "      <td>36.0</td>\n",
       "      <td>PG</td>\n",
       "      <td>22.0</td>\n",
       "      <td>6-4</td>\n",
       "      <td>220.0</td>\n",
       "      <td>Oklahoma State</td>\n",
       "      <td>3431040.0</td>\n",
       "    </tr>\n",
       "  </tbody>\n",
       "</table>\n",
       "</div>"
      ],
      "text/plain": [
       "            Name            Team  Number Position   Age Height  Weight  \\\n",
       "0  Avery Bradley  Boston Celtics     0.0       PG  25.0    6-2   180.0   \n",
       "1    Jae Crowder  Boston Celtics    99.0       SF  25.0    6-6   235.0   \n",
       "2   John Holland  Boston Celtics    30.0       SG  27.0    6-5   205.0   \n",
       "3    R.J. Hunter  Boston Celtics    28.0       SG  22.0    6-5   185.0   \n",
       "4  Jonas Jerebko  Boston Celtics     8.0       PF  29.0   6-10   231.0   \n",
       "5   Amir Johnson  Boston Celtics    90.0       PF  29.0    6-9   240.0   \n",
       "6  Jordan Mickey  Boston Celtics    55.0       PF  21.0    6-8   235.0   \n",
       "7   Kelly Olynyk  Boston Celtics    41.0        C  25.0    7-0   238.0   \n",
       "8   Terry Rozier  Boston Celtics    12.0       PG  22.0    6-2   190.0   \n",
       "9   Marcus Smart  Boston Celtics    36.0       PG  22.0    6-4   220.0   \n",
       "\n",
       "             College      Salary  \n",
       "0              Texas   7730337.0  \n",
       "1          Marquette   6796117.0  \n",
       "2  Boston University         NaN  \n",
       "3      Georgia State   1148640.0  \n",
       "4                NaN   5000000.0  \n",
       "5                NaN  12000000.0  \n",
       "6                LSU   1170960.0  \n",
       "7            Gonzaga   2165160.0  \n",
       "8         Louisville   1824360.0  \n",
       "9     Oklahoma State   3431040.0  "
      ]
     },
     "execution_count": 16,
     "metadata": {},
     "output_type": "execute_result"
    }
   ],
   "source": [
    "\n",
    "# importing pandas package \n",
    "import pandas as pd \n",
    "  \n",
    "# making data frame from csv file \n",
    "df = pd.read_csv(\"nba.csv\") \n",
    "  \n",
    "# printing the first 10 rows of the dataframe \n",
    "df[:10] \n"
   ]
  },
  {
   "cell_type": "code",
   "execution_count": 17,
   "metadata": {},
   "outputs": [
    {
     "data": {
      "text/html": [
       "<div>\n",
       "<style scoped>\n",
       "    .dataframe tbody tr th:only-of-type {\n",
       "        vertical-align: middle;\n",
       "    }\n",
       "\n",
       "    .dataframe tbody tr th {\n",
       "        vertical-align: top;\n",
       "    }\n",
       "\n",
       "    .dataframe thead th {\n",
       "        text-align: right;\n",
       "    }\n",
       "</style>\n",
       "<table border=\"1\" class=\"dataframe\">\n",
       "  <thead>\n",
       "    <tr style=\"text-align: right;\">\n",
       "      <th></th>\n",
       "      <th>Number</th>\n",
       "      <th>Age</th>\n",
       "      <th>Weight</th>\n",
       "      <th>Salary</th>\n",
       "    </tr>\n",
       "  </thead>\n",
       "  <tbody>\n",
       "    <tr>\n",
       "      <th>sum</th>\n",
       "      <td>8079.0</td>\n",
       "      <td>12311.0</td>\n",
       "      <td>101236.0</td>\n",
       "      <td>2.159837e+09</td>\n",
       "    </tr>\n",
       "    <tr>\n",
       "      <th>min</th>\n",
       "      <td>0.0</td>\n",
       "      <td>19.0</td>\n",
       "      <td>161.0</td>\n",
       "      <td>3.088800e+04</td>\n",
       "    </tr>\n",
       "  </tbody>\n",
       "</table>\n",
       "</div>"
      ],
      "text/plain": [
       "     Number      Age    Weight        Salary\n",
       "sum  8079.0  12311.0  101236.0  2.159837e+09\n",
       "min     0.0     19.0     161.0  3.088800e+04"
      ]
     },
     "execution_count": 17,
     "metadata": {},
     "output_type": "execute_result"
    }
   ],
   "source": [
    "\n",
    "# Applying aggregation across all the columns  \n",
    "# sum and min will be found for each  \n",
    "# numeric type column in df dataframe \n",
    "  \n",
    "df.aggregate(['sum', 'min']) \n"
   ]
  },
  {
   "cell_type": "code",
   "execution_count": 18,
   "metadata": {},
   "outputs": [
    {
     "data": {
      "text/html": [
       "<div>\n",
       "<style scoped>\n",
       "    .dataframe tbody tr th:only-of-type {\n",
       "        vertical-align: middle;\n",
       "    }\n",
       "\n",
       "    .dataframe tbody tr th {\n",
       "        vertical-align: top;\n",
       "    }\n",
       "\n",
       "    .dataframe thead th {\n",
       "        text-align: right;\n",
       "    }\n",
       "</style>\n",
       "<table border=\"1\" class=\"dataframe\">\n",
       "  <thead>\n",
       "    <tr style=\"text-align: right;\">\n",
       "      <th></th>\n",
       "      <th>Number</th>\n",
       "      <th>Age</th>\n",
       "      <th>Weight</th>\n",
       "      <th>Salary</th>\n",
       "    </tr>\n",
       "  </thead>\n",
       "  <tbody>\n",
       "    <tr>\n",
       "      <th>sum</th>\n",
       "      <td>8079.0</td>\n",
       "      <td>12311.0</td>\n",
       "      <td>101236.0</td>\n",
       "      <td>2.159837e+09</td>\n",
       "    </tr>\n",
       "    <tr>\n",
       "      <th>max</th>\n",
       "      <td>99.0</td>\n",
       "      <td>40.0</td>\n",
       "      <td>307.0</td>\n",
       "      <td>2.500000e+07</td>\n",
       "    </tr>\n",
       "  </tbody>\n",
       "</table>\n",
       "</div>"
      ],
      "text/plain": [
       "     Number      Age    Weight        Salary\n",
       "sum  8079.0  12311.0  101236.0  2.159837e+09\n",
       "max    99.0     40.0     307.0  2.500000e+07"
      ]
     },
     "execution_count": 18,
     "metadata": {},
     "output_type": "execute_result"
    }
   ],
   "source": [
    "df.aggregate(['sum', 'max']) "
   ]
  },
  {
   "cell_type": "markdown",
   "metadata": {},
   "source": [
    "In Pandas, we can also apply different aggregation functions across different columns. For that, we need to pass a dictionary with key containing the column names and values containing the list of aggregation functions for any specific column"
   ]
  },
  {
   "cell_type": "code",
   "execution_count": 19,
   "metadata": {},
   "outputs": [
    {
     "data": {
      "text/html": [
       "<div>\n",
       "<style scoped>\n",
       "    .dataframe tbody tr th:only-of-type {\n",
       "        vertical-align: middle;\n",
       "    }\n",
       "\n",
       "    .dataframe tbody tr th {\n",
       "        vertical-align: top;\n",
       "    }\n",
       "\n",
       "    .dataframe thead th {\n",
       "        text-align: right;\n",
       "    }\n",
       "</style>\n",
       "<table border=\"1\" class=\"dataframe\">\n",
       "  <thead>\n",
       "    <tr style=\"text-align: right;\">\n",
       "      <th></th>\n",
       "      <th>Number</th>\n",
       "      <th>Age</th>\n",
       "      <th>Weight</th>\n",
       "      <th>Salary</th>\n",
       "    </tr>\n",
       "  </thead>\n",
       "  <tbody>\n",
       "    <tr>\n",
       "      <th>max</th>\n",
       "      <td>NaN</td>\n",
       "      <td>40.0</td>\n",
       "      <td>NaN</td>\n",
       "      <td>NaN</td>\n",
       "    </tr>\n",
       "    <tr>\n",
       "      <th>min</th>\n",
       "      <td>0.0</td>\n",
       "      <td>19.0</td>\n",
       "      <td>161.0</td>\n",
       "      <td>NaN</td>\n",
       "    </tr>\n",
       "    <tr>\n",
       "      <th>sum</th>\n",
       "      <td>8079.0</td>\n",
       "      <td>NaN</td>\n",
       "      <td>101236.0</td>\n",
       "      <td>2.159837e+09</td>\n",
       "    </tr>\n",
       "  </tbody>\n",
       "</table>\n",
       "</div>"
      ],
      "text/plain": [
       "     Number   Age    Weight        Salary\n",
       "max     NaN  40.0       NaN           NaN\n",
       "min     0.0  19.0     161.0           NaN\n",
       "sum  8079.0   NaN  101236.0  2.159837e+09"
      ]
     },
     "execution_count": 19,
     "metadata": {},
     "output_type": "execute_result"
    }
   ],
   "source": [
    "\n",
    "# importing pandas package \n",
    "import pandas as pd \n",
    "  \n",
    "# making data frame from csv file \n",
    "df = pd.read_csv(\"nba.csv\") \n",
    "  \n",
    "# We are going to find aggregation for these columns \n",
    "df.aggregate({\"Number\":['sum', 'min'], \n",
    "              \"Age\":['max', 'min'], \n",
    "              \"Weight\":['min', 'sum'],  \n",
    "              \"Salary\":['sum']}) \n"
   ]
  },
  {
   "cell_type": "markdown",
   "metadata": {},
   "source": [
    "#### Pandas dataframe.mean()"
   ]
  },
  {
   "cell_type": "markdown",
   "metadata": {},
   "source": [
    "Pandas dataframe.mean() function return the mean of the values for the requested axis. If the method is applied on a pandas series object, then the method returns a scalar value which is the mean value of all the observations in the dataframe. If the method is applied on a pandas dataframe object, then the method returns a pandas series object which contains the mean of the values over the specified axis.\n",
    "\n",
    "    Syntax: DataFrame.mean(axis=None, skipna=None, level=None, numeric_only=None, **kwargs)\n",
    "\n",
    "\n",
    "    Parameters :\n",
    "    axis : {index (0), columns (1)}\n",
    "    skipna : Exclude NA/null values when computing the result\n",
    "\n",
    "    level : If the axis is a MultiIndex (hierarchical), count along a particular level, collapsing into a Series\n",
    "\n",
    "    numeric_only : Include only float, int, boolean columns. If None, will attempt to use everything, then use only numeric data. Not implemented for Series.\n",
    "\n",
    "    Returns : mean : Series or DataFrame (if level specified) "
   ]
  },
  {
   "cell_type": "markdown",
   "metadata": {},
   "source": [
    "Use mean() function to find the mean of all the observations over the index axis"
   ]
  },
  {
   "cell_type": "code",
   "execution_count": 21,
   "metadata": {},
   "outputs": [
    {
     "data": {
      "text/html": [
       "<div>\n",
       "<style scoped>\n",
       "    .dataframe tbody tr th:only-of-type {\n",
       "        vertical-align: middle;\n",
       "    }\n",
       "\n",
       "    .dataframe tbody tr th {\n",
       "        vertical-align: top;\n",
       "    }\n",
       "\n",
       "    .dataframe thead th {\n",
       "        text-align: right;\n",
       "    }\n",
       "</style>\n",
       "<table border=\"1\" class=\"dataframe\">\n",
       "  <thead>\n",
       "    <tr style=\"text-align: right;\">\n",
       "      <th></th>\n",
       "      <th>A</th>\n",
       "      <th>B</th>\n",
       "      <th>C</th>\n",
       "      <th>D</th>\n",
       "    </tr>\n",
       "  </thead>\n",
       "  <tbody>\n",
       "    <tr>\n",
       "      <th>0</th>\n",
       "      <td>12</td>\n",
       "      <td>5</td>\n",
       "      <td>20</td>\n",
       "      <td>14</td>\n",
       "    </tr>\n",
       "    <tr>\n",
       "      <th>1</th>\n",
       "      <td>4</td>\n",
       "      <td>2</td>\n",
       "      <td>16</td>\n",
       "      <td>3</td>\n",
       "    </tr>\n",
       "    <tr>\n",
       "      <th>2</th>\n",
       "      <td>5</td>\n",
       "      <td>54</td>\n",
       "      <td>7</td>\n",
       "      <td>17</td>\n",
       "    </tr>\n",
       "    <tr>\n",
       "      <th>3</th>\n",
       "      <td>44</td>\n",
       "      <td>3</td>\n",
       "      <td>3</td>\n",
       "      <td>2</td>\n",
       "    </tr>\n",
       "    <tr>\n",
       "      <th>4</th>\n",
       "      <td>1</td>\n",
       "      <td>2</td>\n",
       "      <td>8</td>\n",
       "      <td>6</td>\n",
       "    </tr>\n",
       "  </tbody>\n",
       "</table>\n",
       "</div>"
      ],
      "text/plain": [
       "    A   B   C   D\n",
       "0  12   5  20  14\n",
       "1   4   2  16   3\n",
       "2   5  54   7  17\n",
       "3  44   3   3   2\n",
       "4   1   2   8   6"
      ]
     },
     "execution_count": 21,
     "metadata": {},
     "output_type": "execute_result"
    }
   ],
   "source": [
    "\n",
    "# importing pandas as pd \n",
    "import pandas as pd \n",
    "  \n",
    "# Creating the dataframe  \n",
    "df = pd.DataFrame({\"A\":[12, 4, 5, 44, 1], \n",
    "                   \"B\":[5, 2, 54, 3, 2],  \n",
    "                   \"C\":[20, 16, 7, 3, 8], \n",
    "                   \"D\":[14, 3, 17, 2, 6]}) \n",
    "  \n",
    "# Print the dataframe \n",
    "df \n"
   ]
  },
  {
   "cell_type": "code",
   "execution_count": 22,
   "metadata": {},
   "outputs": [
    {
     "data": {
      "text/plain": [
       "A    13.2\n",
       "B    13.2\n",
       "C    10.8\n",
       "D     8.4\n",
       "dtype: float64"
      ]
     },
     "execution_count": 22,
     "metadata": {},
     "output_type": "execute_result"
    }
   ],
   "source": [
    "\n",
    "# Even if we do not specify axis = 0, \n",
    "# the method will return the mean over \n",
    "# the index axis by default \n",
    "df.mean(axis = 0) \n"
   ]
  },
  {
   "cell_type": "markdown",
   "metadata": {},
   "source": [
    "Use mean() function to find the mean of all the observations over the index axis"
   ]
  },
  {
   "cell_type": "code",
   "execution_count": 23,
   "metadata": {},
   "outputs": [
    {
     "data": {
      "text/html": [
       "<div>\n",
       "<style scoped>\n",
       "    .dataframe tbody tr th:only-of-type {\n",
       "        vertical-align: middle;\n",
       "    }\n",
       "\n",
       "    .dataframe tbody tr th {\n",
       "        vertical-align: top;\n",
       "    }\n",
       "\n",
       "    .dataframe thead th {\n",
       "        text-align: right;\n",
       "    }\n",
       "</style>\n",
       "<table border=\"1\" class=\"dataframe\">\n",
       "  <thead>\n",
       "    <tr style=\"text-align: right;\">\n",
       "      <th></th>\n",
       "      <th>A</th>\n",
       "      <th>B</th>\n",
       "      <th>C</th>\n",
       "      <th>D</th>\n",
       "    </tr>\n",
       "  </thead>\n",
       "  <tbody>\n",
       "    <tr>\n",
       "      <th>0</th>\n",
       "      <td>12</td>\n",
       "      <td>5</td>\n",
       "      <td>20</td>\n",
       "      <td>14</td>\n",
       "    </tr>\n",
       "    <tr>\n",
       "      <th>1</th>\n",
       "      <td>4</td>\n",
       "      <td>2</td>\n",
       "      <td>16</td>\n",
       "      <td>3</td>\n",
       "    </tr>\n",
       "    <tr>\n",
       "      <th>2</th>\n",
       "      <td>5</td>\n",
       "      <td>54</td>\n",
       "      <td>7</td>\n",
       "      <td>17</td>\n",
       "    </tr>\n",
       "    <tr>\n",
       "      <th>3</th>\n",
       "      <td>44</td>\n",
       "      <td>3</td>\n",
       "      <td>3</td>\n",
       "      <td>2</td>\n",
       "    </tr>\n",
       "    <tr>\n",
       "      <th>4</th>\n",
       "      <td>1</td>\n",
       "      <td>2</td>\n",
       "      <td>8</td>\n",
       "      <td>6</td>\n",
       "    </tr>\n",
       "  </tbody>\n",
       "</table>\n",
       "</div>"
      ],
      "text/plain": [
       "    A   B   C   D\n",
       "0  12   5  20  14\n",
       "1   4   2  16   3\n",
       "2   5  54   7  17\n",
       "3  44   3   3   2\n",
       "4   1   2   8   6"
      ]
     },
     "execution_count": 23,
     "metadata": {},
     "output_type": "execute_result"
    }
   ],
   "source": [
    "\n",
    "# importing pandas as pd \n",
    "import pandas as pd \n",
    "  \n",
    "# Creating the dataframe  \n",
    "df = pd.DataFrame({\"A\":[12, 4, 5, 44, 1], \n",
    "                   \"B\":[5, 2, 54, 3, 2],  \n",
    "                   \"C\":[20, 16, 7, 3, 8], \n",
    "                   \"D\":[14, 3, 17, 2, 6]}) \n",
    "  \n",
    "# Print the dataframe \n",
    "df \n"
   ]
  },
  {
   "cell_type": "code",
   "execution_count": 24,
   "metadata": {},
   "outputs": [
    {
     "data": {
      "text/plain": [
       "A    13.2\n",
       "B    13.2\n",
       "C    10.8\n",
       "D     8.4\n",
       "dtype: float64"
      ]
     },
     "execution_count": 24,
     "metadata": {},
     "output_type": "execute_result"
    }
   ],
   "source": [
    "\n",
    "# Even if we do not specify axis = 0, \n",
    "# the method will return the mean over \n",
    "# the index axis by default \n",
    "df.mean(axis = 0) \n"
   ]
  },
  {
   "cell_type": "markdown",
   "metadata": {},
   "source": [
    " Use mean() function on a dataframe which has Na values. Also find the mean over the column axis"
   ]
  },
  {
   "cell_type": "code",
   "execution_count": 26,
   "metadata": {},
   "outputs": [
    {
     "data": {
      "text/plain": [
       "0    13.250000\n",
       "1     6.250000\n",
       "2    23.333333\n",
       "3     2.666667\n",
       "4     5.000000\n",
       "dtype: float64"
      ]
     },
     "execution_count": 26,
     "metadata": {},
     "output_type": "execute_result"
    }
   ],
   "source": [
    "\n",
    "# importing pandas as pd \n",
    "import pandas as pd \n",
    "  \n",
    "# Creating the dataframe  \n",
    "df = pd.DataFrame({\"A\":[12, 4, 5, None, 1], \n",
    "                   \"B\":[7, 2, 54, 3, None], \n",
    "                   \"C\":[20, 16, 11, 3, 8], \n",
    "                   \"D\":[14, 3, None, 2, 6]}) \n",
    "  \n",
    "# skip the Na values while finding the mean \n",
    "df.mean(axis = 1, skipna = True) \n"
   ]
  },
  {
   "cell_type": "markdown",
   "metadata": {},
   "source": [
    "#### Pandas Series.mean()"
   ]
  },
  {
   "cell_type": "markdown",
   "metadata": {},
   "source": [
    "Pandas Series.mean() function return the mean of the underlying data in the given Series object.\n",
    "\n",
    "    Syntax: Series.mean(axis=None, skipna=None, level=None, numeric_only=None, **kwargs)\n",
    "\n",
    "\n",
    "    Parameter :\n",
    "    axis : Axis for the function to be applied on.\n",
    "    skipna : Exclude NA/null values when computing the result.\n",
    "    level : If the axis is a MultiIndex (hierarchical), count along a particular level, collapsing into a scalar.\n",
    "    numeric_only : Include only float, int, boolean columns.\n",
    "    **kwargs : Additional keyword arguments to be passed to the function.\n",
    "\n",
    "    Returns : mean : scalar or Series (if level specified) "
   ]
  },
  {
   "cell_type": "markdown",
   "metadata": {},
   "source": [
    "Use Series.mean() function to find the mean of the underlying data in the given series object."
   ]
  },
  {
   "cell_type": "code",
   "execution_count": 28,
   "metadata": {},
   "outputs": [
    {
     "name": "stdout",
     "output_type": "stream",
     "text": [
      "Coca Cola    10\n",
      "Sprite       25\n",
      "Coke          3\n",
      "Fanta        25\n",
      "Dew          24\n",
      "ThumbsUp      6\n",
      "dtype: int64\n"
     ]
    }
   ],
   "source": [
    "# importing pandas as pd \n",
    "import pandas as pd \n",
    "  \n",
    "# Creating the Series \n",
    "sr = pd.Series([10, 25, 3, 25, 24, 6]) \n",
    "  \n",
    "# Create the Index \n",
    "index_ = ['Coca Cola', 'Sprite', 'Coke', 'Fanta', 'Dew', 'ThumbsUp'] \n",
    "  \n",
    "# set the index \n",
    "sr.index = index_ \n",
    "  \n",
    "# Print the series \n",
    "print(sr)"
   ]
  },
  {
   "cell_type": "markdown",
   "metadata": {},
   "source": [
    "Now we will use Series.mean() function to find the mean of the given series object."
   ]
  },
  {
   "cell_type": "code",
   "execution_count": 29,
   "metadata": {},
   "outputs": [
    {
     "name": "stdout",
     "output_type": "stream",
     "text": [
      "15.5\n"
     ]
    }
   ],
   "source": [
    "\n",
    "# return the mean \n",
    "result = sr.mean() \n",
    "  \n",
    "# Print the result \n",
    "print(result) \n"
   ]
  },
  {
   "cell_type": "markdown",
   "metadata": {},
   "source": [
    " Use Series.mean() function to find the mean of the underlying data in the given series object. The given series object also contains some missing values."
   ]
  },
  {
   "cell_type": "code",
   "execution_count": 30,
   "metadata": {},
   "outputs": [
    {
     "name": "stdout",
     "output_type": "stream",
     "text": [
      "0    19.5000\n",
      "1    16.8000\n",
      "2        NaN\n",
      "3    22.7800\n",
      "4    16.8000\n",
      "5    20.1240\n",
      "6        NaN\n",
      "7    18.1002\n",
      "8    19.5000\n",
      "dtype: float64\n"
     ]
    }
   ],
   "source": [
    "\n",
    "# importing pandas as pd \n",
    "import pandas as pd \n",
    "  \n",
    "# Creating the Series \n",
    "sr = pd.Series([19.5, 16.8, None, 22.78, 16.8, 20.124, None, 18.1002, 19.5]) \n",
    "  \n",
    "# Print the series \n",
    "print(sr) \n"
   ]
  },
  {
   "cell_type": "code",
   "execution_count": 31,
   "metadata": {},
   "outputs": [
    {
     "name": "stdout",
     "output_type": "stream",
     "text": [
      "19.086314285714284\n"
     ]
    }
   ],
   "source": [
    "\n",
    "# return the mean \n",
    "# skip all the missing values \n",
    "result = sr.mean(skipna = True) \n",
    "  \n",
    "# Print the result \n",
    "print(result) \n"
   ]
  },
  {
   "cell_type": "markdown",
   "metadata": {},
   "source": [
    "#### Pandas dataframe.mad()"
   ]
  },
  {
   "cell_type": "markdown",
   "metadata": {},
   "source": [
    "Pandas dataframe.mad() function return the mean absolute deviation of the values for the requested axis. The mean absolute deviation of a dataset is the average distance between each data point and the mean. It gives us an idea about the variability in a dataset."
   ]
  },
  {
   "cell_type": "markdown",
   "metadata": {},
   "source": [
    "    Syntax: DataFrame.mad(axis=None, skipna=None, level=None)\n",
    "\n",
    "\n",
    "    Parameters :\n",
    "    axis : {index (0), columns (1)}\n",
    "    skipna : Exclude NA/null values when computing the result\n",
    "    level : If the axis is a MultiIndex (hierarchical), count along a particular level, collapsing into a Series\n",
    "    numeric_only : Include only float, int, boolean columns. If None, will attempt to use everything, then use only numeric data. Not implemented for Series.\n",
    "\n",
    "    Returns : mad : Series or DataFrame (if level specified)\n"
   ]
  },
  {
   "cell_type": "markdown",
   "metadata": {},
   "source": [
    " Use mad() function to find the mean absolute deviation of the values over the index axis"
   ]
  },
  {
   "cell_type": "code",
   "execution_count": 32,
   "metadata": {},
   "outputs": [
    {
     "data": {
      "text/html": [
       "<div>\n",
       "<style scoped>\n",
       "    .dataframe tbody tr th:only-of-type {\n",
       "        vertical-align: middle;\n",
       "    }\n",
       "\n",
       "    .dataframe tbody tr th {\n",
       "        vertical-align: top;\n",
       "    }\n",
       "\n",
       "    .dataframe thead th {\n",
       "        text-align: right;\n",
       "    }\n",
       "</style>\n",
       "<table border=\"1\" class=\"dataframe\">\n",
       "  <thead>\n",
       "    <tr style=\"text-align: right;\">\n",
       "      <th></th>\n",
       "      <th>A</th>\n",
       "      <th>B</th>\n",
       "      <th>C</th>\n",
       "      <th>D</th>\n",
       "    </tr>\n",
       "  </thead>\n",
       "  <tbody>\n",
       "    <tr>\n",
       "      <th>0</th>\n",
       "      <td>12</td>\n",
       "      <td>5</td>\n",
       "      <td>20</td>\n",
       "      <td>14</td>\n",
       "    </tr>\n",
       "    <tr>\n",
       "      <th>1</th>\n",
       "      <td>4</td>\n",
       "      <td>2</td>\n",
       "      <td>16</td>\n",
       "      <td>3</td>\n",
       "    </tr>\n",
       "    <tr>\n",
       "      <th>2</th>\n",
       "      <td>5</td>\n",
       "      <td>54</td>\n",
       "      <td>7</td>\n",
       "      <td>17</td>\n",
       "    </tr>\n",
       "    <tr>\n",
       "      <th>3</th>\n",
       "      <td>44</td>\n",
       "      <td>3</td>\n",
       "      <td>3</td>\n",
       "      <td>2</td>\n",
       "    </tr>\n",
       "    <tr>\n",
       "      <th>4</th>\n",
       "      <td>1</td>\n",
       "      <td>2</td>\n",
       "      <td>8</td>\n",
       "      <td>6</td>\n",
       "    </tr>\n",
       "  </tbody>\n",
       "</table>\n",
       "</div>"
      ],
      "text/plain": [
       "    A   B   C   D\n",
       "0  12   5  20  14\n",
       "1   4   2  16   3\n",
       "2   5  54   7  17\n",
       "3  44   3   3   2\n",
       "4   1   2   8   6"
      ]
     },
     "execution_count": 32,
     "metadata": {},
     "output_type": "execute_result"
    }
   ],
   "source": [
    "\n",
    "# importing pandas as pd \n",
    "import pandas as pd \n",
    "  \n",
    "# Creating the dataframe  \n",
    "df = pd.DataFrame({\"A\":[12, 4, 5, 44, 1], \n",
    "                   \"B\":[5, 2, 54, 3, 2],  \n",
    "                   \"C\":[20, 16, 7, 3, 8], \n",
    "                   \"D\":[14, 3, 17, 2, 6]}) \n",
    "  \n",
    "# Print the dataframe \n",
    "df \n"
   ]
  },
  {
   "cell_type": "code",
   "execution_count": 33,
   "metadata": {},
   "outputs": [
    {
     "data": {
      "text/plain": [
       "A    12.32\n",
       "B    16.32\n",
       "C     5.76\n",
       "D     5.68\n",
       "dtype: float64"
      ]
     },
     "execution_count": 33,
     "metadata": {},
     "output_type": "execute_result"
    }
   ],
   "source": [
    "\n",
    "# find the mean absolute deviation  \n",
    "# over the index axis \n",
    "df.mad(axis = 0) \n"
   ]
  },
  {
   "cell_type": "markdown",
   "metadata": {},
   "source": [
    "Use mad() function to find the mean absolute deviation of values over the column axis which is having some Na values in it."
   ]
  },
  {
   "cell_type": "code",
   "execution_count": 34,
   "metadata": {},
   "outputs": [
    {
     "data": {
      "text/plain": [
       "0     3.750000\n",
       "1     4.875000\n",
       "2    20.444444\n",
       "3     0.444444\n",
       "4     2.666667\n",
       "dtype: float64"
      ]
     },
     "execution_count": 34,
     "metadata": {},
     "output_type": "execute_result"
    }
   ],
   "source": [
    "\n",
    "# importing pandas as pd \n",
    "import pandas as pd \n",
    "  \n",
    "# Creating the dataframe  \n",
    "df = pd.DataFrame({\"A\":[12, 4, 5, None, 1], \n",
    "                   \"B\":[7, 2, 54, 3, None], \n",
    "                   \"C\":[20, 16, 11, 3, 8],  \n",
    "                   \"D\":[14, 3, None, 2, 6]}) \n",
    "  \n",
    "# To find the mean absolute deviation \n",
    "# skip the Na values when finding the mad value \n",
    "df.mad(axis = 1, skipna = True) \n"
   ]
  },
  {
   "cell_type": "markdown",
   "metadata": {},
   "source": [
    "#### Pandas Series.mad() to calculate Mean Absolute Deviation of a Series"
   ]
  },
  {
   "cell_type": "markdown",
   "metadata": {},
   "source": [
    "Pandas provide a method to make Calculation of MAD (Mean Absolute Deviation) very easy. MAD is defined as average distance between each value and mean."
   ]
  },
  {
   "cell_type": "markdown",
   "metadata": {},
   "source": [
    " Syntax: Series.mad(axis=None, skipna=None, level=None)\n",
    "\n",
    "Parameters:\n",
    "axis: 0 or ‘index’ for row wise operation and 1 or ‘columns’ for column wise operation.\n",
    "skipna: Includes NaN values too if False, Result will also be NaN even if a single Null value is included.\n",
    "level: Defines level name or number in case of multilevel series.\n",
    "\n",
    "Return Type: Float valu"
   ]
  },
  {
   "cell_type": "markdown",
   "metadata": {},
   "source": [
    "In this example, a Series is created from a Python List using Pandas .Series() method. The .mad() method is called on series with all default parameters."
   ]
  },
  {
   "cell_type": "code",
   "execution_count": 35,
   "metadata": {},
   "outputs": [
    {
     "data": {
      "text/plain": [
       "5.876543209876543"
      ]
     },
     "execution_count": 35,
     "metadata": {},
     "output_type": "execute_result"
    }
   ],
   "source": [
    "\n",
    "# importing pandas module  \n",
    "import pandas as pd  \n",
    "    \n",
    "# importing numpy module  \n",
    "import numpy as np  \n",
    "    \n",
    "# creating list \n",
    "list =[5, 12, 1, 0, 4, 22, 15, 3, 9] \n",
    "  \n",
    "# creating series \n",
    "series = pd.Series(list) \n",
    "  \n",
    "# calling .mad() method \n",
    "result = series.mad() \n",
    "  \n",
    "# display \n",
    "result \n"
   ]
  },
  {
   "cell_type": "markdown",
   "metadata": {},
   "source": [
    "Explanation:\n",
    "\n",
    "    Calculating Mean of series mean = (5+12+1+0+4+22+15+3+9) / 9 = 7.8888\n",
    "\n",
    "    MAD = | (5-7.88)+(12-7.88)+(1-7.88)+(0-7.88)+(4-7.88)+(22-7.88)+(15-7.88)+(3-7.88)+(9-7.88)) | / 9.00\n",
    "\n",
    "    MAD = (2.88 + 4.12 + 6.88 + 7.88 + 3.88 + 14.12 + 7.12 + 4.88 + 1.12) / 9.00\n",
    "\n",
    "    MAD = 5.8755 (More accurately = 5.876543209876543)"
   ]
  },
  {
   "cell_type": "markdown",
   "metadata": {},
   "source": [
    "#### Pandas dataframe.sem()"
   ]
  },
  {
   "cell_type": "markdown",
   "metadata": {},
   "source": [
    "Pandas dataframe.sem() function return unbiased standard error of the mean over requested axis. The standard error (SE) of a statistic (usually an estimate of a parameter) is the standard deviation of its sampling distribution[1] or an estimate of that standard deviation. If the parameter or the statistic is the mean, it is called the standard error of the mean (SEM)."
   ]
  },
  {
   "cell_type": "markdown",
   "metadata": {},
   "source": [
    "     Syntax : DataFrame.sem(axis=None, skipna=None, level=None, ddof=1, numeric_only=None, **kwargs)\n",
    "\n",
    "\n",
    "    Parameters :\n",
    "    axis : {index (0), columns (1)}\n",
    "    skipna : Exclude NA/null values. If an entire row/column is NA, the result will be NA\n",
    "    level : If the axis is a MultiIndex (hierarchical), count along a particular level, collapsing into a Series\n",
    "    ddof : Delta Degrees of Freedom. The divisor used in calculations is N – ddof, where N represents the number of elements.\n",
    "    numeric_only : Include only float, int, boolean columns. If None, will attempt to use everything, then use only numeric data. Not implemented for Series\n",
    "\n",
    "    Return : sem : Series or DataFrame (if level specified)\n"
   ]
  },
  {
   "cell_type": "markdown",
   "metadata": {},
   "source": [
    " Use sem() function to find the standard error of the mean of the given dataframe over the index axis."
   ]
  },
  {
   "cell_type": "code",
   "execution_count": 36,
   "metadata": {},
   "outputs": [
    {
     "data": {
      "text/html": [
       "<div>\n",
       "<style scoped>\n",
       "    .dataframe tbody tr th:only-of-type {\n",
       "        vertical-align: middle;\n",
       "    }\n",
       "\n",
       "    .dataframe tbody tr th {\n",
       "        vertical-align: top;\n",
       "    }\n",
       "\n",
       "    .dataframe thead th {\n",
       "        text-align: right;\n",
       "    }\n",
       "</style>\n",
       "<table border=\"1\" class=\"dataframe\">\n",
       "  <thead>\n",
       "    <tr style=\"text-align: right;\">\n",
       "      <th></th>\n",
       "      <th>Name</th>\n",
       "      <th>Team</th>\n",
       "      <th>Number</th>\n",
       "      <th>Position</th>\n",
       "      <th>Age</th>\n",
       "      <th>Height</th>\n",
       "      <th>Weight</th>\n",
       "      <th>College</th>\n",
       "      <th>Salary</th>\n",
       "    </tr>\n",
       "  </thead>\n",
       "  <tbody>\n",
       "    <tr>\n",
       "      <th>0</th>\n",
       "      <td>Avery Bradley</td>\n",
       "      <td>Boston Celtics</td>\n",
       "      <td>0.0</td>\n",
       "      <td>PG</td>\n",
       "      <td>25.0</td>\n",
       "      <td>6-2</td>\n",
       "      <td>180.0</td>\n",
       "      <td>Texas</td>\n",
       "      <td>7730337.0</td>\n",
       "    </tr>\n",
       "    <tr>\n",
       "      <th>1</th>\n",
       "      <td>Jae Crowder</td>\n",
       "      <td>Boston Celtics</td>\n",
       "      <td>99.0</td>\n",
       "      <td>SF</td>\n",
       "      <td>25.0</td>\n",
       "      <td>6-6</td>\n",
       "      <td>235.0</td>\n",
       "      <td>Marquette</td>\n",
       "      <td>6796117.0</td>\n",
       "    </tr>\n",
       "    <tr>\n",
       "      <th>2</th>\n",
       "      <td>John Holland</td>\n",
       "      <td>Boston Celtics</td>\n",
       "      <td>30.0</td>\n",
       "      <td>SG</td>\n",
       "      <td>27.0</td>\n",
       "      <td>6-5</td>\n",
       "      <td>205.0</td>\n",
       "      <td>Boston University</td>\n",
       "      <td>NaN</td>\n",
       "    </tr>\n",
       "    <tr>\n",
       "      <th>3</th>\n",
       "      <td>R.J. Hunter</td>\n",
       "      <td>Boston Celtics</td>\n",
       "      <td>28.0</td>\n",
       "      <td>SG</td>\n",
       "      <td>22.0</td>\n",
       "      <td>6-5</td>\n",
       "      <td>185.0</td>\n",
       "      <td>Georgia State</td>\n",
       "      <td>1148640.0</td>\n",
       "    </tr>\n",
       "    <tr>\n",
       "      <th>4</th>\n",
       "      <td>Jonas Jerebko</td>\n",
       "      <td>Boston Celtics</td>\n",
       "      <td>8.0</td>\n",
       "      <td>PF</td>\n",
       "      <td>29.0</td>\n",
       "      <td>6-10</td>\n",
       "      <td>231.0</td>\n",
       "      <td>NaN</td>\n",
       "      <td>5000000.0</td>\n",
       "    </tr>\n",
       "    <tr>\n",
       "      <th>5</th>\n",
       "      <td>Amir Johnson</td>\n",
       "      <td>Boston Celtics</td>\n",
       "      <td>90.0</td>\n",
       "      <td>PF</td>\n",
       "      <td>29.0</td>\n",
       "      <td>6-9</td>\n",
       "      <td>240.0</td>\n",
       "      <td>NaN</td>\n",
       "      <td>12000000.0</td>\n",
       "    </tr>\n",
       "    <tr>\n",
       "      <th>6</th>\n",
       "      <td>Jordan Mickey</td>\n",
       "      <td>Boston Celtics</td>\n",
       "      <td>55.0</td>\n",
       "      <td>PF</td>\n",
       "      <td>21.0</td>\n",
       "      <td>6-8</td>\n",
       "      <td>235.0</td>\n",
       "      <td>LSU</td>\n",
       "      <td>1170960.0</td>\n",
       "    </tr>\n",
       "    <tr>\n",
       "      <th>7</th>\n",
       "      <td>Kelly Olynyk</td>\n",
       "      <td>Boston Celtics</td>\n",
       "      <td>41.0</td>\n",
       "      <td>C</td>\n",
       "      <td>25.0</td>\n",
       "      <td>7-0</td>\n",
       "      <td>238.0</td>\n",
       "      <td>Gonzaga</td>\n",
       "      <td>2165160.0</td>\n",
       "    </tr>\n",
       "    <tr>\n",
       "      <th>8</th>\n",
       "      <td>Terry Rozier</td>\n",
       "      <td>Boston Celtics</td>\n",
       "      <td>12.0</td>\n",
       "      <td>PG</td>\n",
       "      <td>22.0</td>\n",
       "      <td>6-2</td>\n",
       "      <td>190.0</td>\n",
       "      <td>Louisville</td>\n",
       "      <td>1824360.0</td>\n",
       "    </tr>\n",
       "    <tr>\n",
       "      <th>9</th>\n",
       "      <td>Marcus Smart</td>\n",
       "      <td>Boston Celtics</td>\n",
       "      <td>36.0</td>\n",
       "      <td>PG</td>\n",
       "      <td>22.0</td>\n",
       "      <td>6-4</td>\n",
       "      <td>220.0</td>\n",
       "      <td>Oklahoma State</td>\n",
       "      <td>3431040.0</td>\n",
       "    </tr>\n",
       "    <tr>\n",
       "      <th>10</th>\n",
       "      <td>Jared Sullinger</td>\n",
       "      <td>Boston Celtics</td>\n",
       "      <td>7.0</td>\n",
       "      <td>C</td>\n",
       "      <td>24.0</td>\n",
       "      <td>6-9</td>\n",
       "      <td>260.0</td>\n",
       "      <td>Ohio State</td>\n",
       "      <td>2569260.0</td>\n",
       "    </tr>\n",
       "    <tr>\n",
       "      <th>11</th>\n",
       "      <td>Isaiah Thomas</td>\n",
       "      <td>Boston Celtics</td>\n",
       "      <td>4.0</td>\n",
       "      <td>PG</td>\n",
       "      <td>27.0</td>\n",
       "      <td>5-9</td>\n",
       "      <td>185.0</td>\n",
       "      <td>Washington</td>\n",
       "      <td>6912869.0</td>\n",
       "    </tr>\n",
       "    <tr>\n",
       "      <th>12</th>\n",
       "      <td>Evan Turner</td>\n",
       "      <td>Boston Celtics</td>\n",
       "      <td>11.0</td>\n",
       "      <td>SG</td>\n",
       "      <td>27.0</td>\n",
       "      <td>6-7</td>\n",
       "      <td>220.0</td>\n",
       "      <td>Ohio State</td>\n",
       "      <td>3425510.0</td>\n",
       "    </tr>\n",
       "    <tr>\n",
       "      <th>13</th>\n",
       "      <td>James Young</td>\n",
       "      <td>Boston Celtics</td>\n",
       "      <td>13.0</td>\n",
       "      <td>SG</td>\n",
       "      <td>20.0</td>\n",
       "      <td>6-6</td>\n",
       "      <td>215.0</td>\n",
       "      <td>Kentucky</td>\n",
       "      <td>1749840.0</td>\n",
       "    </tr>\n",
       "    <tr>\n",
       "      <th>14</th>\n",
       "      <td>Tyler Zeller</td>\n",
       "      <td>Boston Celtics</td>\n",
       "      <td>44.0</td>\n",
       "      <td>C</td>\n",
       "      <td>26.0</td>\n",
       "      <td>7-0</td>\n",
       "      <td>253.0</td>\n",
       "      <td>North Carolina</td>\n",
       "      <td>2616975.0</td>\n",
       "    </tr>\n",
       "    <tr>\n",
       "      <th>15</th>\n",
       "      <td>Bojan Bogdanovic</td>\n",
       "      <td>Brooklyn Nets</td>\n",
       "      <td>44.0</td>\n",
       "      <td>SG</td>\n",
       "      <td>27.0</td>\n",
       "      <td>6-8</td>\n",
       "      <td>216.0</td>\n",
       "      <td>NaN</td>\n",
       "      <td>3425510.0</td>\n",
       "    </tr>\n",
       "    <tr>\n",
       "      <th>16</th>\n",
       "      <td>Markel Brown</td>\n",
       "      <td>Brooklyn Nets</td>\n",
       "      <td>22.0</td>\n",
       "      <td>SG</td>\n",
       "      <td>24.0</td>\n",
       "      <td>6-3</td>\n",
       "      <td>190.0</td>\n",
       "      <td>Oklahoma State</td>\n",
       "      <td>845059.0</td>\n",
       "    </tr>\n",
       "    <tr>\n",
       "      <th>17</th>\n",
       "      <td>Wayne Ellington</td>\n",
       "      <td>Brooklyn Nets</td>\n",
       "      <td>21.0</td>\n",
       "      <td>SG</td>\n",
       "      <td>28.0</td>\n",
       "      <td>6-4</td>\n",
       "      <td>200.0</td>\n",
       "      <td>North Carolina</td>\n",
       "      <td>1500000.0</td>\n",
       "    </tr>\n",
       "    <tr>\n",
       "      <th>18</th>\n",
       "      <td>Rondae Hollis-Jefferson</td>\n",
       "      <td>Brooklyn Nets</td>\n",
       "      <td>24.0</td>\n",
       "      <td>SG</td>\n",
       "      <td>21.0</td>\n",
       "      <td>6-7</td>\n",
       "      <td>220.0</td>\n",
       "      <td>Arizona</td>\n",
       "      <td>1335480.0</td>\n",
       "    </tr>\n",
       "    <tr>\n",
       "      <th>19</th>\n",
       "      <td>Jarrett Jack</td>\n",
       "      <td>Brooklyn Nets</td>\n",
       "      <td>2.0</td>\n",
       "      <td>PG</td>\n",
       "      <td>32.0</td>\n",
       "      <td>6-3</td>\n",
       "      <td>200.0</td>\n",
       "      <td>Georgia Tech</td>\n",
       "      <td>6300000.0</td>\n",
       "    </tr>\n",
       "    <tr>\n",
       "      <th>20</th>\n",
       "      <td>Sergey Karasev</td>\n",
       "      <td>Brooklyn Nets</td>\n",
       "      <td>10.0</td>\n",
       "      <td>SG</td>\n",
       "      <td>22.0</td>\n",
       "      <td>6-7</td>\n",
       "      <td>208.0</td>\n",
       "      <td>NaN</td>\n",
       "      <td>1599840.0</td>\n",
       "    </tr>\n",
       "    <tr>\n",
       "      <th>21</th>\n",
       "      <td>Sean Kilpatrick</td>\n",
       "      <td>Brooklyn Nets</td>\n",
       "      <td>6.0</td>\n",
       "      <td>SG</td>\n",
       "      <td>26.0</td>\n",
       "      <td>6-4</td>\n",
       "      <td>219.0</td>\n",
       "      <td>Cincinnati</td>\n",
       "      <td>134215.0</td>\n",
       "    </tr>\n",
       "    <tr>\n",
       "      <th>22</th>\n",
       "      <td>Shane Larkin</td>\n",
       "      <td>Brooklyn Nets</td>\n",
       "      <td>0.0</td>\n",
       "      <td>PG</td>\n",
       "      <td>23.0</td>\n",
       "      <td>5-11</td>\n",
       "      <td>175.0</td>\n",
       "      <td>Miami (FL)</td>\n",
       "      <td>1500000.0</td>\n",
       "    </tr>\n",
       "    <tr>\n",
       "      <th>23</th>\n",
       "      <td>Brook Lopez</td>\n",
       "      <td>Brooklyn Nets</td>\n",
       "      <td>11.0</td>\n",
       "      <td>C</td>\n",
       "      <td>28.0</td>\n",
       "      <td>7-0</td>\n",
       "      <td>275.0</td>\n",
       "      <td>Stanford</td>\n",
       "      <td>19689000.0</td>\n",
       "    </tr>\n",
       "    <tr>\n",
       "      <th>24</th>\n",
       "      <td>Chris McCullough</td>\n",
       "      <td>Brooklyn Nets</td>\n",
       "      <td>1.0</td>\n",
       "      <td>PF</td>\n",
       "      <td>21.0</td>\n",
       "      <td>6-11</td>\n",
       "      <td>200.0</td>\n",
       "      <td>Syracuse</td>\n",
       "      <td>1140240.0</td>\n",
       "    </tr>\n",
       "    <tr>\n",
       "      <th>25</th>\n",
       "      <td>Willie Reed</td>\n",
       "      <td>Brooklyn Nets</td>\n",
       "      <td>33.0</td>\n",
       "      <td>PF</td>\n",
       "      <td>26.0</td>\n",
       "      <td>6-10</td>\n",
       "      <td>220.0</td>\n",
       "      <td>Saint Louis</td>\n",
       "      <td>947276.0</td>\n",
       "    </tr>\n",
       "    <tr>\n",
       "      <th>26</th>\n",
       "      <td>Thomas Robinson</td>\n",
       "      <td>Brooklyn Nets</td>\n",
       "      <td>41.0</td>\n",
       "      <td>PF</td>\n",
       "      <td>25.0</td>\n",
       "      <td>6-10</td>\n",
       "      <td>237.0</td>\n",
       "      <td>Kansas</td>\n",
       "      <td>981348.0</td>\n",
       "    </tr>\n",
       "    <tr>\n",
       "      <th>27</th>\n",
       "      <td>Henry Sims</td>\n",
       "      <td>Brooklyn Nets</td>\n",
       "      <td>14.0</td>\n",
       "      <td>C</td>\n",
       "      <td>26.0</td>\n",
       "      <td>6-10</td>\n",
       "      <td>248.0</td>\n",
       "      <td>Georgetown</td>\n",
       "      <td>947276.0</td>\n",
       "    </tr>\n",
       "    <tr>\n",
       "      <th>28</th>\n",
       "      <td>Donald Sloan</td>\n",
       "      <td>Brooklyn Nets</td>\n",
       "      <td>15.0</td>\n",
       "      <td>PG</td>\n",
       "      <td>28.0</td>\n",
       "      <td>6-3</td>\n",
       "      <td>205.0</td>\n",
       "      <td>Texas A&amp;M</td>\n",
       "      <td>947276.0</td>\n",
       "    </tr>\n",
       "    <tr>\n",
       "      <th>29</th>\n",
       "      <td>Thaddeus Young</td>\n",
       "      <td>Brooklyn Nets</td>\n",
       "      <td>30.0</td>\n",
       "      <td>PF</td>\n",
       "      <td>27.0</td>\n",
       "      <td>6-8</td>\n",
       "      <td>221.0</td>\n",
       "      <td>Georgia Tech</td>\n",
       "      <td>11235955.0</td>\n",
       "    </tr>\n",
       "    <tr>\n",
       "      <th>...</th>\n",
       "      <td>...</td>\n",
       "      <td>...</td>\n",
       "      <td>...</td>\n",
       "      <td>...</td>\n",
       "      <td>...</td>\n",
       "      <td>...</td>\n",
       "      <td>...</td>\n",
       "      <td>...</td>\n",
       "      <td>...</td>\n",
       "    </tr>\n",
       "    <tr>\n",
       "      <th>428</th>\n",
       "      <td>Al-Farouq Aminu</td>\n",
       "      <td>Portland Trail Blazers</td>\n",
       "      <td>8.0</td>\n",
       "      <td>SF</td>\n",
       "      <td>25.0</td>\n",
       "      <td>6-9</td>\n",
       "      <td>215.0</td>\n",
       "      <td>Wake Forest</td>\n",
       "      <td>8042895.0</td>\n",
       "    </tr>\n",
       "    <tr>\n",
       "      <th>429</th>\n",
       "      <td>Pat Connaughton</td>\n",
       "      <td>Portland Trail Blazers</td>\n",
       "      <td>5.0</td>\n",
       "      <td>SG</td>\n",
       "      <td>23.0</td>\n",
       "      <td>6-5</td>\n",
       "      <td>206.0</td>\n",
       "      <td>Notre Dame</td>\n",
       "      <td>625093.0</td>\n",
       "    </tr>\n",
       "    <tr>\n",
       "      <th>430</th>\n",
       "      <td>Allen Crabbe</td>\n",
       "      <td>Portland Trail Blazers</td>\n",
       "      <td>23.0</td>\n",
       "      <td>SG</td>\n",
       "      <td>24.0</td>\n",
       "      <td>6-6</td>\n",
       "      <td>210.0</td>\n",
       "      <td>California</td>\n",
       "      <td>947276.0</td>\n",
       "    </tr>\n",
       "    <tr>\n",
       "      <th>431</th>\n",
       "      <td>Ed Davis</td>\n",
       "      <td>Portland Trail Blazers</td>\n",
       "      <td>17.0</td>\n",
       "      <td>C</td>\n",
       "      <td>27.0</td>\n",
       "      <td>6-10</td>\n",
       "      <td>240.0</td>\n",
       "      <td>North Carolina</td>\n",
       "      <td>6980802.0</td>\n",
       "    </tr>\n",
       "    <tr>\n",
       "      <th>432</th>\n",
       "      <td>Maurice Harkless</td>\n",
       "      <td>Portland Trail Blazers</td>\n",
       "      <td>4.0</td>\n",
       "      <td>SF</td>\n",
       "      <td>23.0</td>\n",
       "      <td>6-9</td>\n",
       "      <td>215.0</td>\n",
       "      <td>St. John's</td>\n",
       "      <td>2894059.0</td>\n",
       "    </tr>\n",
       "    <tr>\n",
       "      <th>433</th>\n",
       "      <td>Gerald Henderson</td>\n",
       "      <td>Portland Trail Blazers</td>\n",
       "      <td>9.0</td>\n",
       "      <td>SG</td>\n",
       "      <td>28.0</td>\n",
       "      <td>6-5</td>\n",
       "      <td>215.0</td>\n",
       "      <td>Duke</td>\n",
       "      <td>6000000.0</td>\n",
       "    </tr>\n",
       "    <tr>\n",
       "      <th>434</th>\n",
       "      <td>Chris Kaman</td>\n",
       "      <td>Portland Trail Blazers</td>\n",
       "      <td>35.0</td>\n",
       "      <td>C</td>\n",
       "      <td>34.0</td>\n",
       "      <td>7-0</td>\n",
       "      <td>265.0</td>\n",
       "      <td>Central Michigan</td>\n",
       "      <td>5016000.0</td>\n",
       "    </tr>\n",
       "    <tr>\n",
       "      <th>435</th>\n",
       "      <td>Meyers Leonard</td>\n",
       "      <td>Portland Trail Blazers</td>\n",
       "      <td>11.0</td>\n",
       "      <td>PF</td>\n",
       "      <td>24.0</td>\n",
       "      <td>7-1</td>\n",
       "      <td>245.0</td>\n",
       "      <td>Illinois</td>\n",
       "      <td>3075880.0</td>\n",
       "    </tr>\n",
       "    <tr>\n",
       "      <th>436</th>\n",
       "      <td>Damian Lillard</td>\n",
       "      <td>Portland Trail Blazers</td>\n",
       "      <td>0.0</td>\n",
       "      <td>PG</td>\n",
       "      <td>25.0</td>\n",
       "      <td>6-3</td>\n",
       "      <td>195.0</td>\n",
       "      <td>Weber State</td>\n",
       "      <td>4236287.0</td>\n",
       "    </tr>\n",
       "    <tr>\n",
       "      <th>437</th>\n",
       "      <td>C.J. McCollum</td>\n",
       "      <td>Portland Trail Blazers</td>\n",
       "      <td>3.0</td>\n",
       "      <td>SG</td>\n",
       "      <td>24.0</td>\n",
       "      <td>6-4</td>\n",
       "      <td>200.0</td>\n",
       "      <td>Lehigh</td>\n",
       "      <td>2525160.0</td>\n",
       "    </tr>\n",
       "    <tr>\n",
       "      <th>438</th>\n",
       "      <td>Luis Montero</td>\n",
       "      <td>Portland Trail Blazers</td>\n",
       "      <td>44.0</td>\n",
       "      <td>SG</td>\n",
       "      <td>23.0</td>\n",
       "      <td>6-7</td>\n",
       "      <td>185.0</td>\n",
       "      <td>Westchester CC</td>\n",
       "      <td>525093.0</td>\n",
       "    </tr>\n",
       "    <tr>\n",
       "      <th>439</th>\n",
       "      <td>Mason Plumlee</td>\n",
       "      <td>Portland Trail Blazers</td>\n",
       "      <td>24.0</td>\n",
       "      <td>C</td>\n",
       "      <td>26.0</td>\n",
       "      <td>6-11</td>\n",
       "      <td>235.0</td>\n",
       "      <td>Duke</td>\n",
       "      <td>1415520.0</td>\n",
       "    </tr>\n",
       "    <tr>\n",
       "      <th>440</th>\n",
       "      <td>Brian Roberts</td>\n",
       "      <td>Portland Trail Blazers</td>\n",
       "      <td>2.0</td>\n",
       "      <td>PG</td>\n",
       "      <td>30.0</td>\n",
       "      <td>6-1</td>\n",
       "      <td>173.0</td>\n",
       "      <td>Dayton</td>\n",
       "      <td>2854940.0</td>\n",
       "    </tr>\n",
       "    <tr>\n",
       "      <th>441</th>\n",
       "      <td>Noah Vonleh</td>\n",
       "      <td>Portland Trail Blazers</td>\n",
       "      <td>21.0</td>\n",
       "      <td>PF</td>\n",
       "      <td>20.0</td>\n",
       "      <td>6-9</td>\n",
       "      <td>240.0</td>\n",
       "      <td>Indiana</td>\n",
       "      <td>2637720.0</td>\n",
       "    </tr>\n",
       "    <tr>\n",
       "      <th>442</th>\n",
       "      <td>Trevor Booker</td>\n",
       "      <td>Utah Jazz</td>\n",
       "      <td>33.0</td>\n",
       "      <td>PF</td>\n",
       "      <td>28.0</td>\n",
       "      <td>6-8</td>\n",
       "      <td>228.0</td>\n",
       "      <td>Clemson</td>\n",
       "      <td>4775000.0</td>\n",
       "    </tr>\n",
       "    <tr>\n",
       "      <th>443</th>\n",
       "      <td>Trey Burke</td>\n",
       "      <td>Utah Jazz</td>\n",
       "      <td>3.0</td>\n",
       "      <td>PG</td>\n",
       "      <td>23.0</td>\n",
       "      <td>6-1</td>\n",
       "      <td>191.0</td>\n",
       "      <td>Michigan</td>\n",
       "      <td>2658240.0</td>\n",
       "    </tr>\n",
       "    <tr>\n",
       "      <th>444</th>\n",
       "      <td>Alec Burks</td>\n",
       "      <td>Utah Jazz</td>\n",
       "      <td>10.0</td>\n",
       "      <td>SG</td>\n",
       "      <td>24.0</td>\n",
       "      <td>6-6</td>\n",
       "      <td>214.0</td>\n",
       "      <td>Colorado</td>\n",
       "      <td>9463484.0</td>\n",
       "    </tr>\n",
       "    <tr>\n",
       "      <th>445</th>\n",
       "      <td>Dante Exum</td>\n",
       "      <td>Utah Jazz</td>\n",
       "      <td>11.0</td>\n",
       "      <td>PG</td>\n",
       "      <td>20.0</td>\n",
       "      <td>6-6</td>\n",
       "      <td>190.0</td>\n",
       "      <td>NaN</td>\n",
       "      <td>3777720.0</td>\n",
       "    </tr>\n",
       "    <tr>\n",
       "      <th>446</th>\n",
       "      <td>Derrick Favors</td>\n",
       "      <td>Utah Jazz</td>\n",
       "      <td>15.0</td>\n",
       "      <td>PF</td>\n",
       "      <td>24.0</td>\n",
       "      <td>6-10</td>\n",
       "      <td>265.0</td>\n",
       "      <td>Georgia Tech</td>\n",
       "      <td>12000000.0</td>\n",
       "    </tr>\n",
       "    <tr>\n",
       "      <th>447</th>\n",
       "      <td>Rudy Gobert</td>\n",
       "      <td>Utah Jazz</td>\n",
       "      <td>27.0</td>\n",
       "      <td>C</td>\n",
       "      <td>23.0</td>\n",
       "      <td>7-1</td>\n",
       "      <td>245.0</td>\n",
       "      <td>NaN</td>\n",
       "      <td>1175880.0</td>\n",
       "    </tr>\n",
       "    <tr>\n",
       "      <th>448</th>\n",
       "      <td>Gordon Hayward</td>\n",
       "      <td>Utah Jazz</td>\n",
       "      <td>20.0</td>\n",
       "      <td>SF</td>\n",
       "      <td>26.0</td>\n",
       "      <td>6-8</td>\n",
       "      <td>226.0</td>\n",
       "      <td>Butler</td>\n",
       "      <td>15409570.0</td>\n",
       "    </tr>\n",
       "    <tr>\n",
       "      <th>449</th>\n",
       "      <td>Rodney Hood</td>\n",
       "      <td>Utah Jazz</td>\n",
       "      <td>5.0</td>\n",
       "      <td>SG</td>\n",
       "      <td>23.0</td>\n",
       "      <td>6-8</td>\n",
       "      <td>206.0</td>\n",
       "      <td>Duke</td>\n",
       "      <td>1348440.0</td>\n",
       "    </tr>\n",
       "    <tr>\n",
       "      <th>450</th>\n",
       "      <td>Joe Ingles</td>\n",
       "      <td>Utah Jazz</td>\n",
       "      <td>2.0</td>\n",
       "      <td>SF</td>\n",
       "      <td>28.0</td>\n",
       "      <td>6-8</td>\n",
       "      <td>226.0</td>\n",
       "      <td>NaN</td>\n",
       "      <td>2050000.0</td>\n",
       "    </tr>\n",
       "    <tr>\n",
       "      <th>451</th>\n",
       "      <td>Chris Johnson</td>\n",
       "      <td>Utah Jazz</td>\n",
       "      <td>23.0</td>\n",
       "      <td>SF</td>\n",
       "      <td>26.0</td>\n",
       "      <td>6-6</td>\n",
       "      <td>206.0</td>\n",
       "      <td>Dayton</td>\n",
       "      <td>981348.0</td>\n",
       "    </tr>\n",
       "    <tr>\n",
       "      <th>452</th>\n",
       "      <td>Trey Lyles</td>\n",
       "      <td>Utah Jazz</td>\n",
       "      <td>41.0</td>\n",
       "      <td>PF</td>\n",
       "      <td>20.0</td>\n",
       "      <td>6-10</td>\n",
       "      <td>234.0</td>\n",
       "      <td>Kentucky</td>\n",
       "      <td>2239800.0</td>\n",
       "    </tr>\n",
       "    <tr>\n",
       "      <th>453</th>\n",
       "      <td>Shelvin Mack</td>\n",
       "      <td>Utah Jazz</td>\n",
       "      <td>8.0</td>\n",
       "      <td>PG</td>\n",
       "      <td>26.0</td>\n",
       "      <td>6-3</td>\n",
       "      <td>203.0</td>\n",
       "      <td>Butler</td>\n",
       "      <td>2433333.0</td>\n",
       "    </tr>\n",
       "    <tr>\n",
       "      <th>454</th>\n",
       "      <td>Raul Neto</td>\n",
       "      <td>Utah Jazz</td>\n",
       "      <td>25.0</td>\n",
       "      <td>PG</td>\n",
       "      <td>24.0</td>\n",
       "      <td>6-1</td>\n",
       "      <td>179.0</td>\n",
       "      <td>NaN</td>\n",
       "      <td>900000.0</td>\n",
       "    </tr>\n",
       "    <tr>\n",
       "      <th>455</th>\n",
       "      <td>Tibor Pleiss</td>\n",
       "      <td>Utah Jazz</td>\n",
       "      <td>21.0</td>\n",
       "      <td>C</td>\n",
       "      <td>26.0</td>\n",
       "      <td>7-3</td>\n",
       "      <td>256.0</td>\n",
       "      <td>NaN</td>\n",
       "      <td>2900000.0</td>\n",
       "    </tr>\n",
       "    <tr>\n",
       "      <th>456</th>\n",
       "      <td>Jeff Withey</td>\n",
       "      <td>Utah Jazz</td>\n",
       "      <td>24.0</td>\n",
       "      <td>C</td>\n",
       "      <td>26.0</td>\n",
       "      <td>7-0</td>\n",
       "      <td>231.0</td>\n",
       "      <td>Kansas</td>\n",
       "      <td>947276.0</td>\n",
       "    </tr>\n",
       "    <tr>\n",
       "      <th>457</th>\n",
       "      <td>NaN</td>\n",
       "      <td>NaN</td>\n",
       "      <td>NaN</td>\n",
       "      <td>NaN</td>\n",
       "      <td>NaN</td>\n",
       "      <td>NaN</td>\n",
       "      <td>NaN</td>\n",
       "      <td>NaN</td>\n",
       "      <td>NaN</td>\n",
       "    </tr>\n",
       "  </tbody>\n",
       "</table>\n",
       "<p>458 rows × 9 columns</p>\n",
       "</div>"
      ],
      "text/plain": [
       "                        Name                    Team  Number Position   Age  \\\n",
       "0              Avery Bradley          Boston Celtics     0.0       PG  25.0   \n",
       "1                Jae Crowder          Boston Celtics    99.0       SF  25.0   \n",
       "2               John Holland          Boston Celtics    30.0       SG  27.0   \n",
       "3                R.J. Hunter          Boston Celtics    28.0       SG  22.0   \n",
       "4              Jonas Jerebko          Boston Celtics     8.0       PF  29.0   \n",
       "5               Amir Johnson          Boston Celtics    90.0       PF  29.0   \n",
       "6              Jordan Mickey          Boston Celtics    55.0       PF  21.0   \n",
       "7               Kelly Olynyk          Boston Celtics    41.0        C  25.0   \n",
       "8               Terry Rozier          Boston Celtics    12.0       PG  22.0   \n",
       "9               Marcus Smart          Boston Celtics    36.0       PG  22.0   \n",
       "10           Jared Sullinger          Boston Celtics     7.0        C  24.0   \n",
       "11             Isaiah Thomas          Boston Celtics     4.0       PG  27.0   \n",
       "12               Evan Turner          Boston Celtics    11.0       SG  27.0   \n",
       "13               James Young          Boston Celtics    13.0       SG  20.0   \n",
       "14              Tyler Zeller          Boston Celtics    44.0        C  26.0   \n",
       "15          Bojan Bogdanovic           Brooklyn Nets    44.0       SG  27.0   \n",
       "16              Markel Brown           Brooklyn Nets    22.0       SG  24.0   \n",
       "17           Wayne Ellington           Brooklyn Nets    21.0       SG  28.0   \n",
       "18   Rondae Hollis-Jefferson           Brooklyn Nets    24.0       SG  21.0   \n",
       "19              Jarrett Jack           Brooklyn Nets     2.0       PG  32.0   \n",
       "20            Sergey Karasev           Brooklyn Nets    10.0       SG  22.0   \n",
       "21           Sean Kilpatrick           Brooklyn Nets     6.0       SG  26.0   \n",
       "22              Shane Larkin           Brooklyn Nets     0.0       PG  23.0   \n",
       "23               Brook Lopez           Brooklyn Nets    11.0        C  28.0   \n",
       "24          Chris McCullough           Brooklyn Nets     1.0       PF  21.0   \n",
       "25               Willie Reed           Brooklyn Nets    33.0       PF  26.0   \n",
       "26           Thomas Robinson           Brooklyn Nets    41.0       PF  25.0   \n",
       "27                Henry Sims           Brooklyn Nets    14.0        C  26.0   \n",
       "28              Donald Sloan           Brooklyn Nets    15.0       PG  28.0   \n",
       "29            Thaddeus Young           Brooklyn Nets    30.0       PF  27.0   \n",
       "..                       ...                     ...     ...      ...   ...   \n",
       "428          Al-Farouq Aminu  Portland Trail Blazers     8.0       SF  25.0   \n",
       "429          Pat Connaughton  Portland Trail Blazers     5.0       SG  23.0   \n",
       "430             Allen Crabbe  Portland Trail Blazers    23.0       SG  24.0   \n",
       "431                 Ed Davis  Portland Trail Blazers    17.0        C  27.0   \n",
       "432         Maurice Harkless  Portland Trail Blazers     4.0       SF  23.0   \n",
       "433         Gerald Henderson  Portland Trail Blazers     9.0       SG  28.0   \n",
       "434              Chris Kaman  Portland Trail Blazers    35.0        C  34.0   \n",
       "435           Meyers Leonard  Portland Trail Blazers    11.0       PF  24.0   \n",
       "436           Damian Lillard  Portland Trail Blazers     0.0       PG  25.0   \n",
       "437            C.J. McCollum  Portland Trail Blazers     3.0       SG  24.0   \n",
       "438             Luis Montero  Portland Trail Blazers    44.0       SG  23.0   \n",
       "439            Mason Plumlee  Portland Trail Blazers    24.0        C  26.0   \n",
       "440            Brian Roberts  Portland Trail Blazers     2.0       PG  30.0   \n",
       "441              Noah Vonleh  Portland Trail Blazers    21.0       PF  20.0   \n",
       "442            Trevor Booker               Utah Jazz    33.0       PF  28.0   \n",
       "443               Trey Burke               Utah Jazz     3.0       PG  23.0   \n",
       "444               Alec Burks               Utah Jazz    10.0       SG  24.0   \n",
       "445               Dante Exum               Utah Jazz    11.0       PG  20.0   \n",
       "446           Derrick Favors               Utah Jazz    15.0       PF  24.0   \n",
       "447              Rudy Gobert               Utah Jazz    27.0        C  23.0   \n",
       "448           Gordon Hayward               Utah Jazz    20.0       SF  26.0   \n",
       "449              Rodney Hood               Utah Jazz     5.0       SG  23.0   \n",
       "450               Joe Ingles               Utah Jazz     2.0       SF  28.0   \n",
       "451            Chris Johnson               Utah Jazz    23.0       SF  26.0   \n",
       "452               Trey Lyles               Utah Jazz    41.0       PF  20.0   \n",
       "453             Shelvin Mack               Utah Jazz     8.0       PG  26.0   \n",
       "454                Raul Neto               Utah Jazz    25.0       PG  24.0   \n",
       "455             Tibor Pleiss               Utah Jazz    21.0        C  26.0   \n",
       "456              Jeff Withey               Utah Jazz    24.0        C  26.0   \n",
       "457                      NaN                     NaN     NaN      NaN   NaN   \n",
       "\n",
       "    Height  Weight            College      Salary  \n",
       "0      6-2   180.0              Texas   7730337.0  \n",
       "1      6-6   235.0          Marquette   6796117.0  \n",
       "2      6-5   205.0  Boston University         NaN  \n",
       "3      6-5   185.0      Georgia State   1148640.0  \n",
       "4     6-10   231.0                NaN   5000000.0  \n",
       "5      6-9   240.0                NaN  12000000.0  \n",
       "6      6-8   235.0                LSU   1170960.0  \n",
       "7      7-0   238.0            Gonzaga   2165160.0  \n",
       "8      6-2   190.0         Louisville   1824360.0  \n",
       "9      6-4   220.0     Oklahoma State   3431040.0  \n",
       "10     6-9   260.0         Ohio State   2569260.0  \n",
       "11     5-9   185.0         Washington   6912869.0  \n",
       "12     6-7   220.0         Ohio State   3425510.0  \n",
       "13     6-6   215.0           Kentucky   1749840.0  \n",
       "14     7-0   253.0     North Carolina   2616975.0  \n",
       "15     6-8   216.0                NaN   3425510.0  \n",
       "16     6-3   190.0     Oklahoma State    845059.0  \n",
       "17     6-4   200.0     North Carolina   1500000.0  \n",
       "18     6-7   220.0            Arizona   1335480.0  \n",
       "19     6-3   200.0       Georgia Tech   6300000.0  \n",
       "20     6-7   208.0                NaN   1599840.0  \n",
       "21     6-4   219.0         Cincinnati    134215.0  \n",
       "22    5-11   175.0         Miami (FL)   1500000.0  \n",
       "23     7-0   275.0           Stanford  19689000.0  \n",
       "24    6-11   200.0           Syracuse   1140240.0  \n",
       "25    6-10   220.0        Saint Louis    947276.0  \n",
       "26    6-10   237.0             Kansas    981348.0  \n",
       "27    6-10   248.0         Georgetown    947276.0  \n",
       "28     6-3   205.0          Texas A&M    947276.0  \n",
       "29     6-8   221.0       Georgia Tech  11235955.0  \n",
       "..     ...     ...                ...         ...  \n",
       "428    6-9   215.0        Wake Forest   8042895.0  \n",
       "429    6-5   206.0         Notre Dame    625093.0  \n",
       "430    6-6   210.0         California    947276.0  \n",
       "431   6-10   240.0     North Carolina   6980802.0  \n",
       "432    6-9   215.0         St. John's   2894059.0  \n",
       "433    6-5   215.0               Duke   6000000.0  \n",
       "434    7-0   265.0   Central Michigan   5016000.0  \n",
       "435    7-1   245.0           Illinois   3075880.0  \n",
       "436    6-3   195.0        Weber State   4236287.0  \n",
       "437    6-4   200.0             Lehigh   2525160.0  \n",
       "438    6-7   185.0     Westchester CC    525093.0  \n",
       "439   6-11   235.0               Duke   1415520.0  \n",
       "440    6-1   173.0             Dayton   2854940.0  \n",
       "441    6-9   240.0            Indiana   2637720.0  \n",
       "442    6-8   228.0            Clemson   4775000.0  \n",
       "443    6-1   191.0           Michigan   2658240.0  \n",
       "444    6-6   214.0           Colorado   9463484.0  \n",
       "445    6-6   190.0                NaN   3777720.0  \n",
       "446   6-10   265.0       Georgia Tech  12000000.0  \n",
       "447    7-1   245.0                NaN   1175880.0  \n",
       "448    6-8   226.0             Butler  15409570.0  \n",
       "449    6-8   206.0               Duke   1348440.0  \n",
       "450    6-8   226.0                NaN   2050000.0  \n",
       "451    6-6   206.0             Dayton    981348.0  \n",
       "452   6-10   234.0           Kentucky   2239800.0  \n",
       "453    6-3   203.0             Butler   2433333.0  \n",
       "454    6-1   179.0                NaN    900000.0  \n",
       "455    7-3   256.0                NaN   2900000.0  \n",
       "456    7-0   231.0             Kansas    947276.0  \n",
       "457    NaN     NaN                NaN         NaN  \n",
       "\n",
       "[458 rows x 9 columns]"
      ]
     },
     "execution_count": 36,
     "metadata": {},
     "output_type": "execute_result"
    }
   ],
   "source": [
    "\n",
    "# importing pandas as pd \n",
    "import pandas as pd \n",
    "  \n",
    "# Creating the dataframe  \n",
    "df = pd.read_csv(\"nba.csv\") \n",
    "  \n",
    "# Print the dataframe \n",
    "df \n"
   ]
  },
  {
   "cell_type": "code",
   "execution_count": 37,
   "metadata": {},
   "outputs": [
    {
     "data": {
      "text/plain": [
       "Number         0.746862\n",
       "Age            0.206011\n",
       "Weight         1.233459\n",
       "Salary    247611.576815\n",
       "dtype: float64"
      ]
     },
     "execution_count": 37,
     "metadata": {},
     "output_type": "execute_result"
    }
   ],
   "source": [
    "\n",
    "# find standard error of the mean of all the columns \n",
    "df.sem(axis = 0) \n"
   ]
  },
  {
   "cell_type": "markdown",
   "metadata": {},
   "source": [
    "Notice, all the non-numeric columns and values are automatically not included in the calculation of the dataframe. We did not have to specifically input the numeric columns for the calculation of the standard error of the mean."
   ]
  },
  {
   "cell_type": "markdown",
   "metadata": {},
   "source": [
    "Use sem() function to find the standard error of the mean over the column axis. Also do not skip the NaN values in the calculation of the dataframe."
   ]
  },
  {
   "cell_type": "code",
   "execution_count": 38,
   "metadata": {},
   "outputs": [
    {
     "data": {
      "text/plain": [
       "0      1.932567e+06\n",
       "1      1.698999e+06\n",
       "2               NaN\n",
       "3      2.871404e+05\n",
       "4      1.249978e+06\n",
       "5      2.999970e+06\n",
       "6      2.927141e+05\n",
       "7      5.412647e+05\n",
       "8      4.560713e+05\n",
       "9      8.577368e+05\n",
       "10     6.422908e+05\n",
       "11     1.728199e+06\n",
       "12     8.563560e+05\n",
       "13     4.374393e+05\n",
       "14     6.542168e+05\n",
       "15     8.563536e+05\n",
       "16     2.112451e+05\n",
       "17     3.749793e+05\n",
       "18     3.338479e+05\n",
       "19     1.574981e+06\n",
       "20     3.999400e+05\n",
       "21     3.353287e+04\n",
       "22     3.749835e+05\n",
       "23     4.922224e+06\n",
       "24     2.850415e+05\n",
       "25     2.367958e+05\n",
       "26     2.453118e+05\n",
       "27     2.367950e+05\n",
       "28     2.367983e+05\n",
       "29     2.808966e+06\n",
       "           ...     \n",
       "428    2.010703e+06\n",
       "429    1.562538e+05\n",
       "430    2.367976e+05\n",
       "431    1.745177e+06\n",
       "432    7.234946e+05\n",
       "433    1.499979e+06\n",
       "434    1.253972e+06\n",
       "435    7.689467e+05\n",
       "436    1.059053e+06\n",
       "437    6.312711e+05\n",
       "438    1.312523e+05\n",
       "439    3.538563e+05\n",
       "440    7.137179e+05\n",
       "441    6.594066e+05\n",
       "442    1.193726e+06\n",
       "443    6.645419e+05\n",
       "444    2.365850e+06\n",
       "445    9.444116e+05\n",
       "446    2.999975e+06\n",
       "447    2.939454e+05\n",
       "448    3.852370e+06\n",
       "449    3.370905e+05\n",
       "450    5.124787e+05\n",
       "451    2.453158e+05\n",
       "452    5.599254e+05\n",
       "453    6.083135e+05\n",
       "454    2.249810e+05\n",
       "455    7.249748e+05\n",
       "456    2.367956e+05\n",
       "457             NaN\n",
       "Length: 458, dtype: float64"
      ]
     },
     "execution_count": 38,
     "metadata": {},
     "output_type": "execute_result"
    }
   ],
   "source": [
    "\n",
    "# importing pandas as pd \n",
    "import pandas as pd \n",
    "  \n",
    "# Creating the dataframe  \n",
    "df = pd.read_csv(\"nba.csv\") \n",
    "  \n",
    "# Calculate the standard error of  \n",
    "# the mean of all the rows in dataframe \n",
    "df.sem(axis = 1, skipna = False) \n"
   ]
  },
  {
   "cell_type": "markdown",
   "metadata": {},
   "source": [
    "#### Pandas Series.value_counts()"
   ]
  },
  {
   "cell_type": "markdown",
   "metadata": {},
   "source": [
    "Pandas Series.value_counts() function return a Series containing counts of unique values. The resulting object will be in descending order so that the first element is the most frequently-occurring element. Excludes NA values by default"
   ]
  },
  {
   "cell_type": "markdown",
   "metadata": {},
   "source": [
    "    Syntax: Series.value_counts(normalize=False, sort=True, ascending=False, bins=None, dropna=True)\n",
    "\n",
    "    Parameter :\n",
    "    normalize : If True then the object returned will contain the relative frequencies of the unique values.\n",
    "    sort : Sort by values.\n",
    "    ascending : Sort in ascending order.\n",
    "    bins : Rather than count values, group them into half-open bins, a convenience for pd.cut, only works with numeric data.\n",
    "    dropna : Don’t include counts of NaN.\n",
    "\n",
    "    Returns : counts : Series\n"
   ]
  },
  {
   "cell_type": "markdown",
   "metadata": {},
   "source": [
    "Use Series.value_counts() function to find the unique value counts of each element in the given Series object."
   ]
  },
  {
   "cell_type": "code",
   "execution_count": 39,
   "metadata": {},
   "outputs": [
    {
     "name": "stdout",
     "output_type": "stream",
     "text": [
      "0    New York\n",
      "1     Chicago\n",
      "2     Toronto\n",
      "3      Lisbon\n",
      "4         Rio\n",
      "5     Chicago\n",
      "6      Lisbon\n",
      "dtype: object\n"
     ]
    }
   ],
   "source": [
    "\n",
    "# importing pandas as pd \n",
    "import pandas as pd \n",
    "  \n",
    "# Creating the Series \n",
    "sr = pd.Series(['New York', 'Chicago', 'Toronto', 'Lisbon', 'Rio', 'Chicago', 'Lisbon']) \n",
    "  \n",
    "# Print the series \n",
    "print(sr) \n"
   ]
  },
  {
   "cell_type": "code",
   "execution_count": 40,
   "metadata": {},
   "outputs": [
    {
     "data": {
      "text/plain": [
       "Chicago     2\n",
       "Lisbon      2\n",
       "Rio         1\n",
       "Toronto     1\n",
       "New York    1\n",
       "dtype: int64"
      ]
     },
     "execution_count": 40,
     "metadata": {},
     "output_type": "execute_result"
    }
   ],
   "source": [
    "\n",
    "# find the value counts \n",
    "sr.value_counts() \n"
   ]
  },
  {
   "cell_type": "markdown",
   "metadata": {},
   "source": [
    "Use Series.value_counts() function to find the unique value counts of each element in the given Series object."
   ]
  },
  {
   "cell_type": "code",
   "execution_count": 41,
   "metadata": {},
   "outputs": [
    {
     "name": "stdout",
     "output_type": "stream",
     "text": [
      "0    100.0\n",
      "1    214.0\n",
      "2    325.0\n",
      "3     88.0\n",
      "4      NaN\n",
      "5    325.0\n",
      "6      NaN\n",
      "7    325.0\n",
      "8    100.0\n",
      "dtype: float64\n"
     ]
    }
   ],
   "source": [
    "\n",
    "# importing pandas as pd \n",
    "import pandas as pd \n",
    "  \n",
    "# Creating the Series \n",
    "sr = pd.Series([100, 214, 325, 88, None, 325, None, 325, 100]) \n",
    "  \n",
    "# Print the series \n",
    "print(sr) \n"
   ]
  },
  {
   "cell_type": "code",
   "execution_count": 42,
   "metadata": {},
   "outputs": [
    {
     "data": {
      "text/plain": [
       "325.0    3\n",
       "100.0    2\n",
       "88.0     1\n",
       "214.0    1\n",
       "dtype: int64"
      ]
     },
     "execution_count": 42,
     "metadata": {},
     "output_type": "execute_result"
    }
   ],
   "source": [
    "\n",
    "# find the value counts \n",
    "sr.value_counts() \n"
   ]
  },
  {
   "cell_type": "markdown",
   "metadata": {},
   "source": [
    "#### Pandas Index.value_counts()"
   ]
  },
  {
   "cell_type": "markdown",
   "metadata": {},
   "source": [
    "Pandas Index.value_counts() function returns object containing counts of unique values. The resulting object will be in descending order so that the first element is the most frequently-occurring element. Excludes NA values by default."
   ]
  },
  {
   "cell_type": "markdown",
   "metadata": {},
   "source": [
    "    Syntax: Index.value_counts(normalize=False, sort=True, ascending=False, bins=None, dropna=True)\n",
    "\n",
    "\n",
    "    Parameters :\n",
    "    normalize : If True then the object returned will contain the relative frequencies of the unique values.\n",
    "    sort : Sort by values\n",
    "    ascending : Sort in ascending order\n",
    "    bins : Rather than count values, group them into half-open bins, a convenience for pd.cut, only works with numeric data\n",
    "    dropna : Don’t include counts of NaN.\n",
    "\n",
    "    Returns : counts : Series "
   ]
  },
  {
   "cell_type": "markdown",
   "metadata": {},
   "source": [
    "Use Index.value_counts() function to count the number of unique values in the given Index."
   ]
  },
  {
   "cell_type": "code",
   "execution_count": 43,
   "metadata": {},
   "outputs": [
    {
     "name": "stdout",
     "output_type": "stream",
     "text": [
      "Index(['Harry', 'Mike', 'Arther', 'Nick', 'Harry', 'Arther'], dtype='object', name='Student')\n"
     ]
    }
   ],
   "source": [
    "\n",
    "# importing pandas as pd \n",
    "import pandas as pd \n",
    "  \n",
    "# Creating the index \n",
    "idx = pd.Index(['Harry', 'Mike', 'Arther', 'Nick', \n",
    "                'Harry', 'Arther'], name ='Student') \n",
    "  \n",
    "# Print the Index \n",
    "print(idx) \n"
   ]
  },
  {
   "cell_type": "code",
   "execution_count": 44,
   "metadata": {},
   "outputs": [
    {
     "data": {
      "text/plain": [
       "Arther    2\n",
       "Harry     2\n",
       "Nick      1\n",
       "Mike      1\n",
       "Name: Student, dtype: int64"
      ]
     },
     "execution_count": 44,
     "metadata": {},
     "output_type": "execute_result"
    }
   ],
   "source": [
    "\n",
    "# find the count of unique values in the index \n",
    "idx.value_counts() \n"
   ]
  },
  {
   "cell_type": "markdown",
   "metadata": {},
   "source": [
    " Use Index.value_counts() function to find the count of all unique values in the given index."
   ]
  },
  {
   "cell_type": "code",
   "execution_count": 45,
   "metadata": {},
   "outputs": [
    {
     "name": "stdout",
     "output_type": "stream",
     "text": [
      "Int64Index([21, 10, 30, 40, 50, 10, 50], dtype='int64')\n"
     ]
    }
   ],
   "source": [
    "\n",
    "# importing pandas as pd \n",
    "import pandas as pd \n",
    "  \n",
    "# Creating the index \n",
    "idx = pd.Index([21, 10, 30, 40, 50, 10, 50]) \n",
    "  \n",
    "# Print the Index \n",
    "print(idx) \n"
   ]
  },
  {
   "cell_type": "code",
   "execution_count": 46,
   "metadata": {},
   "outputs": [
    {
     "data": {
      "text/plain": [
       "10    2\n",
       "50    2\n",
       "30    1\n",
       "21    1\n",
       "40    1\n",
       "dtype: int64"
      ]
     },
     "execution_count": 46,
     "metadata": {},
     "output_type": "execute_result"
    }
   ],
   "source": [
    "\n",
    "# for finding the count of all  \n",
    "# unique values in the index. \n",
    "idx.value_counts() \n"
   ]
  }
 ],
 "metadata": {
  "kernelspec": {
   "display_name": "Python 3",
   "language": "python",
   "name": "python3"
  },
  "language_info": {
   "codemirror_mode": {
    "name": "ipython",
    "version": 3
   },
   "file_extension": ".py",
   "mimetype": "text/x-python",
   "name": "python",
   "nbconvert_exporter": "python",
   "pygments_lexer": "ipython3",
   "version": "3.7.3"
  }
 },
 "nbformat": 4,
 "nbformat_minor": 2
}
